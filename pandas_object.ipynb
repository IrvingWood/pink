{
 "cells": [
  {
   "cell_type": "code",
   "execution_count": null,
   "id": "d6b31786-7f30-42ef-822c-e1af74b2cd0e",
   "metadata": {},
   "outputs": [],
   "source": [
    "数据分析三剑客"
   ]
  },
  {
   "cell_type": "code",
   "execution_count": 1,
   "id": "750b3cce-e011-4788-a82a-47999033cc5c",
   "metadata": {},
   "outputs": [],
   "source": [
    "import numpy as np\n",
    "import pandas as pd\n",
    "from pandas import Series,DataFrame\n",
    "import matplotlib as mpl"
   ]
  },
  {
   "cell_type": "markdown",
   "id": "702247f0-a2ed-4e6a-b88b-92d0e60ce202",
   "metadata": {},
   "source": [
    "## <b>1、Series</b>"
   ]
  },
  {
   "cell_type": "markdown",
   "id": "26543028-cbf1-457a-81b3-a3989984f5a3",
   "metadata": {},
   "source": [
    "一维数组：有序的数据类型相同的集合\n",
    "Series:一维数组的强化版，增加了像字典一样的key-value的访问机制，同时保留了数组的访问机制\n",
    "\n",
    "字典：无序的集合"
   ]
  },
  {
   "cell_type": "markdown",
   "id": "adc84904-9c5e-4fea-9224-0c2513e83e83",
   "metadata": {},
   "source": [
    "Series是一种类似于一维数组的对象，有下面两个部分组成：\n",
    "* values:一组数据\n",
    "* index：相关的数据索引标签\n",
    " "
   ]
  },
  {
   "cell_type": "code",
   "execution_count": 9,
   "id": "bbd62d53-b1f3-4985-8dd4-2f2602f69663",
   "metadata": {},
   "outputs": [
    {
     "data": {
      "text/plain": [
       "0    1.0\n",
       "1    1.0\n",
       "2    1.0\n",
       "3    1.0\n",
       "4    1.0\n",
       "dtype: float64"
      ]
     },
     "execution_count": 9,
     "metadata": {},
     "output_type": "execute_result"
    }
   ],
   "source": [
    "# 用np.arr构造\n",
    "arr = np.ones(shape=5)\n",
    "s1 = Series(arr)\n",
    "s1"
   ]
  },
  {
   "cell_type": "code",
   "execution_count": 10,
   "id": "f1b1a49b-12fe-44e1-bf47-c5608249a32a",
   "metadata": {},
   "outputs": [],
   "source": [
    "arr[0]=6"
   ]
  },
  {
   "cell_type": "code",
   "execution_count": 11,
   "id": "95ba6f63-bdda-4d03-8469-12e79ee4dc38",
   "metadata": {},
   "outputs": [
    {
     "data": {
      "text/plain": [
       "0    6.0\n",
       "1    1.0\n",
       "2    1.0\n",
       "3    1.0\n",
       "4    1.0\n",
       "dtype: float64"
      ]
     },
     "execution_count": 11,
     "metadata": {},
     "output_type": "execute_result"
    }
   ],
   "source": [
    "s1"
   ]
  },
  {
   "cell_type": "code",
   "execution_count": 7,
   "id": "10f0aa5e-bfbd-4bd6-8aed-0158c4389b3c",
   "metadata": {},
   "outputs": [],
   "source": [
    "# 用列表构造\n",
    "names = [\"Wood\",\"luuna\",\"jaca\",\"Irving\"]\n",
    "s = Series(names)"
   ]
  },
  {
   "cell_type": "code",
   "execution_count": 6,
   "id": "0afb2aac-45c3-4f16-9b1e-95707b97f1e6",
   "metadata": {},
   "outputs": [
    {
     "data": {
      "text/plain": [
       "['Wood', 'luuna', 'jaca', 'Irving']"
      ]
     },
     "execution_count": 6,
     "metadata": {},
     "output_type": "execute_result"
    }
   ],
   "source": [
    "names"
   ]
  },
  {
   "cell_type": "code",
   "execution_count": 4,
   "id": "bb90cf77-12c1-41f2-8bff-4b34ca9a0af3",
   "metadata": {},
   "outputs": [
    {
     "data": {
      "text/plain": [
       "0      Wood\n",
       "1     luuna\n",
       "2      jaca\n",
       "3    Irving\n",
       "dtype: object"
      ]
     },
     "execution_count": 4,
     "metadata": {},
     "output_type": "execute_result"
    }
   ],
   "source": [
    "s"
   ]
  },
  {
   "cell_type": "code",
   "execution_count": 12,
   "id": "0ebaec44-4be7-417a-a07e-cc5c51d24326",
   "metadata": {},
   "outputs": [],
   "source": [
    "names[0] = \"WOOD\""
   ]
  },
  {
   "cell_type": "code",
   "execution_count": 13,
   "id": "01196c17-12fb-4eb2-b202-794f64c1ea01",
   "metadata": {},
   "outputs": [
    {
     "data": {
      "text/plain": [
       "0      Wood\n",
       "1     luuna\n",
       "2      jaca\n",
       "3    Irving\n",
       "dtype: object"
      ]
     },
     "execution_count": 13,
     "metadata": {},
     "output_type": "execute_result"
    }
   ],
   "source": [
    "s"
   ]
  },
  {
   "cell_type": "code",
   "execution_count": 14,
   "id": "bca7f2ea-aa1f-449b-a2f8-890035de2d3b",
   "metadata": {},
   "outputs": [
    {
     "data": {
      "text/plain": [
       "['WOOD', 'luuna', 'jaca', 'Irving']"
      ]
     },
     "execution_count": 14,
     "metadata": {},
     "output_type": "execute_result"
    }
   ],
   "source": [
    "names"
   ]
  },
  {
   "cell_type": "code",
   "execution_count": 16,
   "id": "798fe7d5-d82d-4086-b051-d52518c9f527",
   "metadata": {},
   "outputs": [
    {
     "data": {
      "text/plain": [
       "key1      WOOD\n",
       "key2     luuna\n",
       "key4      jaca\n",
       "key3    Irving\n",
       "dtype: object"
      ]
     },
     "execution_count": 16,
     "metadata": {},
     "output_type": "execute_result"
    }
   ],
   "source": [
    "# 如果没有手动指定显示索引，则使用隐士索引自动填充\n",
    "s2 = Series(names, index=[\"key1\",\"key2\",\"key4\",\"key3\",])\n",
    "s2"
   ]
  },
  {
   "cell_type": "markdown",
   "id": "14768faf-f49b-417a-83d0-ac95bd77041f",
   "metadata": {},
   "source": [
    "由字典创建"
   ]
  },
  {
   "cell_type": "code",
   "execution_count": 23,
   "id": "66f38fb3-819f-4664-93ad-0efc32ed1f0d",
   "metadata": {},
   "outputs": [
    {
     "data": {
      "text/plain": [
       "k1      Wood\n",
       "k2    cooper\n",
       "dtype: object"
      ]
     },
     "execution_count": 23,
     "metadata": {},
     "output_type": "execute_result"
    }
   ],
   "source": [
    "dict1 = {\n",
    "    \"k1\":\"Wood\",\n",
    "    \"k3\":\"luuna\",\n",
    "    \"k2\":\"cooper\"\n",
    "}\n",
    "# index的优先级要高于字典键值的优先级\n",
    "s3 = Series(data=dict1, index=[\"k1\",\"k2\"])\n",
    "s3"
   ]
  },
  {
   "cell_type": "code",
   "execution_count": 24,
   "id": "e3160207-864f-4411-9c20-9b7e4d3c4730",
   "metadata": {},
   "outputs": [
    {
     "data": {
      "text/plain": [
       "array([150, 150, 150, 300])"
      ]
     },
     "execution_count": 24,
     "metadata": {},
     "output_type": "execute_result"
    }
   ],
   "source": [
    "arr = np.array([150,150,150,300])\n",
    "arr"
   ]
  },
  {
   "cell_type": "code",
   "execution_count": 30,
   "id": "4a37b661-7c2f-475a-abc8-81e0a0983ac8",
   "metadata": {},
   "outputs": [
    {
     "data": {
      "text/plain": [
       "语文    150\n",
       "数学    150\n",
       "英语    150\n",
       "理综    300\n",
       "dtype: int64"
      ]
     },
     "execution_count": 30,
     "metadata": {},
     "output_type": "execute_result"
    }
   ],
   "source": [
    "cj = Series(arr,index=[\"语文\",\"数学\",\"英语\",\"理综\"])\n",
    "cj"
   ]
  },
  {
   "cell_type": "code",
   "execution_count": 32,
   "id": "ce8f1721-4102-4d67-b31a-867b1faf06f1",
   "metadata": {},
   "outputs": [
    {
     "data": {
      "text/plain": [
       "语文    150\n",
       "数学    150\n",
       "英语    150\n",
       "理综    300\n",
       "dtype: int64"
      ]
     },
     "execution_count": 32,
     "metadata": {},
     "output_type": "execute_result"
    }
   ],
   "source": [
    "dic = {\n",
    "    \"语文\":150,\n",
    "    \"数学\":150,\n",
    "    \"英语\":150,\n",
    "    \"理综\":300\n",
    "}\n",
    "Series(data = dic)"
   ]
  },
  {
   "cell_type": "markdown",
   "id": "3630b215-74df-49f5-8a70-ed09d7670dda",
   "metadata": {},
   "source": [
    "Series的索引和切片"
   ]
  },
  {
   "cell_type": "code",
   "execution_count": 33,
   "id": "6cae8535-0a5a-49c2-ad94-3ffa312e05e1",
   "metadata": {},
   "outputs": [
    {
     "data": {
      "text/plain": [
       "array([90, 72, 70, 81, 86], dtype=int32)"
      ]
     },
     "execution_count": 33,
     "metadata": {},
     "output_type": "execute_result"
    }
   ],
   "source": [
    "arr = np.random.randint(0,100,size=5)\n",
    "arr"
   ]
  },
  {
   "cell_type": "code",
   "execution_count": 34,
   "id": "0bb522f7-5ad7-44ec-bb30-b732d2020443",
   "metadata": {},
   "outputs": [
    {
     "data": {
      "text/plain": [
       "np.int32(90)"
      ]
     },
     "execution_count": 34,
     "metadata": {},
     "output_type": "execute_result"
    }
   ],
   "source": [
    "arr[0]"
   ]
  },
  {
   "cell_type": "code",
   "execution_count": 36,
   "id": "1768fe07-4a45-40fa-8a23-51e0ccb1ff86",
   "metadata": {},
   "outputs": [
    {
     "data": {
      "text/plain": [
       "array([90, 90, 70, 70], dtype=int32)"
      ]
     },
     "execution_count": 36,
     "metadata": {},
     "output_type": "execute_result"
    }
   ],
   "source": [
    "arr[[0,0,2,2]]"
   ]
  },
  {
   "cell_type": "code",
   "execution_count": 37,
   "id": "4fd2c7bb-c75b-4cc2-9b3e-8fe237fecfc9",
   "metadata": {},
   "outputs": [
    {
     "data": {
      "text/plain": [
       "array([90, 72], dtype=int32)"
      ]
     },
     "execution_count": 37,
     "metadata": {},
     "output_type": "execute_result"
    }
   ],
   "source": [
    "arr[[True,True,False,False,False]]"
   ]
  },
  {
   "cell_type": "code",
   "execution_count": 38,
   "id": "d2547c50-38f8-48a9-8d6d-0aea03e02cf0",
   "metadata": {},
   "outputs": [
    {
     "data": {
      "text/plain": [
       "Wood      90\n",
       "luuna     72\n",
       "jaca      70\n",
       "Irving    81\n",
       "lila      86\n",
       "dtype: int32"
      ]
     },
     "execution_count": 38,
     "metadata": {},
     "output_type": "execute_result"
    }
   ],
   "source": [
    "# 1.Series的访问，完全兼容numpy数组访问\n",
    "s = Series(data=arr, index= [\"Wood\",\"luuna\",\"jaca\",\"Irving\",\"lila\"])\n",
    "s"
   ]
  },
  {
   "cell_type": "code",
   "execution_count": 39,
   "id": "99c74814-7eba-490e-b984-a3c32da2ef3d",
   "metadata": {},
   "outputs": [
    {
     "name": "stderr",
     "output_type": "stream",
     "text": [
      "C:\\Users\\13202\\AppData\\Local\\Temp\\ipykernel_10684\\243613605.py:1: FutureWarning: Series.__getitem__ treating keys as positions is deprecated. In a future version, integer keys will always be treated as labels (consistent with DataFrame behavior). To access a value by position, use `ser.iloc[pos]`\n",
      "  s[0]\n"
     ]
    },
    {
     "data": {
      "text/plain": [
       "np.int32(90)"
      ]
     },
     "execution_count": 39,
     "metadata": {},
     "output_type": "execute_result"
    }
   ],
   "source": [
    "s[0]"
   ]
  },
  {
   "cell_type": "code",
   "execution_count": 41,
   "id": "f83f9a97-d68a-4a8b-ae68-226d91894fb2",
   "metadata": {},
   "outputs": [
    {
     "name": "stderr",
     "output_type": "stream",
     "text": [
      "C:\\Users\\13202\\AppData\\Local\\Temp\\ipykernel_10684\\701055087.py:1: FutureWarning: Series.__getitem__ treating keys as positions is deprecated. In a future version, integer keys will always be treated as labels (consistent with DataFrame behavior). To access a value by position, use `ser.iloc[pos]`\n",
      "  s[[0,1,0,1]]\n"
     ]
    },
    {
     "data": {
      "text/plain": [
       "Wood     90\n",
       "luuna    72\n",
       "Wood     90\n",
       "luuna    72\n",
       "dtype: int32"
      ]
     },
     "execution_count": 41,
     "metadata": {},
     "output_type": "execute_result"
    }
   ],
   "source": [
    "s[[0,1,0,1]]"
   ]
  },
  {
   "cell_type": "code",
   "execution_count": 42,
   "id": "90c41530-5123-4e02-b139-3d7d6935a12e",
   "metadata": {},
   "outputs": [
    {
     "data": {
      "text/plain": [
       "Wood     90\n",
       "luuna    72\n",
       "dtype: int32"
      ]
     },
     "execution_count": 42,
     "metadata": {},
     "output_type": "execute_result"
    }
   ],
   "source": [
    "s[[True,True,False,False,False]]"
   ]
  },
  {
   "cell_type": "code",
   "execution_count": 43,
   "id": "c85fad66-a7f4-4d2e-a325-43a01083d363",
   "metadata": {},
   "outputs": [
    {
     "data": {
      "text/plain": [
       "np.int32(86)"
      ]
     },
     "execution_count": 43,
     "metadata": {},
     "output_type": "execute_result"
    }
   ],
   "source": [
    "# 2.使用显示索引访问,类似字典\n",
    "s[\"lila\"]"
   ]
  },
  {
   "cell_type": "code",
   "execution_count": 44,
   "id": "689e4f8b-eee9-469b-974d-f817f27b1a83",
   "metadata": {},
   "outputs": [
    {
     "data": {
      "text/plain": [
       "Wood    90\n",
       "jaca    70\n",
       "dtype: int32"
      ]
     },
     "execution_count": 44,
     "metadata": {},
     "output_type": "execute_result"
    }
   ],
   "source": [
    "s[[\"Wood\",\"jaca\"]]"
   ]
  },
  {
   "cell_type": "code",
   "execution_count": 45,
   "id": "8f0f9f15-5189-4783-afa7-426e67aa8987",
   "metadata": {},
   "outputs": [
    {
     "data": {
      "text/plain": [
       "np.int32(86)"
      ]
     },
     "execution_count": 45,
     "metadata": {},
     "output_type": "execute_result"
    }
   ],
   "source": [
    "# 3.使用loc访问，要配合显示索引,官方推荐\n",
    "s.loc[\"lila\"]"
   ]
  },
  {
   "cell_type": "code",
   "execution_count": 46,
   "id": "8105c286-d520-4b2c-a835-f8bf5e5a1612",
   "metadata": {},
   "outputs": [
    {
     "data": {
      "text/plain": [
       "Wood    90\n",
       "Wood    90\n",
       "dtype: int32"
      ]
     },
     "execution_count": 46,
     "metadata": {},
     "output_type": "execute_result"
    }
   ],
   "source": [
    "s.loc[[\"Wood\",\"Wood\"]]"
   ]
  },
  {
   "cell_type": "code",
   "execution_count": 47,
   "id": "126d73f5-bf26-4ed8-8fb3-9280b2399170",
   "metadata": {},
   "outputs": [
    {
     "data": {
      "text/plain": [
       "np.int32(90)"
      ]
     },
     "execution_count": 47,
     "metadata": {},
     "output_type": "execute_result"
    }
   ],
   "source": [
    "# 4。使用iloc，配合隐士索引访问，官方推荐的隐士索引的访问机制\n",
    "s.iloc[0]"
   ]
  },
  {
   "cell_type": "code",
   "execution_count": 48,
   "id": "848bd3b8-cfa6-46b2-8b07-8aa9d65b93a8",
   "metadata": {},
   "outputs": [
    {
     "data": {
      "text/plain": [
       "Wood      90\n",
       "luuna     72\n",
       "jaca      70\n",
       "Irving    81\n",
       "lila      86\n",
       "dtype: int32"
      ]
     },
     "execution_count": 48,
     "metadata": {},
     "output_type": "execute_result"
    }
   ],
   "source": [
    "s"
   ]
  },
  {
   "cell_type": "code",
   "execution_count": 49,
   "id": "4019b7c1-f475-4ccc-8bba-2b1f5454c161",
   "metadata": {},
   "outputs": [
    {
     "data": {
      "text/plain": [
       "Wood     90\n",
       "luuna    72\n",
       "jaca     70\n",
       "luuna    72\n",
       "dtype: int32"
      ]
     },
     "execution_count": 49,
     "metadata": {},
     "output_type": "execute_result"
    }
   ],
   "source": [
    "s.iloc[[0,1,2,1]]"
   ]
  },
  {
   "cell_type": "code",
   "execution_count": 64,
   "id": "ccd86667-10ed-42f2-aedc-a4c4400152ff",
   "metadata": {},
   "outputs": [],
   "source": [
    "# 5. 使用带索引的bool型的Series列表访问\n",
    "# 【注意】如果使用Series的Bool列表要注意索引对齐，顺序不要求一致，内容要求一致，长度一致\n",
    "s_bool = Series(data=[True,True,False,False,False],index=[\"lila\",\"luuna\",\"jaca\",\"Irving\",\"Wood\"])\n",
    "# 【注意】bool列表和要访问的对象的长度保持一致\n",
    "n_bool = [True,True,False,False,False]\n",
    "l_bool = np.array([True,True,False,False,False])"
   ]
  },
  {
   "cell_type": "code",
   "execution_count": 65,
   "id": "436130c1-3a1c-416f-b7e6-fef7e14938a5",
   "metadata": {},
   "outputs": [
    {
     "data": {
      "text/plain": [
       "luuna    72\n",
       "lila     86\n",
       "dtype: int32"
      ]
     },
     "execution_count": 65,
     "metadata": {},
     "output_type": "execute_result"
    }
   ],
   "source": [
    "s[s_bool]"
   ]
  },
  {
   "cell_type": "code",
   "execution_count": 60,
   "id": "3847ddc3-431d-4b6d-acdf-07ebcb03f109",
   "metadata": {},
   "outputs": [
    {
     "data": {
      "text/plain": [
       "Wood      90\n",
       "Irving    81\n",
       "lila      86\n",
       "dtype: int32"
      ]
     },
     "execution_count": 60,
     "metadata": {},
     "output_type": "execute_result"
    }
   ],
   "source": [
    "s[s > 80]"
   ]
  },
  {
   "cell_type": "markdown",
   "id": "91fed389-6425-4608-bc2c-8ae5caad6050",
   "metadata": {},
   "source": [
    "<b> 切片</b>\n",
    "1. 数组\n",
    "2. 字典\n",
    "3. .loc\n",
    "4. .iloc"
   ]
  },
  {
   "cell_type": "code",
   "execution_count": 66,
   "id": "f1f2fe97-05c1-46f0-b618-d91efb0987bd",
   "metadata": {},
   "outputs": [
    {
     "data": {
      "text/plain": [
       "Wood      90\n",
       "luuna     72\n",
       "jaca      70\n",
       "Irving    81\n",
       "lila      86\n",
       "dtype: int32"
      ]
     },
     "execution_count": 66,
     "metadata": {},
     "output_type": "execute_result"
    }
   ],
   "source": [
    "s"
   ]
  },
  {
   "cell_type": "code",
   "execution_count": 67,
   "id": "864e9967-f48f-40f3-8a9d-378ee4ce36e3",
   "metadata": {},
   "outputs": [
    {
     "data": {
      "text/plain": [
       "luuna    72\n",
       "jaca     70\n",
       "dtype: int32"
      ]
     },
     "execution_count": 67,
     "metadata": {},
     "output_type": "execute_result"
    }
   ],
   "source": [
    "s[1:3]"
   ]
  },
  {
   "cell_type": "code",
   "execution_count": 75,
   "id": "dcb4889f-7ff1-49db-80bd-77d0d01dd83f",
   "metadata": {},
   "outputs": [
    {
     "data": {
      "text/plain": [
       "luuna     72\n",
       "jaca      70\n",
       "Irving    81\n",
       "dtype: int32"
      ]
     },
     "execution_count": 75,
     "metadata": {},
     "output_type": "execute_result"
    }
   ],
   "source": [
    "# 所有看使用标签（显示索引）切片的都是闭区间\n",
    "s[\"luuna\":\"Irving\"]"
   ]
  },
  {
   "cell_type": "code",
   "execution_count": 74,
   "id": "3e54528d-c094-4136-9fb7-3192a595f1c7",
   "metadata": {},
   "outputs": [
    {
     "data": {
      "text/plain": [
       "luuna    72\n",
       "jaca     70\n",
       "dtype: int32"
      ]
     },
     "execution_count": 74,
     "metadata": {},
     "output_type": "execute_result"
    }
   ],
   "source": [
    "# 使用loc访问是闭区间\n",
    "s.loc[\"luuna\":\"jaca\"]"
   ]
  },
  {
   "cell_type": "code",
   "execution_count": 73,
   "id": "e0b14095-2d15-4176-98ff-35b832c1fa6e",
   "metadata": {},
   "outputs": [
    {
     "data": {
      "text/plain": [
       "luuna    72\n",
       "jaca     70\n",
       "dtype: int32"
      ]
     },
     "execution_count": 73,
     "metadata": {},
     "output_type": "execute_result"
    }
   ],
   "source": [
    "# 使用iloc访问是开区间\n",
    "s.iloc[1:3]"
   ]
  },
  {
   "cell_type": "code",
   "execution_count": 77,
   "id": "80d8d228-d771-4a47-acc4-f5100390d778",
   "metadata": {},
   "outputs": [
    {
     "data": {
      "text/plain": [
       "语文    150\n",
       "数学    150\n",
       "英语    150\n",
       "理综    300\n",
       "dtype: int64"
      ]
     },
     "execution_count": 77,
     "metadata": {},
     "output_type": "execute_result"
    }
   ],
   "source": [
    "dic = {\n",
    "    \"语文\":150,\n",
    "    \"数学\":150,\n",
    "    \"英语\":150,\n",
    "    \"理综\":300\n",
    "}\n",
    "\n",
    "s_score = Series(data = dic)\n",
    "s_score"
   ]
  },
  {
   "cell_type": "code",
   "execution_count": 80,
   "id": "d9fb1d40-90f7-4932-b2c1-682445a9b499",
   "metadata": {},
   "outputs": [
    {
     "name": "stderr",
     "output_type": "stream",
     "text": [
      "C:\\Users\\13202\\AppData\\Local\\Temp\\ipykernel_10684\\409137349.py:1: FutureWarning: Series.__getitem__ treating keys as positions is deprecated. In a future version, integer keys will always be treated as labels (consistent with DataFrame behavior). To access a value by position, use `ser.iloc[pos]`\n",
      "  s_score[1]\n"
     ]
    },
    {
     "data": {
      "text/plain": [
       "np.int64(150)"
      ]
     },
     "execution_count": 80,
     "metadata": {},
     "output_type": "execute_result"
    }
   ],
   "source": [
    "s_score[1]\n",
    "s_score[\"数学\"]\n",
    "s_score.loc[\"数学\"]\n",
    "s_score.iloc[1]"
   ]
  },
  {
   "cell_type": "code",
   "execution_count": 82,
   "id": "4f955c0c-ab77-479a-a33f-b6ff97e7e472",
   "metadata": {},
   "outputs": [
    {
     "data": {
      "text/plain": [
       "语文    150\n",
       "数学    150\n",
       "英语    150\n",
       "dtype: int64"
      ]
     },
     "execution_count": 82,
     "metadata": {},
     "output_type": "execute_result"
    }
   ],
   "source": [
    "s_score[0:3]\n",
    "s_score[\"语文\":\"英语\"]\n",
    "s_score.loc[\"语文\":\"英语\"]\n",
    "s_score.iloc[0:3]"
   ]
  },
  {
   "cell_type": "code",
   "execution_count": 83,
   "id": "603d034b-5727-4273-9944-1844155d16e1",
   "metadata": {},
   "outputs": [
    {
     "data": {
      "text/plain": [
       "(4,)"
      ]
     },
     "execution_count": 83,
     "metadata": {},
     "output_type": "execute_result"
    }
   ],
   "source": [
    "s_score.shape"
   ]
  },
  {
   "cell_type": "code",
   "execution_count": 84,
   "id": "50fdb358-eb2f-4701-ade7-959363eb9f97",
   "metadata": {},
   "outputs": [
    {
     "data": {
      "text/plain": [
       "4"
      ]
     },
     "execution_count": 84,
     "metadata": {},
     "output_type": "execute_result"
    }
   ],
   "source": [
    "s_score.size"
   ]
  },
  {
   "cell_type": "code",
   "execution_count": 86,
   "id": "eba54627-b030-4564-b644-9159d5a280e9",
   "metadata": {},
   "outputs": [
    {
     "data": {
      "text/plain": [
       "Index(['语文', '数学'], dtype='object')"
      ]
     },
     "execution_count": 86,
     "metadata": {},
     "output_type": "execute_result"
    }
   ],
   "source": [
    "# 获取显示索引\n",
    "# Series(data,index)\n",
    "s_score.index[[0,1]]"
   ]
  },
  {
   "cell_type": "code",
   "execution_count": 87,
   "id": "91442004-bb94-4a78-aa8b-622a87ac91b6",
   "metadata": {},
   "outputs": [
    {
     "data": {
      "text/plain": [
       "array([150, 150, 150, 300])"
      ]
     },
     "execution_count": 87,
     "metadata": {},
     "output_type": "execute_result"
    }
   ],
   "source": [
    "s_score.values"
   ]
  },
  {
   "cell_type": "code",
   "execution_count": 93,
   "id": "2ce011f8-2884-44b9-9f3b-547add3e1635",
   "metadata": {},
   "outputs": [
    {
     "data": {
      "text/plain": [
       "np.False_"
      ]
     },
     "execution_count": 93,
     "metadata": {},
     "output_type": "execute_result"
    }
   ],
   "source": [
    "# eg1.\n",
    "(s_score.index==\"俄文\").any()"
   ]
  },
  {
   "cell_type": "code",
   "execution_count": 95,
   "id": "06e1f9ae-885e-46d9-bc0f-1adcebe3ce78",
   "metadata": {},
   "outputs": [
    {
     "data": {
      "text/plain": [
       "语文    24\n",
       "数学    17\n",
       "英语     3\n",
       "理综    86\n",
       "dtype: int32"
      ]
     },
     "execution_count": 95,
     "metadata": {},
     "output_type": "execute_result"
    }
   ],
   "source": [
    "# eg2.\n",
    "s_score2 = Series(data = np.random.randint(0,150,size=4),index=s_score.index)\n",
    "s_score2"
   ]
  },
  {
   "cell_type": "markdown",
   "id": "b0e6cf70-d290-4eb9-9b80-8e9e8850d029",
   "metadata": {},
   "source": [
    "<b>可以使用head(),tail()分别查看前n个和后n个值</b>"
   ]
  },
  {
   "cell_type": "code",
   "execution_count": 97,
   "id": "195a6ba0-3806-4a84-ba2d-1d756ab50007",
   "metadata": {},
   "outputs": [
    {
     "data": {
      "text/plain": [
       "语文    150\n",
       "数学    150\n",
       "dtype: int64"
      ]
     },
     "execution_count": 97,
     "metadata": {},
     "output_type": "execute_result"
    }
   ],
   "source": [
    "# 是切片操作，但是一般用于查看数据的结构\n",
    "s_score.head(2)"
   ]
  },
  {
   "cell_type": "code",
   "execution_count": 99,
   "id": "ce5ef983-8ccf-4c7b-ae4d-920d0a933b72",
   "metadata": {},
   "outputs": [
    {
     "data": {
      "text/plain": [
       "理综    86\n",
       "dtype: int32"
      ]
     },
     "execution_count": 99,
     "metadata": {},
     "output_type": "execute_result"
    }
   ],
   "source": [
    "s_score2.tail(1)"
   ]
  },
  {
   "cell_type": "code",
   "execution_count": 102,
   "id": "986e3d8d-2877-4bae-b082-ee4d369b6348",
   "metadata": {},
   "outputs": [],
   "source": [
    "dic = {\n",
    "    \"name\":\"jaca\",\n",
    "    \"address\":\"beijing\"\n",
    "}\n",
    "s = Series(data = dic,index=[\"name\",\"address\",\"oldname\"])"
   ]
  },
  {
   "cell_type": "code",
   "execution_count": 104,
   "id": "8b418c65-2847-45dc-b7d2-156c3c4618ad",
   "metadata": {},
   "outputs": [],
   "source": [
    "#any()  查看一个bool列表中是否至少存在一个True\n",
    "#all()  查看一个bool列表中是否全都是True"
   ]
  },
  {
   "cell_type": "code",
   "execution_count": 105,
   "id": "424e727a-aa74-4564-82fe-aa71c94c8520",
   "metadata": {},
   "outputs": [
    {
     "data": {
      "text/plain": [
       "name          jaca\n",
       "address    beijing\n",
       "oldname        NaN\n",
       "dtype: object"
      ]
     },
     "execution_count": 105,
     "metadata": {},
     "output_type": "execute_result"
    }
   ],
   "source": [
    "s"
   ]
  },
  {
   "cell_type": "code",
   "execution_count": 107,
   "id": "f188e8dc-116c-4227-957b-e4e4d1cfd408",
   "metadata": {},
   "outputs": [
    {
     "data": {
      "text/plain": [
       "np.True_"
      ]
     },
     "execution_count": 107,
     "metadata": {},
     "output_type": "execute_result"
    }
   ],
   "source": [
    "# 查看大量的数据集中是否存在至少一个空值\n",
    "s.isnull().any()"
   ]
  },
  {
   "cell_type": "code",
   "execution_count": 110,
   "id": "d4db46ad-c1cb-4467-88e7-308505daac72",
   "metadata": {},
   "outputs": [
    {
     "data": {
      "text/plain": [
       "np.False_"
      ]
     },
     "execution_count": 110,
     "metadata": {},
     "output_type": "execute_result"
    }
   ],
   "source": [
    "s.notnull().all()"
   ]
  },
  {
   "cell_type": "markdown",
   "id": "92bde71b-4ce1-4236-8a2b-c4a572c7c45f",
   "metadata": {},
   "source": [
    "<b>Series本身及其实列都有一个name属性</b>"
   ]
  },
  {
   "cell_type": "code",
   "execution_count": 113,
   "id": "81b441da-ee96-43b2-a463-eac427e398e2",
   "metadata": {},
   "outputs": [
    {
     "data": {
      "text/plain": [
       "语文    150\n",
       "数学    150\n",
       "英语    150\n",
       "理综    300\n",
       "Name: 学科, dtype: int64"
      ]
     },
     "execution_count": 113,
     "metadata": {},
     "output_type": "execute_result"
    }
   ],
   "source": [
    "s_score.name=\"学科\"\n",
    "s_score"
   ]
  },
  {
   "cell_type": "code",
   "execution_count": 116,
   "id": "5423035b-50c3-4a61-a7d0-a6bd80746a4e",
   "metadata": {},
   "outputs": [
    {
     "data": {
      "text/plain": [
       "0    80\n",
       "1    52\n",
       "2     4\n",
       "3    11\n",
       "4    83\n",
       "Name: score, dtype: int32"
      ]
     },
     "execution_count": 116,
     "metadata": {},
     "output_type": "execute_result"
    }
   ],
   "source": [
    "# Name属性，往往会成为二维表格中的列字段名称\n",
    "Series(data=np.random.randint(0,100,size=5), name=\"score\")"
   ]
  },
  {
   "cell_type": "code",
   "execution_count": 117,
   "id": "d9accb5f-6d9a-4497-8b13-6e93542aa110",
   "metadata": {},
   "outputs": [
    {
     "data": {
      "text/plain": [
       "a    68\n",
       "b    33\n",
       "c    79\n",
       "d    15\n",
       "e    84\n",
       "Name: score, dtype: int32"
      ]
     },
     "execution_count": 117,
     "metadata": {},
     "output_type": "execute_result"
    }
   ],
   "source": [
    "score = Series(data=np.random.randint(0,100,size=5),index=list(\"abcde\"), name=\"score\")\n",
    "score"
   ]
  },
  {
   "cell_type": "code",
   "execution_count": 119,
   "id": "5e5335c0-e4a5-41df-9a92-e4fa64cad387",
   "metadata": {},
   "outputs": [
    {
     "data": {
      "text/plain": [
       "e    84\n",
       "c    79\n",
       "a    68\n",
       "b    33\n",
       "d    15\n",
       "Name: score, dtype: int32"
      ]
     },
     "execution_count": 119,
     "metadata": {},
     "output_type": "execute_result"
    }
   ],
   "source": [
    "score.sort_values(ascending=False)"
   ]
  },
  {
   "cell_type": "markdown",
   "id": "532bbf88-b56f-4372-81d1-66f1b01b2433",
   "metadata": {},
   "source": [
    "根据索引排序"
   ]
  },
  {
   "cell_type": "code",
   "execution_count": 120,
   "id": "92a3d43f-0c11-4a7c-b998-57babce8180d",
   "metadata": {},
   "outputs": [
    {
     "data": {
      "text/plain": [
       "e    84\n",
       "d    15\n",
       "c    79\n",
       "b    33\n",
       "a    68\n",
       "Name: score, dtype: int32"
      ]
     },
     "execution_count": 120,
     "metadata": {},
     "output_type": "execute_result"
    }
   ],
   "source": [
    "# 跟时间相关的\n",
    "score.sort_index(ascending=False)"
   ]
  },
  {
   "cell_type": "markdown",
   "id": "7d29c4d5-8fc5-486f-8b41-90d40c237e9f",
   "metadata": {},
   "source": [
    "<b>统计值出现的次数</b>"
   ]
  },
  {
   "cell_type": "code",
   "execution_count": 123,
   "id": "c69ea10a-db5c-43bf-b797-a1f4eb841e9e",
   "metadata": {},
   "outputs": [
    {
     "data": {
      "text/plain": [
       "2    15\n",
       "6    14\n",
       "8    13\n",
       "5    11\n",
       "0    11\n",
       "7    10\n",
       "4     8\n",
       "9     7\n",
       "3     6\n",
       "1     5\n",
       "Name: count, dtype: int64"
      ]
     },
     "execution_count": 123,
     "metadata": {},
     "output_type": "execute_result"
    }
   ],
   "source": [
    "# 假设这是订单表所有订单用户的id字段\n",
    "# 我们现在统计每一个用户的订单个数\n",
    "user_id = Series(data=np.random.randint(0,10,100))\n",
    "user_id.value_counts()"
   ]
  },
  {
   "cell_type": "code",
   "execution_count": 125,
   "id": "ce2d95ff-7785-4ec0-8598-034809162318",
   "metadata": {},
   "outputs": [
    {
     "data": {
      "text/plain": [
       "wood     2\n",
       "luuna    1\n",
       "lila     1\n",
       "Name: count, dtype: int64"
      ]
     },
     "execution_count": 125,
     "metadata": {},
     "output_type": "execute_result"
    }
   ],
   "source": [
    "username = Series(data=[\"luuna\",\"lila\",\"wood\",\"wood\"])\n",
    "username.value_counts()"
   ]
  },
  {
   "cell_type": "markdown",
   "id": "9b8cfa9e-e24e-461a-beaa-d23b01859489",
   "metadata": {},
   "source": [
    "numpy 聚合 sum(), mean(), np.median()\n",
    "\n",
    "    广播机制"
   ]
  },
  {
   "cell_type": "code",
   "execution_count": 127,
   "id": "44c1133e-8b94-443f-951a-c82c5d513fb7",
   "metadata": {},
   "outputs": [
    {
     "data": {
      "text/plain": [
       "A    6\n",
       "B    9\n",
       "C    0\n",
       "D    6\n",
       "E    3\n",
       "dtype: int32"
      ]
     },
     "execution_count": 127,
     "metadata": {},
     "output_type": "execute_result"
    }
   ],
   "source": [
    "# 1。Series和一个数运算，遵守广播机制\n",
    "s= Series(data=np.random.randint(0,10,size=5),index=list(\"ABCDE\"))\n",
    "s"
   ]
  },
  {
   "cell_type": "code",
   "execution_count": 128,
   "id": "5b56609e-8a5c-4e90-b2f1-a2c48a6e972e",
   "metadata": {},
   "outputs": [
    {
     "data": {
      "text/plain": [
       "A     7\n",
       "B    10\n",
       "C     1\n",
       "D     7\n",
       "E     4\n",
       "dtype: int32"
      ]
     },
     "execution_count": 128,
     "metadata": {},
     "output_type": "execute_result"
    }
   ],
   "source": [
    "s+1"
   ]
  },
  {
   "cell_type": "code",
   "execution_count": 131,
   "id": "ec41360b-1a28-4215-813b-383e36a8d502",
   "metadata": {},
   "outputs": [
    {
     "data": {
      "text/plain": [
       "array([[1., 1., 1., 1., 1.],\n",
       "       [1., 1., 1., 1., 1.]])"
      ]
     },
     "execution_count": 131,
     "metadata": {},
     "output_type": "execute_result"
    }
   ],
   "source": [
    "# Series和numpy运算, 隐式索引对齐\n",
    "n = np.ones(shape=(2,5))\n",
    "n"
   ]
  },
  {
   "cell_type": "code",
   "execution_count": 133,
   "id": "5e7c21a6-36ac-4ead-94c7-d49e664fab07",
   "metadata": {},
   "outputs": [
    {
     "data": {
      "text/plain": [
       "array([[ 7., 10.,  1.,  7.,  4.],\n",
       "       [ 7., 10.,  1.,  7.,  4.]])"
      ]
     },
     "execution_count": 133,
     "metadata": {},
     "output_type": "execute_result"
    }
   ],
   "source": [
    "n+s.values"
   ]
  },
  {
   "cell_type": "code",
   "execution_count": 135,
   "id": "cea34fbf-023c-4a48-9117-e9d669be3179",
   "metadata": {},
   "outputs": [
    {
     "data": {
      "text/plain": [
       "array([6, 9, 0, 6, 3], dtype=int32)"
      ]
     },
     "execution_count": 135,
     "metadata": {},
     "output_type": "execute_result"
    }
   ],
   "source": [
    "# 这是numpy，它和n运算是numpy之间的运算，遵守广播机制\n",
    "s.values"
   ]
  },
  {
   "cell_type": "code",
   "execution_count": 139,
   "id": "f94678da-f229-4b73-8e60-08427c2a6ad7",
   "metadata": {},
   "outputs": [],
   "source": [
    "n1 = np.ones(shape=5)"
   ]
  },
  {
   "cell_type": "code",
   "execution_count": 140,
   "id": "a3158090-796d-4a7a-811c-478142626c42",
   "metadata": {},
   "outputs": [
    {
     "data": {
      "text/plain": [
       "A     7.0\n",
       "B    10.0\n",
       "C     1.0\n",
       "D     7.0\n",
       "E     4.0\n",
       "dtype: float64"
      ]
     },
     "execution_count": 140,
     "metadata": {},
     "output_type": "execute_result"
    }
   ],
   "source": [
    "# 长度需一致\n",
    "s+n1"
   ]
  },
  {
   "cell_type": "markdown",
   "id": "439b4b27-1047-49f6-b462-77964aa68aad",
   "metadata": {},
   "source": [
    "<b>Series之间的运算</b>"
   ]
  },
  {
   "cell_type": "code",
   "execution_count": 147,
   "id": "68fd2a61-2288-4357-875d-7558edee6308",
   "metadata": {},
   "outputs": [
    {
     "data": {
      "text/plain": [
       "(a    3\n",
       " b    7\n",
       " c    3\n",
       " d    9\n",
       " e    0\n",
       " dtype: int32,\n",
       " e    6\n",
       " a    9\n",
       " b    5\n",
       " c    5\n",
       " dtype: int32)"
      ]
     },
     "execution_count": 147,
     "metadata": {},
     "output_type": "execute_result"
    }
   ],
   "source": [
    "# Series和Series之间运算时，显示索引对齐\n",
    "s1 = Series(data = np.random.randint(0,10,size=5),index=list(\"abcde\"))\n",
    "s2 = Series(data = np.random.randint(0,10,size=4),index=list(\"eabc\"))\n",
    "s1,s2"
   ]
  },
  {
   "cell_type": "code",
   "execution_count": 148,
   "id": "521ba373-8d1b-4c60-b983-617e689ec3b1",
   "metadata": {},
   "outputs": [
    {
     "data": {
      "text/plain": [
       "a    12.0\n",
       "b    12.0\n",
       "c     8.0\n",
       "d     NaN\n",
       "e     6.0\n",
       "dtype: float64"
      ]
     },
     "execution_count": 148,
     "metadata": {},
     "output_type": "execute_result"
    }
   ],
   "source": [
    "s1+s2"
   ]
  },
  {
   "cell_type": "code",
   "execution_count": 150,
   "id": "9e50c950-f926-4d2b-8348-24d36bf360e4",
   "metadata": {},
   "outputs": [
    {
     "data": {
      "text/plain": [
       "a    12.0\n",
       "b    12.0\n",
       "c     8.0\n",
       "d     9.0\n",
       "e     6.0\n",
       "dtype: float64"
      ]
     },
     "execution_count": 150,
     "metadata": {},
     "output_type": "execute_result"
    }
   ],
   "source": [
    "s1.add(s2,fill_value=0)"
   ]
  },
  {
   "cell_type": "markdown",
   "id": "520aeef9-fafd-4067-afb0-21cfe9d3c252",
   "metadata": {},
   "source": [
    "查看是否保存"
   ]
  },
  {
   "cell_type": "code",
   "execution_count": 2,
   "id": "4bb60fd8-2dca-4aca-9a82-206e9a60711b",
   "metadata": {},
   "outputs": [
    {
     "data": {
      "text/plain": [
       "(语文    145\n",
       " 数学     34\n",
       " 英语    140\n",
       " 理综      4\n",
       " Name: 理科, dtype: int32,\n",
       " 语文     27\n",
       " 数学    103\n",
       " 英语     23\n",
       " 文综    146\n",
       " Name: 文科, dtype: int32)"
      ]
     },
     "execution_count": 2,
     "metadata": {},
     "output_type": "execute_result"
    }
   ],
   "source": [
    "index1 = [\"语文\",\"数学\",\"英语\",\"理综\"]\n",
    "index2 = [\"语文\",\"数学\",\"英语\",\"文综\"]\n",
    "score1 = Series(data=np.random.randint(0,150,size=4),index=index1,name=\"理科\")\n",
    "score2 = Series(data=np.random.randint(0,150,size=4),index=index2,name=\"文科\")\n",
    "score1, score2"
   ]
  },
  {
   "cell_type": "code",
   "execution_count": 3,
   "id": "cc40a2da-06f6-42cd-979e-533b1dab7e33",
   "metadata": {},
   "outputs": [
    {
     "data": {
      "text/plain": [
       "数学    137.0\n",
       "文综      NaN\n",
       "理综      NaN\n",
       "英语    163.0\n",
       "语文    172.0\n",
       "dtype: float64"
      ]
     },
     "execution_count": 3,
     "metadata": {},
     "output_type": "execute_result"
    }
   ],
   "source": [
    "score1+score2"
   ]
  },
  {
   "cell_type": "code",
   "execution_count": null,
   "id": "925f614a-de1c-4e6f-b4b8-5c8c7d22a330",
   "metadata": {},
   "outputs": [],
   "source": [
    "# NaN和任何数运算都是空值"
   ]
  },
  {
   "cell_type": "code",
   "execution_count": 4,
   "id": "11390b1d-e379-4e6f-b588-8d4cb80ed596",
   "metadata": {},
   "outputs": [
    {
     "data": {
      "text/plain": [
       "数学    137.0\n",
       "文综    146.0\n",
       "理综      4.0\n",
       "英语    163.0\n",
       "语文    172.0\n",
       "dtype: float64"
      ]
     },
     "execution_count": 4,
     "metadata": {},
     "output_type": "execute_result"
    }
   ],
   "source": [
    "score1.add(score2, fill_value=0)"
   ]
  },
  {
   "cell_type": "code",
   "execution_count": null,
   "id": "602d1193-6e2b-4f9a-ad3e-b61516b3e698",
   "metadata": {},
   "outputs": [],
   "source": [
    "# Series，DataFrame 都支持扩展"
   ]
  },
  {
   "cell_type": "code",
   "execution_count": 6,
   "id": "dbd1ce62-6635-4d92-a369-2a3802efff1e",
   "metadata": {},
   "outputs": [
    {
     "data": {
      "text/plain": [
       "{'name': 'dancer', 'address': 'beijing'}"
      ]
     },
     "execution_count": 6,
     "metadata": {},
     "output_type": "execute_result"
    }
   ],
   "source": [
    "dic = {\n",
    "    \"name\":\"dancer\"\n",
    "}\n",
    "dic[\"address\"] = \"beijing\"\n",
    "dic"
   ]
  },
  {
   "cell_type": "code",
   "execution_count": 7,
   "id": "cba50fb3-e507-4b77-96d5-bf35120cf856",
   "metadata": {},
   "outputs": [],
   "source": [
    "score1[\"文综\"]=0"
   ]
  },
  {
   "cell_type": "code",
   "execution_count": 8,
   "id": "95f7ac8e-1276-4238-b558-6c42ae5db799",
   "metadata": {},
   "outputs": [],
   "source": [
    "score2[\"理综\"]=0"
   ]
  },
  {
   "cell_type": "code",
   "execution_count": 9,
   "id": "25a1b29a-d495-42b8-9702-829f02e29605",
   "metadata": {},
   "outputs": [
    {
     "data": {
      "text/plain": [
       "数学    137\n",
       "文综    146\n",
       "理综      4\n",
       "英语    163\n",
       "语文    172\n",
       "dtype: int32"
      ]
     },
     "execution_count": 9,
     "metadata": {},
     "output_type": "execute_result"
    }
   ],
   "source": [
    "score1+score2"
   ]
  },
  {
   "cell_type": "code",
   "execution_count": 12,
   "id": "25b8f488-f93b-4c44-b66c-9ad8743476a3",
   "metadata": {},
   "outputs": [
    {
     "data": {
      "text/plain": [
       "(luuna     90\n",
       " jaca      40\n",
       " wood      79\n",
       " cooper    21\n",
       " Name: python, dtype: int32,\n",
       " luuna     10\n",
       " jaca      41\n",
       " wood      53\n",
       " cooper     0\n",
       " Name: java, dtype: int32)"
      ]
     },
     "execution_count": 12,
     "metadata": {},
     "output_type": "execute_result"
    }
   ],
   "source": [
    "index = [\"luuna\",\"jaca\",\"wood\",\"cooper\"]\n",
    "python = Series(data=np.random.randint(0,100,size=4),index=index,name=\"python\")\n",
    "java = Series(data=np.random.randint(0,100,size=4),index=index,name=\"java\")\n",
    "python,java"
   ]
  },
  {
   "cell_type": "code",
   "execution_count": 13,
   "id": "fa9409e1-61e6-4108-b4cd-64a09d2a5b9d",
   "metadata": {},
   "outputs": [
    {
     "data": {
      "text/plain": [
       "luuna     50.0\n",
       "jaca      40.5\n",
       "wood      66.0\n",
       "cooper    10.5\n",
       "dtype: float64"
      ]
     },
     "execution_count": 13,
     "metadata": {},
     "output_type": "execute_result"
    }
   ],
   "source": [
    "(python+java)/2"
   ]
  },
  {
   "cell_type": "code",
   "execution_count": 16,
   "id": "73bffb36-f551-465c-a67a-bc75acd5e136",
   "metadata": {},
   "outputs": [
    {
     "data": {
      "text/plain": [
       "Index(['jaca', 'cooper'], dtype='object')"
      ]
     },
     "execution_count": 16,
     "metadata": {},
     "output_type": "execute_result"
    }
   ],
   "source": [
    "# python不及格学生的姓名\n",
    "python[python<60].index"
   ]
  },
  {
   "cell_type": "code",
   "execution_count": 17,
   "id": "8e892bc8-590b-417f-9f3d-ef0e237d5848",
   "metadata": {},
   "outputs": [
    {
     "data": {
      "text/plain": [
       "Index(['luuna', 'jaca', 'wood', 'cooper'], dtype='object')"
      ]
     },
     "execution_count": 17,
     "metadata": {},
     "output_type": "execute_result"
    }
   ],
   "source": [
    "java[java<60].index"
   ]
  },
  {
   "cell_type": "code",
   "execution_count": 19,
   "id": "009462d3-0fea-4de3-b34d-1374e1b7b12d",
   "metadata": {},
   "outputs": [
    {
     "data": {
      "text/plain": [
       "luuna     90\n",
       "jaca      50\n",
       "wood      79\n",
       "cooper    21\n",
       "Name: python, dtype: int32"
      ]
     },
     "execution_count": 19,
     "metadata": {},
     "output_type": "execute_result"
    }
   ],
   "source": [
    "# 给jaca的python加10分\n",
    "python.loc[\"jaca\"]+=10\n",
    "python"
   ]
  },
  {
   "cell_type": "code",
   "execution_count": 22,
   "id": "11c59b7b-8e12-480b-bbd6-d8f8f51e642c",
   "metadata": {},
   "outputs": [
    {
     "data": {
      "text/plain": [
       "(np.float64(60.0), np.float64(26.0))"
      ]
     },
     "execution_count": 22,
     "metadata": {},
     "output_type": "execute_result"
    }
   ],
   "source": [
    "# q求python和java的平均值\n",
    "python.values.mean(),java.values.mean()"
   ]
  },
  {
   "cell_type": "code",
   "execution_count": 24,
   "id": "238c7848-4bf5-4ea2-a603-431fccef6806",
   "metadata": {},
   "outputs": [
    {
     "data": {
      "text/plain": [
       "(np.float64(60.0), np.float64(26.0))"
      ]
     },
     "execution_count": 24,
     "metadata": {},
     "output_type": "execute_result"
    }
   ],
   "source": [
    "# Series对象同样支持聚合操作\n",
    "python.mean(),java.mean()"
   ]
  },
  {
   "cell_type": "markdown",
   "id": "e5c67d5b-3138-4c2a-ade7-5457aceb4950",
   "metadata": {},
   "source": [
    "## <b>2、DataFrame</b>"
   ]
  },
  {
   "cell_type": "markdown",
   "id": "ae73178d-9b14-47ac-8ea0-de3daaf47bc2",
   "metadata": {},
   "source": [
    "DataFrame是一个【表格型】的数据结构，可以看作是【由Series组成的字典】。字典的键就是二维表格的列索引，字典的值通常是一维列表"
   ]
  },
  {
   "cell_type": "code",
   "execution_count": null,
   "id": "aae408fb-db30-4c04-8f56-a4163bbbe45d",
   "metadata": {},
   "outputs": [],
   "source": [
    "   userid, uname, uppasword, regin_time,address\n",
    "0   001     lila\n",
    "1   002     wood\n",
    "2   003     luuna\n",
    "3\n",
    "4"
   ]
  },
  {
   "cell_type": "code",
   "execution_count": null,
   "id": "b7225627-043e-48ae-a32e-234f308727a6",
   "metadata": {},
   "outputs": [],
   "source": [
    "dic={\n",
    "    \"userid\":Series([001,002,003],index=[\"lila\",\"wood\",\"luna\"]),\n",
    "    \"uname\":Series([luna,lila,wood],index=[\"lila\",\"wood\",\"luna\"])\n",
    "}"
   ]
  },
  {
   "cell_type": "code",
   "execution_count": 26,
   "id": "d8d0fcd7-69a1-4f80-942b-455fd154eb3b",
   "metadata": {},
   "outputs": [
    {
     "data": {
      "text/html": [
       "<div>\n",
       "<style scoped>\n",
       "    .dataframe tbody tr th:only-of-type {\n",
       "        vertical-align: middle;\n",
       "    }\n",
       "\n",
       "    .dataframe tbody tr th {\n",
       "        vertical-align: top;\n",
       "    }\n",
       "\n",
       "    .dataframe thead th {\n",
       "        text-align: right;\n",
       "    }\n",
       "</style>\n",
       "<table border=\"1\" class=\"dataframe\">\n",
       "  <thead>\n",
       "    <tr style=\"text-align: right;\">\n",
       "      <th></th>\n",
       "      <th>A</th>\n",
       "      <th>B</th>\n",
       "      <th>C</th>\n",
       "      <th>D</th>\n",
       "      <th>E</th>\n",
       "    </tr>\n",
       "  </thead>\n",
       "  <tbody>\n",
       "    <tr>\n",
       "      <th>a</th>\n",
       "      <td>47</td>\n",
       "      <td>31</td>\n",
       "      <td>98</td>\n",
       "      <td>27</td>\n",
       "      <td>84</td>\n",
       "    </tr>\n",
       "    <tr>\n",
       "      <th>b</th>\n",
       "      <td>42</td>\n",
       "      <td>12</td>\n",
       "      <td>19</td>\n",
       "      <td>69</td>\n",
       "      <td>63</td>\n",
       "    </tr>\n",
       "    <tr>\n",
       "      <th>c</th>\n",
       "      <td>46</td>\n",
       "      <td>24</td>\n",
       "      <td>86</td>\n",
       "      <td>83</td>\n",
       "      <td>90</td>\n",
       "    </tr>\n",
       "  </tbody>\n",
       "</table>\n",
       "</div>"
      ],
      "text/plain": [
       "    A   B   C   D   E\n",
       "a  47  31  98  27  84\n",
       "b  42  12  19  69  63\n",
       "c  46  24  86  83  90"
      ]
     },
     "execution_count": 26,
     "metadata": {},
     "output_type": "execute_result"
    }
   ],
   "source": [
    "# 使用构造函数\n",
    "DataFrame(data=np.random.randint(0,100,size=(3,5)),index=list(\"abc\"),columns=list(\"ABCDE\"))"
   ]
  },
  {
   "cell_type": "code",
   "execution_count": 29,
   "id": "0e4f7648-1df9-472d-acb0-0154b7837bdf",
   "metadata": {},
   "outputs": [
    {
     "data": {
      "text/html": [
       "<div>\n",
       "<style scoped>\n",
       "    .dataframe tbody tr th:only-of-type {\n",
       "        vertical-align: middle;\n",
       "    }\n",
       "\n",
       "    .dataframe tbody tr th {\n",
       "        vertical-align: top;\n",
       "    }\n",
       "\n",
       "    .dataframe thead th {\n",
       "        text-align: right;\n",
       "    }\n",
       "</style>\n",
       "<table border=\"1\" class=\"dataframe\">\n",
       "  <thead>\n",
       "    <tr style=\"text-align: right;\">\n",
       "      <th></th>\n",
       "      <th>A</th>\n",
       "      <th>B</th>\n",
       "      <th>C</th>\n",
       "      <th>D</th>\n",
       "      <th>E</th>\n",
       "    </tr>\n",
       "  </thead>\n",
       "  <tbody>\n",
       "    <tr>\n",
       "      <th>a</th>\n",
       "      <td>lucy</td>\n",
       "      <td>39</td>\n",
       "      <td>96436.583792</td>\n",
       "      <td>32</td>\n",
       "      <td>20</td>\n",
       "    </tr>\n",
       "    <tr>\n",
       "      <th>b</th>\n",
       "      <td>luna</td>\n",
       "      <td>20</td>\n",
       "      <td>8122.484624</td>\n",
       "      <td>17</td>\n",
       "      <td>15</td>\n",
       "    </tr>\n",
       "    <tr>\n",
       "      <th>c</th>\n",
       "      <td>wood</td>\n",
       "      <td>50</td>\n",
       "      <td>27943.155301</td>\n",
       "      <td>29</td>\n",
       "      <td>17</td>\n",
       "    </tr>\n",
       "  </tbody>\n",
       "</table>\n",
       "</div>"
      ],
      "text/plain": [
       "      A   B             C   D   E\n",
       "a  lucy  39  96436.583792  32  20\n",
       "b  luna  20   8122.484624  17  15\n",
       "c  wood  50  27943.155301  29  17"
      ]
     },
     "execution_count": 29,
     "metadata": {},
     "output_type": "execute_result"
    }
   ],
   "source": [
    "dic={\n",
    "    \"A\":[\"lucy\",\"luna\",\"wood\"],\n",
    "    \"B\":np.random.randint(0,100,size=3),\n",
    "    \"C\":np.random.random(3)*100000,\n",
    "    \"D\":np.random.randint(0,100,size=3),\n",
    "    \"E\":np.random.randint(0,100,size=3)\n",
    "}\n",
    "DataFrame(data=dic,index=list(\"abc\"))"
   ]
  },
  {
   "cell_type": "markdown",
   "id": "0aab0832-360b-471f-bd64-3213a18325a3",
   "metadata": {},
   "source": [
    "<b>从本地文件中读取DataFrame对象</b>"
   ]
  },
  {
   "cell_type": "code",
   "execution_count": 30,
   "id": "e51dbb22-3aad-4e7f-b519-ee201c3cad67",
   "metadata": {},
   "outputs": [],
   "source": [
    "# pd.read_csv()\n",
    "# pd.read_excel()\n",
    "# pd.read_table()"
   ]
  },
  {
   "cell_type": "code",
   "execution_count": 45,
   "id": "ce3401ac-f931-4676-b14d-f6fe31b453dc",
   "metadata": {},
   "outputs": [],
   "source": [
    "# header 设置excel中，那几行作为列标签，默认就是第一行\n",
    "# index_col 设置excel中，那几列作为列标签\n",
    "# sheet_name可以指定索引也可以指定表名称\n",
    "df = pd.read_excel('data.xls',header=0,index_col=0,sheet_name=1)\n"
   ]
  },
  {
   "cell_type": "code",
   "execution_count": 47,
   "id": "6e71d10b-6302-450b-98eb-75bba9bf924f",
   "metadata": {},
   "outputs": [],
   "source": [
    "# 保存文件\n",
    "df.to_excel('mydata.xlsx')"
   ]
  },
  {
   "cell_type": "markdown",
   "id": "a5f6e0be-f6bd-4d6f-977a-5430d9ad6baa",
   "metadata": {},
   "source": [
    "<b>使用Series构造DataFrame</b>"
   ]
  },
  {
   "cell_type": "code",
   "execution_count": 56,
   "id": "07e7c894-32f1-45cb-9c24-4741ba807169",
   "metadata": {},
   "outputs": [
    {
     "data": {
      "text/plain": [
       "a     1\n",
       "b    22\n",
       "c    27\n",
       "d    90\n",
       "e    14\n",
       "Name: python, dtype: int32"
      ]
     },
     "execution_count": 56,
     "metadata": {},
     "output_type": "execute_result"
    }
   ],
   "source": [
    "s = Series(data=np.random.randint(0,100,size=5),index=list(\"abcde\"),name=\"python\")\n",
    "s"
   ]
  },
  {
   "cell_type": "code",
   "execution_count": 58,
   "id": "189e4998-fb96-4ec4-aa83-3961099e8b17",
   "metadata": {},
   "outputs": [
    {
     "data": {
      "text/html": [
       "<div>\n",
       "<style scoped>\n",
       "    .dataframe tbody tr th:only-of-type {\n",
       "        vertical-align: middle;\n",
       "    }\n",
       "\n",
       "    .dataframe tbody tr th {\n",
       "        vertical-align: top;\n",
       "    }\n",
       "\n",
       "    .dataframe thead th {\n",
       "        text-align: right;\n",
       "    }\n",
       "</style>\n",
       "<table border=\"1\" class=\"dataframe\">\n",
       "  <thead>\n",
       "    <tr style=\"text-align: right;\">\n",
       "      <th></th>\n",
       "      <th>python</th>\n",
       "    </tr>\n",
       "  </thead>\n",
       "  <tbody>\n",
       "    <tr>\n",
       "      <th>a</th>\n",
       "      <td>1</td>\n",
       "    </tr>\n",
       "    <tr>\n",
       "      <th>b</th>\n",
       "      <td>22</td>\n",
       "    </tr>\n",
       "    <tr>\n",
       "      <th>c</th>\n",
       "      <td>27</td>\n",
       "    </tr>\n",
       "    <tr>\n",
       "      <th>d</th>\n",
       "      <td>90</td>\n",
       "    </tr>\n",
       "    <tr>\n",
       "      <th>e</th>\n",
       "      <td>14</td>\n",
       "    </tr>\n",
       "  </tbody>\n",
       "</table>\n",
       "</div>"
      ],
      "text/plain": [
       "   python\n",
       "a       1\n",
       "b      22\n",
       "c      27\n",
       "d      90\n",
       "e      14"
      ]
     },
     "execution_count": 58,
     "metadata": {},
     "output_type": "execute_result"
    }
   ],
   "source": [
    "df = DataFrame(data=s)\n",
    "df"
   ]
  },
  {
   "cell_type": "code",
   "execution_count": 64,
   "id": "65fe7224-5875-4133-a580-baa1572da7be",
   "metadata": {},
   "outputs": [],
   "source": [
    "#score1=score1.drop(labels=[\"文综\"])\n",
    "score1[\"语文\"]=150\n",
    "score1[\"数学\"]=150\n",
    "score1[\"英语\"]=150\n",
    "score1[\"理综\"]=300"
   ]
  },
  {
   "cell_type": "code",
   "execution_count": 66,
   "id": "5604a9a3-d5d1-43ad-a0b8-88d9c869a4dd",
   "metadata": {},
   "outputs": [],
   "source": [
    "score1=score1.rename(\"张三\")"
   ]
  },
  {
   "cell_type": "code",
   "execution_count": 69,
   "id": "bfe4cebe-384b-426f-8b82-48fcfbd3f596",
   "metadata": {},
   "outputs": [
    {
     "data": {
      "text/plain": [
       "语文    150\n",
       "数学    150\n",
       "英语    150\n",
       "理综    300\n",
       "Name: 张三, dtype: int32"
      ]
     },
     "execution_count": 69,
     "metadata": {},
     "output_type": "execute_result"
    }
   ],
   "source": [
    "score1"
   ]
  },
  {
   "cell_type": "code",
   "execution_count": 71,
   "id": "ad3b2193-03b2-4ab1-9f6b-fbda79dcecbb",
   "metadata": {},
   "outputs": [],
   "source": [
    "score2 = score2.rename(\"李四\")"
   ]
  },
  {
   "cell_type": "code",
   "execution_count": 73,
   "id": "ae6385c9-6c6d-4998-95df-9e90e9779779",
   "metadata": {},
   "outputs": [
    {
     "data": {
      "text/plain": [
       "语文    0\n",
       "数学    0\n",
       "英语    0\n",
       "理综    0\n",
       "Name: 李四, dtype: int32"
      ]
     },
     "execution_count": 73,
     "metadata": {},
     "output_type": "execute_result"
    }
   ],
   "source": [
    "\n",
    "score2[\"语文\"]=0\n",
    "score2[\"数学\"]=0\n",
    "score2[\"英语\"]=0\n",
    "score2[\"理综\"]=0\n",
    "score2"
   ]
  },
  {
   "cell_type": "code",
   "execution_count": 76,
   "id": "3ce913d5-b96d-4151-9e89-1437d23bbceb",
   "metadata": {},
   "outputs": [
    {
     "data": {
      "text/html": [
       "<div>\n",
       "<style scoped>\n",
       "    .dataframe tbody tr th:only-of-type {\n",
       "        vertical-align: middle;\n",
       "    }\n",
       "\n",
       "    .dataframe tbody tr th {\n",
       "        vertical-align: top;\n",
       "    }\n",
       "\n",
       "    .dataframe thead th {\n",
       "        text-align: right;\n",
       "    }\n",
       "</style>\n",
       "<table border=\"1\" class=\"dataframe\">\n",
       "  <thead>\n",
       "    <tr style=\"text-align: right;\">\n",
       "      <th></th>\n",
       "      <th>张三</th>\n",
       "      <th>李四</th>\n",
       "    </tr>\n",
       "  </thead>\n",
       "  <tbody>\n",
       "    <tr>\n",
       "      <th>语文</th>\n",
       "      <td>150</td>\n",
       "      <td>0</td>\n",
       "    </tr>\n",
       "    <tr>\n",
       "      <th>数学</th>\n",
       "      <td>150</td>\n",
       "      <td>0</td>\n",
       "    </tr>\n",
       "    <tr>\n",
       "      <th>英语</th>\n",
       "      <td>150</td>\n",
       "      <td>0</td>\n",
       "    </tr>\n",
       "    <tr>\n",
       "      <th>理综</th>\n",
       "      <td>300</td>\n",
       "      <td>0</td>\n",
       "    </tr>\n",
       "  </tbody>\n",
       "</table>\n",
       "</div>"
      ],
      "text/plain": [
       "     张三  李四\n",
       "语文  150   0\n",
       "数学  150   0\n",
       "英语  150   0\n",
       "理综  300   0"
      ]
     },
     "execution_count": 76,
     "metadata": {},
     "output_type": "execute_result"
    }
   ],
   "source": [
    "df = DataFrame(data={\"张三\":score1,\"李四\":score2})\n",
    "df"
   ]
  },
  {
   "cell_type": "code",
   "execution_count": 77,
   "id": "85bb3140-f24f-4e11-a65f-dd84fff1961d",
   "metadata": {},
   "outputs": [
    {
     "data": {
      "text/html": [
       "<div>\n",
       "<style scoped>\n",
       "    .dataframe tbody tr th:only-of-type {\n",
       "        vertical-align: middle;\n",
       "    }\n",
       "\n",
       "    .dataframe tbody tr th {\n",
       "        vertical-align: top;\n",
       "    }\n",
       "\n",
       "    .dataframe thead th {\n",
       "        text-align: right;\n",
       "    }\n",
       "</style>\n",
       "<table border=\"1\" class=\"dataframe\">\n",
       "  <thead>\n",
       "    <tr style=\"text-align: right;\">\n",
       "      <th></th>\n",
       "      <th>张三</th>\n",
       "      <th>李四</th>\n",
       "    </tr>\n",
       "  </thead>\n",
       "  <tbody>\n",
       "    <tr>\n",
       "      <th>语文</th>\n",
       "      <td>150</td>\n",
       "      <td>0</td>\n",
       "    </tr>\n",
       "    <tr>\n",
       "      <th>数学</th>\n",
       "      <td>150</td>\n",
       "      <td>0</td>\n",
       "    </tr>\n",
       "    <tr>\n",
       "      <th>英语</th>\n",
       "      <td>150</td>\n",
       "      <td>0</td>\n",
       "    </tr>\n",
       "    <tr>\n",
       "      <th>理综</th>\n",
       "      <td>300</td>\n",
       "      <td>0</td>\n",
       "    </tr>\n",
       "  </tbody>\n",
       "</table>\n",
       "</div>"
      ],
      "text/plain": [
       "     张三  李四\n",
       "语文  150   0\n",
       "数学  150   0\n",
       "英语  150   0\n",
       "理综  300   0"
      ]
     },
     "execution_count": 77,
     "metadata": {},
     "output_type": "execute_result"
    }
   ],
   "source": [
    "index=[\"语文\",\"数学\",\"英语\",\"理综\"]\n",
    "DataFrame([[150,0],[150,0],[150,0],[300,0]],index=index,columns=[\"张三\",\"李四\"])"
   ]
  },
  {
   "cell_type": "markdown",
   "id": "71fc6cb1-39b7-4d67-9369-707925b98a69",
   "metadata": {},
   "source": [
    "### <b>DataFrame的索引</b>"
   ]
  },
  {
   "cell_type": "code",
   "execution_count": 79,
   "id": "ff61501c-f86f-4666-8ed5-0916f99ee1aa",
   "metadata": {},
   "outputs": [
    {
     "data": {
      "text/plain": [
       "array([[53, 95, 91, 85, 73],\n",
       "       [23, 16, 77, 25, 54],\n",
       "       [79, 19,  2, 42, 54]], dtype=int32)"
      ]
     },
     "execution_count": 79,
     "metadata": {},
     "output_type": "execute_result"
    }
   ],
   "source": [
    "arr = np.random.randint(0,100,size=(3,5))\n",
    "arr"
   ]
  },
  {
   "cell_type": "code",
   "execution_count": 80,
   "id": "d9c45ebd-3f65-4c7c-88fb-728d7fb451f8",
   "metadata": {},
   "outputs": [
    {
     "data": {
      "text/plain": [
       "array([53, 95, 91, 85, 73], dtype=int32)"
      ]
     },
     "execution_count": 80,
     "metadata": {},
     "output_type": "execute_result"
    }
   ],
   "source": [
    "arr[0]"
   ]
  },
  {
   "cell_type": "code",
   "execution_count": 81,
   "id": "e01ba934-0688-492a-8a4c-e6bd236a0729",
   "metadata": {},
   "outputs": [
    {
     "data": {
      "text/plain": [
       "array([53, 23, 79], dtype=int32)"
      ]
     },
     "execution_count": 81,
     "metadata": {},
     "output_type": "execute_result"
    }
   ],
   "source": [
    "arr[:,0]"
   ]
  },
  {
   "cell_type": "code",
   "execution_count": 82,
   "id": "0e68d624-952a-433f-b04d-7b0368485cec",
   "metadata": {},
   "outputs": [
    {
     "data": {
      "text/plain": [
       "np.int32(95)"
      ]
     },
     "execution_count": 82,
     "metadata": {},
     "output_type": "execute_result"
    }
   ],
   "source": [
    "arr[0,1]"
   ]
  },
  {
   "cell_type": "code",
   "execution_count": 83,
   "id": "655e4cbd-f602-4585-b095-eab90043c7cf",
   "metadata": {},
   "outputs": [
    {
     "data": {
      "text/plain": [
       "array([[53, 95, 91, 85, 73],\n",
       "       [23, 16, 77, 25, 54]], dtype=int32)"
      ]
     },
     "execution_count": 83,
     "metadata": {},
     "output_type": "execute_result"
    }
   ],
   "source": [
    "arr[[0,1]]"
   ]
  },
  {
   "cell_type": "code",
   "execution_count": 84,
   "id": "f7c95778-d8c9-4dc4-bc9e-4cc31861cbf8",
   "metadata": {},
   "outputs": [
    {
     "data": {
      "text/plain": [
       "array([[53, 95],\n",
       "       [23, 16],\n",
       "       [79, 19]], dtype=int32)"
      ]
     },
     "execution_count": 84,
     "metadata": {},
     "output_type": "execute_result"
    }
   ],
   "source": [
    "arr[:,[0,1]]"
   ]
  },
  {
   "cell_type": "code",
   "execution_count": 85,
   "id": "f3a0f14b-1378-448b-8d79-4b600ac24156",
   "metadata": {},
   "outputs": [
    {
     "data": {
      "text/html": [
       "<div>\n",
       "<style scoped>\n",
       "    .dataframe tbody tr th:only-of-type {\n",
       "        vertical-align: middle;\n",
       "    }\n",
       "\n",
       "    .dataframe tbody tr th {\n",
       "        vertical-align: top;\n",
       "    }\n",
       "\n",
       "    .dataframe thead th {\n",
       "        text-align: right;\n",
       "    }\n",
       "</style>\n",
       "<table border=\"1\" class=\"dataframe\">\n",
       "  <thead>\n",
       "    <tr style=\"text-align: right;\">\n",
       "      <th></th>\n",
       "      <th>张三</th>\n",
       "      <th>李四</th>\n",
       "    </tr>\n",
       "  </thead>\n",
       "  <tbody>\n",
       "    <tr>\n",
       "      <th>语文</th>\n",
       "      <td>150</td>\n",
       "      <td>0</td>\n",
       "    </tr>\n",
       "    <tr>\n",
       "      <th>数学</th>\n",
       "      <td>150</td>\n",
       "      <td>0</td>\n",
       "    </tr>\n",
       "    <tr>\n",
       "      <th>英语</th>\n",
       "      <td>150</td>\n",
       "      <td>0</td>\n",
       "    </tr>\n",
       "    <tr>\n",
       "      <th>理综</th>\n",
       "      <td>300</td>\n",
       "      <td>0</td>\n",
       "    </tr>\n",
       "  </tbody>\n",
       "</table>\n",
       "</div>"
      ],
      "text/plain": [
       "     张三  李四\n",
       "语文  150   0\n",
       "数学  150   0\n",
       "英语  150   0\n",
       "理综  300   0"
      ]
     },
     "execution_count": 85,
     "metadata": {},
     "output_type": "execute_result"
    }
   ],
   "source": [
    "df"
   ]
  },
  {
   "cell_type": "code",
   "execution_count": 86,
   "id": "5701f0b6-3a05-41e2-b913-6019f4a33f3b",
   "metadata": {},
   "outputs": [
    {
     "data": {
      "text/plain": [
       "语文    150\n",
       "数学    150\n",
       "英语    150\n",
       "理综    300\n",
       "Name: 张三, dtype: int32"
      ]
     },
     "execution_count": 86,
     "metadata": {},
     "output_type": "execute_result"
    }
   ],
   "source": [
    "df[\"张三\"]"
   ]
  },
  {
   "cell_type": "code",
   "execution_count": 2,
   "id": "59204801-74d3-458c-a7c1-6cf470707082",
   "metadata": {},
   "outputs": [
    {
     "data": {
      "text/html": [
       "<div>\n",
       "<style scoped>\n",
       "    .dataframe tbody tr th:only-of-type {\n",
       "        vertical-align: middle;\n",
       "    }\n",
       "\n",
       "    .dataframe tbody tr th {\n",
       "        vertical-align: top;\n",
       "    }\n",
       "\n",
       "    .dataframe thead th {\n",
       "        text-align: right;\n",
       "    }\n",
       "</style>\n",
       "<table border=\"1\" class=\"dataframe\">\n",
       "  <thead>\n",
       "    <tr style=\"text-align: right;\">\n",
       "      <th></th>\n",
       "      <th>A</th>\n",
       "      <th>B</th>\n",
       "      <th>C</th>\n",
       "      <th>D</th>\n",
       "      <th>E</th>\n",
       "    </tr>\n",
       "  </thead>\n",
       "  <tbody>\n",
       "    <tr>\n",
       "      <th>a</th>\n",
       "      <td>59</td>\n",
       "      <td>75</td>\n",
       "      <td>54</td>\n",
       "      <td>44</td>\n",
       "      <td>36</td>\n",
       "    </tr>\n",
       "    <tr>\n",
       "      <th>b</th>\n",
       "      <td>52</td>\n",
       "      <td>46</td>\n",
       "      <td>93</td>\n",
       "      <td>17</td>\n",
       "      <td>26</td>\n",
       "    </tr>\n",
       "    <tr>\n",
       "      <th>c</th>\n",
       "      <td>30</td>\n",
       "      <td>32</td>\n",
       "      <td>54</td>\n",
       "      <td>90</td>\n",
       "      <td>61</td>\n",
       "    </tr>\n",
       "  </tbody>\n",
       "</table>\n",
       "</div>"
      ],
      "text/plain": [
       "    A   B   C   D   E\n",
       "a  59  75  54  44  36\n",
       "b  52  46  93  17  26\n",
       "c  30  32  54  90  61"
      ]
     },
     "execution_count": 2,
     "metadata": {},
     "output_type": "execute_result"
    }
   ],
   "source": [
    "df = DataFrame(data=np.random.randint(0,100,size=(3,5)),index=list(\"abc\"),columns=list(\"ABCDE\"))\n",
    "df"
   ]
  },
  {
   "cell_type": "code",
   "execution_count": 91,
   "id": "01f0404a-7910-4cb2-be71-526e97e33b3b",
   "metadata": {},
   "outputs": [
    {
     "data": {
      "text/plain": [
       "0    90\n",
       "1    72\n",
       "2    46\n",
       "Name: A, dtype: int32"
      ]
     },
     "execution_count": 91,
     "metadata": {},
     "output_type": "execute_result"
    }
   ],
   "source": [
    "# 字典访问\n",
    "df[\"A\"]"
   ]
  },
  {
   "cell_type": "code",
   "execution_count": 93,
   "id": "3fb76a59-65ce-404d-a19a-bee4ea63ab01",
   "metadata": {},
   "outputs": [
    {
     "data": {
      "text/plain": [
       "0    90\n",
       "1    72\n",
       "2    46\n",
       "Name: A, dtype: int32"
      ]
     },
     "execution_count": 93,
     "metadata": {},
     "output_type": "execute_result"
    }
   ],
   "source": [
    "# 属性访问\n",
    "df.A"
   ]
  },
  {
   "cell_type": "code",
   "execution_count": 95,
   "id": "100b60f9-bcc9-42d5-8813-87820287bd30",
   "metadata": {},
   "outputs": [
    {
     "data": {
      "text/html": [
       "<div>\n",
       "<style scoped>\n",
       "    .dataframe tbody tr th:only-of-type {\n",
       "        vertical-align: middle;\n",
       "    }\n",
       "\n",
       "    .dataframe tbody tr th {\n",
       "        vertical-align: top;\n",
       "    }\n",
       "\n",
       "    .dataframe thead th {\n",
       "        text-align: right;\n",
       "    }\n",
       "</style>\n",
       "<table border=\"1\" class=\"dataframe\">\n",
       "  <thead>\n",
       "    <tr style=\"text-align: right;\">\n",
       "      <th></th>\n",
       "      <th>A</th>\n",
       "      <th>B</th>\n",
       "    </tr>\n",
       "  </thead>\n",
       "  <tbody>\n",
       "    <tr>\n",
       "      <th>0</th>\n",
       "      <td>90</td>\n",
       "      <td>52</td>\n",
       "    </tr>\n",
       "    <tr>\n",
       "      <th>1</th>\n",
       "      <td>72</td>\n",
       "      <td>20</td>\n",
       "    </tr>\n",
       "    <tr>\n",
       "      <th>2</th>\n",
       "      <td>46</td>\n",
       "      <td>27</td>\n",
       "    </tr>\n",
       "  </tbody>\n",
       "</table>\n",
       "</div>"
      ],
      "text/plain": [
       "    A   B\n",
       "0  90  52\n",
       "1  72  20\n",
       "2  46  27"
      ]
     },
     "execution_count": 95,
     "metadata": {},
     "output_type": "execute_result"
    }
   ],
   "source": [
    "# 使用标签列表访问\n",
    "df[[\"A\",\"B\"]]"
   ]
  },
  {
   "cell_type": "code",
   "execution_count": 97,
   "id": "6e0fd02c-525b-47fb-a79b-b02bd36d1389",
   "metadata": {},
   "outputs": [
    {
     "data": {
      "text/plain": [
       "np.int32(90)"
      ]
     },
     "execution_count": 97,
     "metadata": {},
     "output_type": "execute_result"
    }
   ],
   "source": [
    "df[\"A\"].loc[0]"
   ]
  },
  {
   "cell_type": "code",
   "execution_count": 104,
   "id": "b8b83a8b-cf4e-49fa-b6f3-580151466a1b",
   "metadata": {},
   "outputs": [
    {
     "data": {
      "text/plain": [
       "A    51\n",
       "B    44\n",
       "C    39\n",
       "D    64\n",
       "E    98\n",
       "Name: a, dtype: int32"
      ]
     },
     "execution_count": 104,
     "metadata": {},
     "output_type": "execute_result"
    }
   ],
   "source": [
    "df.loc[\"a\"]"
   ]
  },
  {
   "cell_type": "code",
   "execution_count": 102,
   "id": "0253e679-691c-408a-910d-24cf795cf77e",
   "metadata": {},
   "outputs": [
    {
     "data": {
      "text/html": [
       "<div>\n",
       "<style scoped>\n",
       "    .dataframe tbody tr th:only-of-type {\n",
       "        vertical-align: middle;\n",
       "    }\n",
       "\n",
       "    .dataframe tbody tr th {\n",
       "        vertical-align: top;\n",
       "    }\n",
       "\n",
       "    .dataframe thead th {\n",
       "        text-align: right;\n",
       "    }\n",
       "</style>\n",
       "<table border=\"1\" class=\"dataframe\">\n",
       "  <thead>\n",
       "    <tr style=\"text-align: right;\">\n",
       "      <th></th>\n",
       "      <th>A</th>\n",
       "      <th>B</th>\n",
       "      <th>C</th>\n",
       "      <th>D</th>\n",
       "      <th>E</th>\n",
       "    </tr>\n",
       "  </thead>\n",
       "  <tbody>\n",
       "    <tr>\n",
       "      <th>a</th>\n",
       "      <td>51</td>\n",
       "      <td>44</td>\n",
       "      <td>39</td>\n",
       "      <td>64</td>\n",
       "      <td>98</td>\n",
       "    </tr>\n",
       "    <tr>\n",
       "      <th>b</th>\n",
       "      <td>62</td>\n",
       "      <td>23</td>\n",
       "      <td>69</td>\n",
       "      <td>93</td>\n",
       "      <td>56</td>\n",
       "    </tr>\n",
       "    <tr>\n",
       "      <th>c</th>\n",
       "      <td>98</td>\n",
       "      <td>57</td>\n",
       "      <td>89</td>\n",
       "      <td>63</td>\n",
       "      <td>76</td>\n",
       "    </tr>\n",
       "  </tbody>\n",
       "</table>\n",
       "</div>"
      ],
      "text/plain": [
       "    A   B   C   D   E\n",
       "a  51  44  39  64  98\n",
       "b  62  23  69  93  56\n",
       "c  98  57  89  63  76"
      ]
     },
     "execution_count": 102,
     "metadata": {},
     "output_type": "execute_result"
    }
   ],
   "source": [
    "df"
   ]
  },
  {
   "cell_type": "code",
   "execution_count": 106,
   "id": "ee2c8d47-5454-434c-b01b-310accde4a06",
   "metadata": {},
   "outputs": [
    {
     "data": {
      "text/html": [
       "<div>\n",
       "<style scoped>\n",
       "    .dataframe tbody tr th:only-of-type {\n",
       "        vertical-align: middle;\n",
       "    }\n",
       "\n",
       "    .dataframe tbody tr th {\n",
       "        vertical-align: top;\n",
       "    }\n",
       "\n",
       "    .dataframe thead th {\n",
       "        text-align: right;\n",
       "    }\n",
       "</style>\n",
       "<table border=\"1\" class=\"dataframe\">\n",
       "  <thead>\n",
       "    <tr style=\"text-align: right;\">\n",
       "      <th></th>\n",
       "      <th>A</th>\n",
       "      <th>B</th>\n",
       "      <th>C</th>\n",
       "      <th>D</th>\n",
       "      <th>E</th>\n",
       "    </tr>\n",
       "  </thead>\n",
       "  <tbody>\n",
       "    <tr>\n",
       "      <th>a</th>\n",
       "      <td>51</td>\n",
       "      <td>44</td>\n",
       "      <td>39</td>\n",
       "      <td>64</td>\n",
       "      <td>98</td>\n",
       "    </tr>\n",
       "    <tr>\n",
       "      <th>b</th>\n",
       "      <td>62</td>\n",
       "      <td>23</td>\n",
       "      <td>69</td>\n",
       "      <td>93</td>\n",
       "      <td>56</td>\n",
       "    </tr>\n",
       "  </tbody>\n",
       "</table>\n",
       "</div>"
      ],
      "text/plain": [
       "    A   B   C   D   E\n",
       "a  51  44  39  64  98\n",
       "b  62  23  69  93  56"
      ]
     },
     "execution_count": 106,
     "metadata": {},
     "output_type": "execute_result"
    }
   ],
   "source": [
    "\n",
    "df.loc[[\"a\",\"b\"]]"
   ]
  },
  {
   "cell_type": "code",
   "execution_count": 108,
   "id": "dd142068-c79b-4d33-bee7-d231811abd95",
   "metadata": {
    "scrolled": true
   },
   "outputs": [
    {
     "ename": "KeyError",
     "evalue": "'a'",
     "output_type": "error",
     "traceback": [
      "\u001b[1;31m---------------------------------------------------------------------------\u001b[0m",
      "\u001b[1;31mKeyError\u001b[0m                                  Traceback (most recent call last)",
      "File \u001b[1;32mE:\\Users\\13202\\AppData\\Local\\Programs\\Python\\Python312\\Lib\\site-packages\\pandas\\core\\indexes\\base.py:3805\u001b[0m, in \u001b[0;36mIndex.get_loc\u001b[1;34m(self, key)\u001b[0m\n\u001b[0;32m   3804\u001b[0m \u001b[38;5;28;01mtry\u001b[39;00m:\n\u001b[1;32m-> 3805\u001b[0m     \u001b[38;5;28;01mreturn\u001b[39;00m \u001b[38;5;28;43mself\u001b[39;49m\u001b[38;5;241;43m.\u001b[39;49m\u001b[43m_engine\u001b[49m\u001b[38;5;241;43m.\u001b[39;49m\u001b[43mget_loc\u001b[49m\u001b[43m(\u001b[49m\u001b[43mcasted_key\u001b[49m\u001b[43m)\u001b[49m\n\u001b[0;32m   3806\u001b[0m \u001b[38;5;28;01mexcept\u001b[39;00m \u001b[38;5;167;01mKeyError\u001b[39;00m \u001b[38;5;28;01mas\u001b[39;00m err:\n",
      "File \u001b[1;32mindex.pyx:167\u001b[0m, in \u001b[0;36mpandas._libs.index.IndexEngine.get_loc\u001b[1;34m()\u001b[0m\n",
      "File \u001b[1;32mindex.pyx:196\u001b[0m, in \u001b[0;36mpandas._libs.index.IndexEngine.get_loc\u001b[1;34m()\u001b[0m\n",
      "File \u001b[1;32mpandas\\\\_libs\\\\hashtable_class_helper.pxi:7081\u001b[0m, in \u001b[0;36mpandas._libs.hashtable.PyObjectHashTable.get_item\u001b[1;34m()\u001b[0m\n",
      "File \u001b[1;32mpandas\\\\_libs\\\\hashtable_class_helper.pxi:7089\u001b[0m, in \u001b[0;36mpandas._libs.hashtable.PyObjectHashTable.get_item\u001b[1;34m()\u001b[0m\n",
      "\u001b[1;31mKeyError\u001b[0m: 'a'",
      "\nThe above exception was the direct cause of the following exception:\n",
      "\u001b[1;31mKeyError\u001b[0m                                  Traceback (most recent call last)",
      "Cell \u001b[1;32mIn[108], line 2\u001b[0m\n\u001b[0;32m      1\u001b[0m \u001b[38;5;66;03m# 这是访问列的方式，不是行，访问行必须使用.loc\u001b[39;00m\n\u001b[1;32m----> 2\u001b[0m \u001b[43mdf\u001b[49m\u001b[43m[\u001b[49m\u001b[38;5;124;43m\"\u001b[39;49m\u001b[38;5;124;43ma\u001b[39;49m\u001b[38;5;124;43m\"\u001b[39;49m\u001b[43m]\u001b[49m\n",
      "File \u001b[1;32mE:\\Users\\13202\\AppData\\Local\\Programs\\Python\\Python312\\Lib\\site-packages\\pandas\\core\\frame.py:4102\u001b[0m, in \u001b[0;36mDataFrame.__getitem__\u001b[1;34m(self, key)\u001b[0m\n\u001b[0;32m   4100\u001b[0m \u001b[38;5;28;01mif\u001b[39;00m \u001b[38;5;28mself\u001b[39m\u001b[38;5;241m.\u001b[39mcolumns\u001b[38;5;241m.\u001b[39mnlevels \u001b[38;5;241m>\u001b[39m \u001b[38;5;241m1\u001b[39m:\n\u001b[0;32m   4101\u001b[0m     \u001b[38;5;28;01mreturn\u001b[39;00m \u001b[38;5;28mself\u001b[39m\u001b[38;5;241m.\u001b[39m_getitem_multilevel(key)\n\u001b[1;32m-> 4102\u001b[0m indexer \u001b[38;5;241m=\u001b[39m \u001b[38;5;28;43mself\u001b[39;49m\u001b[38;5;241;43m.\u001b[39;49m\u001b[43mcolumns\u001b[49m\u001b[38;5;241;43m.\u001b[39;49m\u001b[43mget_loc\u001b[49m\u001b[43m(\u001b[49m\u001b[43mkey\u001b[49m\u001b[43m)\u001b[49m\n\u001b[0;32m   4103\u001b[0m \u001b[38;5;28;01mif\u001b[39;00m is_integer(indexer):\n\u001b[0;32m   4104\u001b[0m     indexer \u001b[38;5;241m=\u001b[39m [indexer]\n",
      "File \u001b[1;32mE:\\Users\\13202\\AppData\\Local\\Programs\\Python\\Python312\\Lib\\site-packages\\pandas\\core\\indexes\\base.py:3812\u001b[0m, in \u001b[0;36mIndex.get_loc\u001b[1;34m(self, key)\u001b[0m\n\u001b[0;32m   3807\u001b[0m     \u001b[38;5;28;01mif\u001b[39;00m \u001b[38;5;28misinstance\u001b[39m(casted_key, \u001b[38;5;28mslice\u001b[39m) \u001b[38;5;129;01mor\u001b[39;00m (\n\u001b[0;32m   3808\u001b[0m         \u001b[38;5;28misinstance\u001b[39m(casted_key, abc\u001b[38;5;241m.\u001b[39mIterable)\n\u001b[0;32m   3809\u001b[0m         \u001b[38;5;129;01mand\u001b[39;00m \u001b[38;5;28many\u001b[39m(\u001b[38;5;28misinstance\u001b[39m(x, \u001b[38;5;28mslice\u001b[39m) \u001b[38;5;28;01mfor\u001b[39;00m x \u001b[38;5;129;01min\u001b[39;00m casted_key)\n\u001b[0;32m   3810\u001b[0m     ):\n\u001b[0;32m   3811\u001b[0m         \u001b[38;5;28;01mraise\u001b[39;00m InvalidIndexError(key)\n\u001b[1;32m-> 3812\u001b[0m     \u001b[38;5;28;01mraise\u001b[39;00m \u001b[38;5;167;01mKeyError\u001b[39;00m(key) \u001b[38;5;28;01mfrom\u001b[39;00m \u001b[38;5;21;01merr\u001b[39;00m\n\u001b[0;32m   3813\u001b[0m \u001b[38;5;28;01mexcept\u001b[39;00m \u001b[38;5;167;01mTypeError\u001b[39;00m:\n\u001b[0;32m   3814\u001b[0m     \u001b[38;5;66;03m# If we have a listlike key, _check_indexing_error will raise\u001b[39;00m\n\u001b[0;32m   3815\u001b[0m     \u001b[38;5;66;03m#  InvalidIndexError. Otherwise we fall through and re-raise\u001b[39;00m\n\u001b[0;32m   3816\u001b[0m     \u001b[38;5;66;03m#  the TypeError.\u001b[39;00m\n\u001b[0;32m   3817\u001b[0m     \u001b[38;5;28mself\u001b[39m\u001b[38;5;241m.\u001b[39m_check_indexing_error(key)\n",
      "\u001b[1;31mKeyError\u001b[0m: 'a'"
     ]
    }
   ],
   "source": [
    "# 这是访问列的方式，不是行，访问行必须使用.loc\n",
    "df[\"a\"]"
   ]
  },
  {
   "cell_type": "code",
   "execution_count": 109,
   "id": "2545d587-9d4c-4751-9e4e-70bb426410d8",
   "metadata": {},
   "outputs": [
    {
     "data": {
      "text/html": [
       "<div>\n",
       "<style scoped>\n",
       "    .dataframe tbody tr th:only-of-type {\n",
       "        vertical-align: middle;\n",
       "    }\n",
       "\n",
       "    .dataframe tbody tr th {\n",
       "        vertical-align: top;\n",
       "    }\n",
       "\n",
       "    .dataframe thead th {\n",
       "        text-align: right;\n",
       "    }\n",
       "</style>\n",
       "<table border=\"1\" class=\"dataframe\">\n",
       "  <thead>\n",
       "    <tr style=\"text-align: right;\">\n",
       "      <th></th>\n",
       "      <th>A</th>\n",
       "      <th>B</th>\n",
       "      <th>C</th>\n",
       "      <th>D</th>\n",
       "      <th>E</th>\n",
       "    </tr>\n",
       "  </thead>\n",
       "  <tbody>\n",
       "    <tr>\n",
       "      <th>a</th>\n",
       "      <td>51</td>\n",
       "      <td>44</td>\n",
       "      <td>39</td>\n",
       "      <td>64</td>\n",
       "      <td>98</td>\n",
       "    </tr>\n",
       "    <tr>\n",
       "      <th>b</th>\n",
       "      <td>62</td>\n",
       "      <td>23</td>\n",
       "      <td>69</td>\n",
       "      <td>93</td>\n",
       "      <td>56</td>\n",
       "    </tr>\n",
       "  </tbody>\n",
       "</table>\n",
       "</div>"
      ],
      "text/plain": [
       "    A   B   C   D   E\n",
       "a  51  44  39  64  98\n",
       "b  62  23  69  93  56"
      ]
     },
     "execution_count": 109,
     "metadata": {},
     "output_type": "execute_result"
    }
   ],
   "source": [
    "# 隐式索引\n",
    "df.iloc[[0,1]]"
   ]
  },
  {
   "cell_type": "code",
   "execution_count": 110,
   "id": "b4d02419-bd96-44eb-bd4c-31bc2a22fac0",
   "metadata": {},
   "outputs": [
    {
     "data": {
      "text/plain": [
       "array([[53, 95, 91, 85, 73],\n",
       "       [23, 16, 77, 25, 54],\n",
       "       [79, 19,  2, 42, 54]], dtype=int32)"
      ]
     },
     "execution_count": 110,
     "metadata": {},
     "output_type": "execute_result"
    }
   ],
   "source": [
    "# 元素访问的逻辑和numpy的访问逻辑一致（先行后列）\n",
    "arr"
   ]
  },
  {
   "cell_type": "code",
   "execution_count": 111,
   "id": "95413f5f-9fac-4658-859a-56c5bd707326",
   "metadata": {},
   "outputs": [
    {
     "data": {
      "text/plain": [
       "np.int32(95)"
      ]
     },
     "execution_count": 111,
     "metadata": {},
     "output_type": "execute_result"
    }
   ],
   "source": [
    "arr[0,1]"
   ]
  },
  {
   "cell_type": "code",
   "execution_count": 112,
   "id": "410800b9-c136-470e-af52-60457869ff50",
   "metadata": {},
   "outputs": [
    {
     "data": {
      "text/html": [
       "<div>\n",
       "<style scoped>\n",
       "    .dataframe tbody tr th:only-of-type {\n",
       "        vertical-align: middle;\n",
       "    }\n",
       "\n",
       "    .dataframe tbody tr th {\n",
       "        vertical-align: top;\n",
       "    }\n",
       "\n",
       "    .dataframe thead th {\n",
       "        text-align: right;\n",
       "    }\n",
       "</style>\n",
       "<table border=\"1\" class=\"dataframe\">\n",
       "  <thead>\n",
       "    <tr style=\"text-align: right;\">\n",
       "      <th></th>\n",
       "      <th>A</th>\n",
       "      <th>B</th>\n",
       "      <th>C</th>\n",
       "      <th>D</th>\n",
       "      <th>E</th>\n",
       "    </tr>\n",
       "  </thead>\n",
       "  <tbody>\n",
       "    <tr>\n",
       "      <th>a</th>\n",
       "      <td>51</td>\n",
       "      <td>44</td>\n",
       "      <td>39</td>\n",
       "      <td>64</td>\n",
       "      <td>98</td>\n",
       "    </tr>\n",
       "    <tr>\n",
       "      <th>b</th>\n",
       "      <td>62</td>\n",
       "      <td>23</td>\n",
       "      <td>69</td>\n",
       "      <td>93</td>\n",
       "      <td>56</td>\n",
       "    </tr>\n",
       "    <tr>\n",
       "      <th>c</th>\n",
       "      <td>98</td>\n",
       "      <td>57</td>\n",
       "      <td>89</td>\n",
       "      <td>63</td>\n",
       "      <td>76</td>\n",
       "    </tr>\n",
       "  </tbody>\n",
       "</table>\n",
       "</div>"
      ],
      "text/plain": [
       "    A   B   C   D   E\n",
       "a  51  44  39  64  98\n",
       "b  62  23  69  93  56\n",
       "c  98  57  89  63  76"
      ]
     },
     "execution_count": 112,
     "metadata": {},
     "output_type": "execute_result"
    }
   ],
   "source": [
    "df"
   ]
  },
  {
   "cell_type": "code",
   "execution_count": 113,
   "id": "193cff8f-1c2a-42fd-b8c4-c04acc6f0201",
   "metadata": {},
   "outputs": [
    {
     "data": {
      "text/plain": [
       "np.int32(44)"
      ]
     },
     "execution_count": 113,
     "metadata": {},
     "output_type": "execute_result"
    }
   ],
   "source": [
    "df.loc[\"a\",\"B\"]"
   ]
  },
  {
   "cell_type": "code",
   "execution_count": 114,
   "id": "b8681367-c72d-4217-af1d-df0c242b3335",
   "metadata": {},
   "outputs": [
    {
     "data": {
      "text/plain": [
       "np.int32(44)"
      ]
     },
     "execution_count": 114,
     "metadata": {},
     "output_type": "execute_result"
    }
   ],
   "source": [
    "df.iloc[0,1]"
   ]
  },
  {
   "cell_type": "code",
   "execution_count": null,
   "id": "77a12de1-1d60-4445-885b-8169e319a6bc",
   "metadata": {},
   "outputs": [],
   "source": []
  },
  {
   "cell_type": "code",
   "execution_count": 123,
   "id": "fc7b7be9-f8f8-43e1-842e-3f35563d63ed",
   "metadata": {},
   "outputs": [],
   "source": [
    "# 间接访问 赋值时可能会带来风险，只适合读操作"
   ]
  },
  {
   "cell_type": "code",
   "execution_count": 115,
   "id": "47d11ca2-79d3-42b1-93f0-d1ecd4490f09",
   "metadata": {},
   "outputs": [
    {
     "data": {
      "text/plain": [
       "np.int32(44)"
      ]
     },
     "execution_count": 115,
     "metadata": {},
     "output_type": "execute_result"
    }
   ],
   "source": [
    "df[\"B\"].loc[\"a\"]"
   ]
  },
  {
   "cell_type": "code",
   "execution_count": 116,
   "id": "5fccab7e-4429-4358-83f5-f9fc90025509",
   "metadata": {},
   "outputs": [
    {
     "data": {
      "text/plain": [
       "np.int32(44)"
      ]
     },
     "execution_count": 116,
     "metadata": {},
     "output_type": "execute_result"
    }
   ],
   "source": [
    "df[\"B\"].iloc[0]"
   ]
  },
  {
   "cell_type": "code",
   "execution_count": 118,
   "id": "4307edfc-a974-4722-b8b4-e2d2bda599ad",
   "metadata": {},
   "outputs": [
    {
     "data": {
      "text/plain": [
       "np.int32(44)"
      ]
     },
     "execution_count": 118,
     "metadata": {},
     "output_type": "execute_result"
    }
   ],
   "source": [
    "df[\"B\"][\"a\"]"
   ]
  },
  {
   "cell_type": "code",
   "execution_count": 119,
   "id": "e410146b-a0f3-4776-bd54-4c7614df3cc0",
   "metadata": {},
   "outputs": [
    {
     "data": {
      "text/html": [
       "<div>\n",
       "<style scoped>\n",
       "    .dataframe tbody tr th:only-of-type {\n",
       "        vertical-align: middle;\n",
       "    }\n",
       "\n",
       "    .dataframe tbody tr th {\n",
       "        vertical-align: top;\n",
       "    }\n",
       "\n",
       "    .dataframe thead th {\n",
       "        text-align: right;\n",
       "    }\n",
       "</style>\n",
       "<table border=\"1\" class=\"dataframe\">\n",
       "  <thead>\n",
       "    <tr style=\"text-align: right;\">\n",
       "      <th></th>\n",
       "      <th>A</th>\n",
       "      <th>B</th>\n",
       "      <th>C</th>\n",
       "      <th>D</th>\n",
       "      <th>E</th>\n",
       "    </tr>\n",
       "  </thead>\n",
       "  <tbody>\n",
       "    <tr>\n",
       "      <th>a</th>\n",
       "      <td>51</td>\n",
       "      <td>44</td>\n",
       "      <td>39</td>\n",
       "      <td>64</td>\n",
       "      <td>98</td>\n",
       "    </tr>\n",
       "    <tr>\n",
       "      <th>b</th>\n",
       "      <td>62</td>\n",
       "      <td>23</td>\n",
       "      <td>69</td>\n",
       "      <td>93</td>\n",
       "      <td>56</td>\n",
       "    </tr>\n",
       "    <tr>\n",
       "      <th>c</th>\n",
       "      <td>98</td>\n",
       "      <td>57</td>\n",
       "      <td>89</td>\n",
       "      <td>63</td>\n",
       "      <td>76</td>\n",
       "    </tr>\n",
       "  </tbody>\n",
       "</table>\n",
       "</div>"
      ],
      "text/plain": [
       "    A   B   C   D   E\n",
       "a  51  44  39  64  98\n",
       "b  62  23  69  93  56\n",
       "c  98  57  89  63  76"
      ]
     },
     "execution_count": 119,
     "metadata": {},
     "output_type": "execute_result"
    }
   ],
   "source": [
    "df"
   ]
  },
  {
   "cell_type": "code",
   "execution_count": 122,
   "id": "4bc4bb38-afde-4b78-87d7-ec3c3e60b106",
   "metadata": {},
   "outputs": [
    {
     "data": {
      "text/html": [
       "<div>\n",
       "<style scoped>\n",
       "    .dataframe tbody tr th:only-of-type {\n",
       "        vertical-align: middle;\n",
       "    }\n",
       "\n",
       "    .dataframe tbody tr th {\n",
       "        vertical-align: top;\n",
       "    }\n",
       "\n",
       "    .dataframe thead th {\n",
       "        text-align: right;\n",
       "    }\n",
       "</style>\n",
       "<table border=\"1\" class=\"dataframe\">\n",
       "  <thead>\n",
       "    <tr style=\"text-align: right;\">\n",
       "      <th></th>\n",
       "      <th>A</th>\n",
       "      <th>B</th>\n",
       "      <th>C</th>\n",
       "      <th>D</th>\n",
       "      <th>E</th>\n",
       "    </tr>\n",
       "  </thead>\n",
       "  <tbody>\n",
       "    <tr>\n",
       "      <th>a</th>\n",
       "      <td>100</td>\n",
       "      <td>44</td>\n",
       "      <td>39</td>\n",
       "      <td>64</td>\n",
       "      <td>98</td>\n",
       "    </tr>\n",
       "    <tr>\n",
       "      <th>b</th>\n",
       "      <td>62</td>\n",
       "      <td>23</td>\n",
       "      <td>69</td>\n",
       "      <td>93</td>\n",
       "      <td>56</td>\n",
       "    </tr>\n",
       "    <tr>\n",
       "      <th>c</th>\n",
       "      <td>98</td>\n",
       "      <td>57</td>\n",
       "      <td>89</td>\n",
       "      <td>63</td>\n",
       "      <td>76</td>\n",
       "    </tr>\n",
       "  </tbody>\n",
       "</table>\n",
       "</div>"
      ],
      "text/plain": [
       "     A   B   C   D   E\n",
       "a  100  44  39  64  98\n",
       "b   62  23  69  93  56\n",
       "c   98  57  89  63  76"
      ]
     },
     "execution_count": 122,
     "metadata": {},
     "output_type": "execute_result"
    }
   ],
   "source": [
    "# 直接访问 适合读写操作\n",
    "df.loc[\"a\",\"A\"] = 100\n",
    "df"
   ]
  },
  {
   "cell_type": "markdown",
   "id": "5af2d2ba-9385-422f-99bb-7153dde8728e",
   "metadata": {},
   "source": [
    "<b>切片</b>"
   ]
  },
  {
   "cell_type": "code",
   "execution_count": 124,
   "id": "c10d14b1-ba75-45de-8b02-1a506b5fad4a",
   "metadata": {},
   "outputs": [
    {
     "data": {
      "text/html": [
       "<div>\n",
       "<style scoped>\n",
       "    .dataframe tbody tr th:only-of-type {\n",
       "        vertical-align: middle;\n",
       "    }\n",
       "\n",
       "    .dataframe tbody tr th {\n",
       "        vertical-align: top;\n",
       "    }\n",
       "\n",
       "    .dataframe thead th {\n",
       "        text-align: right;\n",
       "    }\n",
       "</style>\n",
       "<table border=\"1\" class=\"dataframe\">\n",
       "  <thead>\n",
       "    <tr style=\"text-align: right;\">\n",
       "      <th></th>\n",
       "      <th>A</th>\n",
       "      <th>B</th>\n",
       "      <th>C</th>\n",
       "      <th>D</th>\n",
       "      <th>E</th>\n",
       "    </tr>\n",
       "  </thead>\n",
       "  <tbody>\n",
       "    <tr>\n",
       "      <th>a</th>\n",
       "      <td>100</td>\n",
       "      <td>44</td>\n",
       "      <td>39</td>\n",
       "      <td>64</td>\n",
       "      <td>98</td>\n",
       "    </tr>\n",
       "    <tr>\n",
       "      <th>b</th>\n",
       "      <td>62</td>\n",
       "      <td>23</td>\n",
       "      <td>69</td>\n",
       "      <td>93</td>\n",
       "      <td>56</td>\n",
       "    </tr>\n",
       "    <tr>\n",
       "      <th>c</th>\n",
       "      <td>98</td>\n",
       "      <td>57</td>\n",
       "      <td>89</td>\n",
       "      <td>63</td>\n",
       "      <td>76</td>\n",
       "    </tr>\n",
       "  </tbody>\n",
       "</table>\n",
       "</div>"
      ],
      "text/plain": [
       "     A   B   C   D   E\n",
       "a  100  44  39  64  98\n",
       "b   62  23  69  93  56\n",
       "c   98  57  89  63  76"
      ]
     },
     "execution_count": 124,
     "metadata": {},
     "output_type": "execute_result"
    }
   ],
   "source": [
    "df"
   ]
  },
  {
   "cell_type": "code",
   "execution_count": 126,
   "id": "4983714d-aa02-41e1-aa57-6f0a433038a3",
   "metadata": {},
   "outputs": [
    {
     "data": {
      "text/html": [
       "<div>\n",
       "<style scoped>\n",
       "    .dataframe tbody tr th:only-of-type {\n",
       "        vertical-align: middle;\n",
       "    }\n",
       "\n",
       "    .dataframe tbody tr th {\n",
       "        vertical-align: top;\n",
       "    }\n",
       "\n",
       "    .dataframe thead th {\n",
       "        text-align: right;\n",
       "    }\n",
       "</style>\n",
       "<table border=\"1\" class=\"dataframe\">\n",
       "  <thead>\n",
       "    <tr style=\"text-align: right;\">\n",
       "      <th></th>\n",
       "      <th>A</th>\n",
       "      <th>B</th>\n",
       "      <th>C</th>\n",
       "      <th>D</th>\n",
       "      <th>E</th>\n",
       "    </tr>\n",
       "  </thead>\n",
       "  <tbody>\n",
       "  </tbody>\n",
       "</table>\n",
       "</div>"
      ],
      "text/plain": [
       "Empty DataFrame\n",
       "Columns: [A, B, C, D, E]\n",
       "Index: []"
      ]
     },
     "execution_count": 126,
     "metadata": {},
     "output_type": "execute_result"
    }
   ],
   "source": [
    "df[\"A\":\"B\"]"
   ]
  },
  {
   "cell_type": "code",
   "execution_count": 127,
   "id": "54cb7b5a-b3cf-451e-9955-dac91a526aee",
   "metadata": {},
   "outputs": [
    {
     "data": {
      "text/html": [
       "<div>\n",
       "<style scoped>\n",
       "    .dataframe tbody tr th:only-of-type {\n",
       "        vertical-align: middle;\n",
       "    }\n",
       "\n",
       "    .dataframe tbody tr th {\n",
       "        vertical-align: top;\n",
       "    }\n",
       "\n",
       "    .dataframe thead th {\n",
       "        text-align: right;\n",
       "    }\n",
       "</style>\n",
       "<table border=\"1\" class=\"dataframe\">\n",
       "  <thead>\n",
       "    <tr style=\"text-align: right;\">\n",
       "      <th></th>\n",
       "      <th>A</th>\n",
       "      <th>B</th>\n",
       "      <th>C</th>\n",
       "      <th>D</th>\n",
       "      <th>E</th>\n",
       "    </tr>\n",
       "  </thead>\n",
       "  <tbody>\n",
       "    <tr>\n",
       "      <th>a</th>\n",
       "      <td>100</td>\n",
       "      <td>44</td>\n",
       "      <td>39</td>\n",
       "      <td>64</td>\n",
       "      <td>98</td>\n",
       "    </tr>\n",
       "    <tr>\n",
       "      <th>b</th>\n",
       "      <td>62</td>\n",
       "      <td>23</td>\n",
       "      <td>69</td>\n",
       "      <td>93</td>\n",
       "      <td>56</td>\n",
       "    </tr>\n",
       "  </tbody>\n",
       "</table>\n",
       "</div>"
      ],
      "text/plain": [
       "     A   B   C   D   E\n",
       "a  100  44  39  64  98\n",
       "b   62  23  69  93  56"
      ]
     },
     "execution_count": 127,
     "metadata": {},
     "output_type": "execute_result"
    }
   ],
   "source": [
    "df[\"a\":\"b\"]"
   ]
  },
  {
   "cell_type": "code",
   "execution_count": 129,
   "id": "58a397d1-47a2-4fb7-b8e2-7eab94da3520",
   "metadata": {},
   "outputs": [
    {
     "data": {
      "text/html": [
       "<div>\n",
       "<style scoped>\n",
       "    .dataframe tbody tr th:only-of-type {\n",
       "        vertical-align: middle;\n",
       "    }\n",
       "\n",
       "    .dataframe tbody tr th {\n",
       "        vertical-align: top;\n",
       "    }\n",
       "\n",
       "    .dataframe thead th {\n",
       "        text-align: right;\n",
       "    }\n",
       "</style>\n",
       "<table border=\"1\" class=\"dataframe\">\n",
       "  <thead>\n",
       "    <tr style=\"text-align: right;\">\n",
       "      <th></th>\n",
       "      <th>A</th>\n",
       "      <th>B</th>\n",
       "      <th>C</th>\n",
       "      <th>D</th>\n",
       "      <th>E</th>\n",
       "    </tr>\n",
       "  </thead>\n",
       "  <tbody>\n",
       "    <tr>\n",
       "      <th>a</th>\n",
       "      <td>100</td>\n",
       "      <td>44</td>\n",
       "      <td>39</td>\n",
       "      <td>64</td>\n",
       "      <td>98</td>\n",
       "    </tr>\n",
       "    <tr>\n",
       "      <th>b</th>\n",
       "      <td>62</td>\n",
       "      <td>23</td>\n",
       "      <td>69</td>\n",
       "      <td>93</td>\n",
       "      <td>56</td>\n",
       "    </tr>\n",
       "  </tbody>\n",
       "</table>\n",
       "</div>"
      ],
      "text/plain": [
       "     A   B   C   D   E\n",
       "a  100  44  39  64  98\n",
       "b   62  23  69  93  56"
      ]
     },
     "execution_count": 129,
     "metadata": {},
     "output_type": "execute_result"
    }
   ],
   "source": [
    "# 行切片\n",
    "df.loc[\"a\":\"b\"]"
   ]
  },
  {
   "cell_type": "code",
   "execution_count": 130,
   "id": "2641369d-56e5-4286-84ca-0be9f3de4189",
   "metadata": {},
   "outputs": [
    {
     "data": {
      "text/html": [
       "<div>\n",
       "<style scoped>\n",
       "    .dataframe tbody tr th:only-of-type {\n",
       "        vertical-align: middle;\n",
       "    }\n",
       "\n",
       "    .dataframe tbody tr th {\n",
       "        vertical-align: top;\n",
       "    }\n",
       "\n",
       "    .dataframe thead th {\n",
       "        text-align: right;\n",
       "    }\n",
       "</style>\n",
       "<table border=\"1\" class=\"dataframe\">\n",
       "  <thead>\n",
       "    <tr style=\"text-align: right;\">\n",
       "      <th></th>\n",
       "      <th>A</th>\n",
       "      <th>B</th>\n",
       "    </tr>\n",
       "  </thead>\n",
       "  <tbody>\n",
       "    <tr>\n",
       "      <th>a</th>\n",
       "      <td>100</td>\n",
       "      <td>44</td>\n",
       "    </tr>\n",
       "    <tr>\n",
       "      <th>b</th>\n",
       "      <td>62</td>\n",
       "      <td>23</td>\n",
       "    </tr>\n",
       "    <tr>\n",
       "      <th>c</th>\n",
       "      <td>98</td>\n",
       "      <td>57</td>\n",
       "    </tr>\n",
       "  </tbody>\n",
       "</table>\n",
       "</div>"
      ],
      "text/plain": [
       "     A   B\n",
       "a  100  44\n",
       "b   62  23\n",
       "c   98  57"
      ]
     },
     "execution_count": 130,
     "metadata": {},
     "output_type": "execute_result"
    }
   ],
   "source": [
    "# 列切片逻辑和二维数组一样，先行后列\n",
    "df.loc[:,\"A\":\"B\"]"
   ]
  },
  {
   "cell_type": "code",
   "execution_count": 131,
   "id": "6316252c-a1df-4880-abba-19d6c0bc93ad",
   "metadata": {},
   "outputs": [
    {
     "data": {
      "text/html": [
       "<div>\n",
       "<style scoped>\n",
       "    .dataframe tbody tr th:only-of-type {\n",
       "        vertical-align: middle;\n",
       "    }\n",
       "\n",
       "    .dataframe tbody tr th {\n",
       "        vertical-align: top;\n",
       "    }\n",
       "\n",
       "    .dataframe thead th {\n",
       "        text-align: right;\n",
       "    }\n",
       "</style>\n",
       "<table border=\"1\" class=\"dataframe\">\n",
       "  <thead>\n",
       "    <tr style=\"text-align: right;\">\n",
       "      <th></th>\n",
       "      <th>A</th>\n",
       "      <th>B</th>\n",
       "      <th>C</th>\n",
       "      <th>D</th>\n",
       "      <th>E</th>\n",
       "    </tr>\n",
       "  </thead>\n",
       "  <tbody>\n",
       "    <tr>\n",
       "      <th>a</th>\n",
       "      <td>100</td>\n",
       "      <td>44</td>\n",
       "      <td>39</td>\n",
       "      <td>64</td>\n",
       "      <td>98</td>\n",
       "    </tr>\n",
       "    <tr>\n",
       "      <th>b</th>\n",
       "      <td>62</td>\n",
       "      <td>23</td>\n",
       "      <td>69</td>\n",
       "      <td>93</td>\n",
       "      <td>56</td>\n",
       "    </tr>\n",
       "  </tbody>\n",
       "</table>\n",
       "</div>"
      ],
      "text/plain": [
       "     A   B   C   D   E\n",
       "a  100  44  39  64  98\n",
       "b   62  23  69  93  56"
      ]
     },
     "execution_count": 131,
     "metadata": {},
     "output_type": "execute_result"
    }
   ],
   "source": [
    "# 隐式索引做行切片\n",
    "df.iloc[0:2]"
   ]
  },
  {
   "cell_type": "code",
   "execution_count": 133,
   "id": "c4d9f44f-658b-4c00-99d5-f9bd10bc28a8",
   "metadata": {},
   "outputs": [
    {
     "data": {
      "text/html": [
       "<div>\n",
       "<style scoped>\n",
       "    .dataframe tbody tr th:only-of-type {\n",
       "        vertical-align: middle;\n",
       "    }\n",
       "\n",
       "    .dataframe tbody tr th {\n",
       "        vertical-align: top;\n",
       "    }\n",
       "\n",
       "    .dataframe thead th {\n",
       "        text-align: right;\n",
       "    }\n",
       "</style>\n",
       "<table border=\"1\" class=\"dataframe\">\n",
       "  <thead>\n",
       "    <tr style=\"text-align: right;\">\n",
       "      <th></th>\n",
       "      <th>A</th>\n",
       "      <th>B</th>\n",
       "    </tr>\n",
       "  </thead>\n",
       "  <tbody>\n",
       "    <tr>\n",
       "      <th>a</th>\n",
       "      <td>100</td>\n",
       "      <td>44</td>\n",
       "    </tr>\n",
       "    <tr>\n",
       "      <th>b</th>\n",
       "      <td>62</td>\n",
       "      <td>23</td>\n",
       "    </tr>\n",
       "    <tr>\n",
       "      <th>c</th>\n",
       "      <td>98</td>\n",
       "      <td>57</td>\n",
       "    </tr>\n",
       "  </tbody>\n",
       "</table>\n",
       "</div>"
      ],
      "text/plain": [
       "     A   B\n",
       "a  100  44\n",
       "b   62  23\n",
       "c   98  57"
      ]
     },
     "execution_count": 133,
     "metadata": {},
     "output_type": "execute_result"
    }
   ],
   "source": [
    "# 隐式索引做列切片\n",
    "df.iloc[:,0:2]"
   ]
  },
  {
   "cell_type": "code",
   "execution_count": 135,
   "id": "6561a2dd-3e45-45d4-88ef-d42bf3ffd1ed",
   "metadata": {},
   "outputs": [
    {
     "data": {
      "text/html": [
       "<div>\n",
       "<style scoped>\n",
       "    .dataframe tbody tr th:only-of-type {\n",
       "        vertical-align: middle;\n",
       "    }\n",
       "\n",
       "    .dataframe tbody tr th {\n",
       "        vertical-align: top;\n",
       "    }\n",
       "\n",
       "    .dataframe thead th {\n",
       "        text-align: right;\n",
       "    }\n",
       "</style>\n",
       "<table border=\"1\" class=\"dataframe\">\n",
       "  <thead>\n",
       "    <tr style=\"text-align: right;\">\n",
       "      <th></th>\n",
       "      <th>A</th>\n",
       "      <th>B</th>\n",
       "      <th>C</th>\n",
       "      <th>D</th>\n",
       "      <th>E</th>\n",
       "    </tr>\n",
       "  </thead>\n",
       "  <tbody>\n",
       "    <tr>\n",
       "      <th>a</th>\n",
       "      <td>100</td>\n",
       "      <td>44</td>\n",
       "      <td>39</td>\n",
       "      <td>64</td>\n",
       "      <td>98</td>\n",
       "    </tr>\n",
       "    <tr>\n",
       "      <th>c</th>\n",
       "      <td>98</td>\n",
       "      <td>57</td>\n",
       "      <td>89</td>\n",
       "      <td>63</td>\n",
       "      <td>76</td>\n",
       "    </tr>\n",
       "  </tbody>\n",
       "</table>\n",
       "</div>"
      ],
      "text/plain": [
       "     A   B   C   D   E\n",
       "a  100  44  39  64  98\n",
       "c   98  57  89  63  76"
      ]
     },
     "execution_count": 135,
     "metadata": {},
     "output_type": "execute_result"
    }
   ],
   "source": [
    "# 使用bool列表访问\n",
    "l_bool = [True,False,True]\n",
    "df.loc[l_bool]"
   ]
  },
  {
   "cell_type": "code",
   "execution_count": 136,
   "id": "d008fa23-1d32-4f5f-bf75-7d139e633b7d",
   "metadata": {},
   "outputs": [
    {
     "data": {
      "text/html": [
       "<div>\n",
       "<style scoped>\n",
       "    .dataframe tbody tr th:only-of-type {\n",
       "        vertical-align: middle;\n",
       "    }\n",
       "\n",
       "    .dataframe tbody tr th {\n",
       "        vertical-align: top;\n",
       "    }\n",
       "\n",
       "    .dataframe thead th {\n",
       "        text-align: right;\n",
       "    }\n",
       "</style>\n",
       "<table border=\"1\" class=\"dataframe\">\n",
       "  <thead>\n",
       "    <tr style=\"text-align: right;\">\n",
       "      <th></th>\n",
       "      <th>A</th>\n",
       "      <th>C</th>\n",
       "    </tr>\n",
       "  </thead>\n",
       "  <tbody>\n",
       "    <tr>\n",
       "      <th>a</th>\n",
       "      <td>100</td>\n",
       "      <td>39</td>\n",
       "    </tr>\n",
       "    <tr>\n",
       "      <th>b</th>\n",
       "      <td>62</td>\n",
       "      <td>69</td>\n",
       "    </tr>\n",
       "    <tr>\n",
       "      <th>c</th>\n",
       "      <td>98</td>\n",
       "      <td>89</td>\n",
       "    </tr>\n",
       "  </tbody>\n",
       "</table>\n",
       "</div>"
      ],
      "text/plain": [
       "     A   C\n",
       "a  100  39\n",
       "b   62  69\n",
       "c   98  89"
      ]
     },
     "execution_count": 136,
     "metadata": {},
     "output_type": "execute_result"
    }
   ],
   "source": [
    "l_bool2 = [True,False,True,False,False]\n",
    "df.loc[:,l_bool2]"
   ]
  },
  {
   "cell_type": "code",
   "execution_count": 137,
   "id": "5059f683-1063-4834-9d03-19a4754871da",
   "metadata": {},
   "outputs": [
    {
     "data": {
      "text/plain": [
       "c     True\n",
       "b    False\n",
       "a     True\n",
       "dtype: bool"
      ]
     },
     "execution_count": 137,
     "metadata": {},
     "output_type": "execute_result"
    }
   ],
   "source": [
    "s_bool = Series(data=[True,False,True], index=list(\"cba\"))\n",
    "s_bool"
   ]
  },
  {
   "cell_type": "code",
   "execution_count": 138,
   "id": "15a9207f-b52a-4ac5-b8a3-244fe68087bf",
   "metadata": {},
   "outputs": [
    {
     "data": {
      "text/html": [
       "<div>\n",
       "<style scoped>\n",
       "    .dataframe tbody tr th:only-of-type {\n",
       "        vertical-align: middle;\n",
       "    }\n",
       "\n",
       "    .dataframe tbody tr th {\n",
       "        vertical-align: top;\n",
       "    }\n",
       "\n",
       "    .dataframe thead th {\n",
       "        text-align: right;\n",
       "    }\n",
       "</style>\n",
       "<table border=\"1\" class=\"dataframe\">\n",
       "  <thead>\n",
       "    <tr style=\"text-align: right;\">\n",
       "      <th></th>\n",
       "      <th>A</th>\n",
       "      <th>B</th>\n",
       "      <th>C</th>\n",
       "      <th>D</th>\n",
       "      <th>E</th>\n",
       "    </tr>\n",
       "  </thead>\n",
       "  <tbody>\n",
       "    <tr>\n",
       "      <th>a</th>\n",
       "      <td>100</td>\n",
       "      <td>44</td>\n",
       "      <td>39</td>\n",
       "      <td>64</td>\n",
       "      <td>98</td>\n",
       "    </tr>\n",
       "    <tr>\n",
       "      <th>c</th>\n",
       "      <td>98</td>\n",
       "      <td>57</td>\n",
       "      <td>89</td>\n",
       "      <td>63</td>\n",
       "      <td>76</td>\n",
       "    </tr>\n",
       "  </tbody>\n",
       "</table>\n",
       "</div>"
      ],
      "text/plain": [
       "     A   B   C   D   E\n",
       "a  100  44  39  64  98\n",
       "c   98  57  89  63  76"
      ]
     },
     "execution_count": 138,
     "metadata": {},
     "output_type": "execute_result"
    }
   ],
   "source": [
    "df.loc[s_bool]"
   ]
  },
  {
   "cell_type": "code",
   "execution_count": 3,
   "id": "770d10fe-325e-413d-a7dd-4c6e51f00ef3",
   "metadata": {},
   "outputs": [
    {
     "data": {
      "text/html": [
       "<div>\n",
       "<style scoped>\n",
       "    .dataframe tbody tr th:only-of-type {\n",
       "        vertical-align: middle;\n",
       "    }\n",
       "\n",
       "    .dataframe tbody tr th {\n",
       "        vertical-align: top;\n",
       "    }\n",
       "\n",
       "    .dataframe thead th {\n",
       "        text-align: right;\n",
       "    }\n",
       "</style>\n",
       "<table border=\"1\" class=\"dataframe\">\n",
       "  <thead>\n",
       "    <tr style=\"text-align: right;\">\n",
       "      <th></th>\n",
       "      <th>A</th>\n",
       "      <th>B</th>\n",
       "      <th>C</th>\n",
       "      <th>D</th>\n",
       "      <th>E</th>\n",
       "    </tr>\n",
       "  </thead>\n",
       "  <tbody>\n",
       "    <tr>\n",
       "      <th>a</th>\n",
       "      <td>59</td>\n",
       "      <td>75</td>\n",
       "      <td>54</td>\n",
       "      <td>44</td>\n",
       "      <td>36</td>\n",
       "    </tr>\n",
       "    <tr>\n",
       "      <th>b</th>\n",
       "      <td>52</td>\n",
       "      <td>46</td>\n",
       "      <td>93</td>\n",
       "      <td>17</td>\n",
       "      <td>26</td>\n",
       "    </tr>\n",
       "    <tr>\n",
       "      <th>c</th>\n",
       "      <td>30</td>\n",
       "      <td>32</td>\n",
       "      <td>54</td>\n",
       "      <td>90</td>\n",
       "      <td>61</td>\n",
       "    </tr>\n",
       "  </tbody>\n",
       "</table>\n",
       "</div>"
      ],
      "text/plain": [
       "    A   B   C   D   E\n",
       "a  59  75  54  44  36\n",
       "b  52  46  93  17  26\n",
       "c  30  32  54  90  61"
      ]
     },
     "execution_count": 3,
     "metadata": {},
     "output_type": "execute_result"
    }
   ],
   "source": [
    "df"
   ]
  },
  {
   "cell_type": "code",
   "execution_count": 4,
   "id": "55a8ee87-39ee-456f-b577-d27ae19c7628",
   "metadata": {},
   "outputs": [
    {
     "data": {
      "text/html": [
       "<div>\n",
       "<style scoped>\n",
       "    .dataframe tbody tr th:only-of-type {\n",
       "        vertical-align: middle;\n",
       "    }\n",
       "\n",
       "    .dataframe tbody tr th {\n",
       "        vertical-align: top;\n",
       "    }\n",
       "\n",
       "    .dataframe thead th {\n",
       "        text-align: right;\n",
       "    }\n",
       "</style>\n",
       "<table border=\"1\" class=\"dataframe\">\n",
       "  <thead>\n",
       "    <tr style=\"text-align: right;\">\n",
       "      <th></th>\n",
       "      <th>A</th>\n",
       "      <th>C</th>\n",
       "    </tr>\n",
       "  </thead>\n",
       "  <tbody>\n",
       "    <tr>\n",
       "      <th>a</th>\n",
       "      <td>59</td>\n",
       "      <td>54</td>\n",
       "    </tr>\n",
       "    <tr>\n",
       "      <th>b</th>\n",
       "      <td>52</td>\n",
       "      <td>93</td>\n",
       "    </tr>\n",
       "    <tr>\n",
       "      <th>c</th>\n",
       "      <td>30</td>\n",
       "      <td>54</td>\n",
       "    </tr>\n",
       "  </tbody>\n",
       "</table>\n",
       "</div>"
      ],
      "text/plain": [
       "    A   C\n",
       "a  59  54\n",
       "b  52  93\n",
       "c  30  54"
      ]
     },
     "execution_count": 4,
     "metadata": {},
     "output_type": "execute_result"
    }
   ],
   "source": [
    "df.iloc[:,[0,2]]"
   ]
  },
  {
   "cell_type": "code",
   "execution_count": 5,
   "id": "2bc4f81c-b19b-420a-90c2-aba642885f03",
   "metadata": {},
   "outputs": [
    {
     "data": {
      "text/html": [
       "<div>\n",
       "<style scoped>\n",
       "    .dataframe tbody tr th:only-of-type {\n",
       "        vertical-align: middle;\n",
       "    }\n",
       "\n",
       "    .dataframe tbody tr th {\n",
       "        vertical-align: top;\n",
       "    }\n",
       "\n",
       "    .dataframe thead th {\n",
       "        text-align: right;\n",
       "    }\n",
       "</style>\n",
       "<table border=\"1\" class=\"dataframe\">\n",
       "  <thead>\n",
       "    <tr style=\"text-align: right;\">\n",
       "      <th></th>\n",
       "      <th>A</th>\n",
       "      <th>C</th>\n",
       "    </tr>\n",
       "  </thead>\n",
       "  <tbody>\n",
       "    <tr>\n",
       "      <th>a</th>\n",
       "      <td>59</td>\n",
       "      <td>54</td>\n",
       "    </tr>\n",
       "    <tr>\n",
       "      <th>b</th>\n",
       "      <td>52</td>\n",
       "      <td>93</td>\n",
       "    </tr>\n",
       "    <tr>\n",
       "      <th>c</th>\n",
       "      <td>30</td>\n",
       "      <td>54</td>\n",
       "    </tr>\n",
       "  </tbody>\n",
       "</table>\n",
       "</div>"
      ],
      "text/plain": [
       "    A   C\n",
       "a  59  54\n",
       "b  52  93\n",
       "c  30  54"
      ]
     },
     "execution_count": 5,
     "metadata": {},
     "output_type": "execute_result"
    }
   ],
   "source": [
    "df.loc[:,[\"A\",\"C\"]]"
   ]
  },
  {
   "cell_type": "code",
   "execution_count": 6,
   "id": "266395d6-c074-4770-8aa2-d587e42978d7",
   "metadata": {},
   "outputs": [
    {
     "data": {
      "text/html": [
       "<div>\n",
       "<style scoped>\n",
       "    .dataframe tbody tr th:only-of-type {\n",
       "        vertical-align: middle;\n",
       "    }\n",
       "\n",
       "    .dataframe tbody tr th {\n",
       "        vertical-align: top;\n",
       "    }\n",
       "\n",
       "    .dataframe thead th {\n",
       "        text-align: right;\n",
       "    }\n",
       "</style>\n",
       "<table border=\"1\" class=\"dataframe\">\n",
       "  <thead>\n",
       "    <tr style=\"text-align: right;\">\n",
       "      <th></th>\n",
       "      <th>A</th>\n",
       "      <th>C</th>\n",
       "    </tr>\n",
       "  </thead>\n",
       "  <tbody>\n",
       "    <tr>\n",
       "      <th>a</th>\n",
       "      <td>59</td>\n",
       "      <td>54</td>\n",
       "    </tr>\n",
       "    <tr>\n",
       "      <th>b</th>\n",
       "      <td>52</td>\n",
       "      <td>93</td>\n",
       "    </tr>\n",
       "    <tr>\n",
       "      <th>c</th>\n",
       "      <td>30</td>\n",
       "      <td>54</td>\n",
       "    </tr>\n",
       "  </tbody>\n",
       "</table>\n",
       "</div>"
      ],
      "text/plain": [
       "    A   C\n",
       "a  59  54\n",
       "b  52  93\n",
       "c  30  54"
      ]
     },
     "execution_count": 6,
     "metadata": {},
     "output_type": "execute_result"
    }
   ],
   "source": [
    "df[[\"A\",\"C\"]]"
   ]
  },
  {
   "cell_type": "code",
   "execution_count": 7,
   "id": "571cd276-60f6-4d15-80ad-2c5837113650",
   "metadata": {},
   "outputs": [
    {
     "data": {
      "text/html": [
       "<div>\n",
       "<style scoped>\n",
       "    .dataframe tbody tr th:only-of-type {\n",
       "        vertical-align: middle;\n",
       "    }\n",
       "\n",
       "    .dataframe tbody tr th {\n",
       "        vertical-align: top;\n",
       "    }\n",
       "\n",
       "    .dataframe thead th {\n",
       "        text-align: right;\n",
       "    }\n",
       "</style>\n",
       "<table border=\"1\" class=\"dataframe\">\n",
       "  <thead>\n",
       "    <tr style=\"text-align: right;\">\n",
       "      <th></th>\n",
       "      <th>A</th>\n",
       "      <th>B</th>\n",
       "      <th>C</th>\n",
       "      <th>D</th>\n",
       "      <th>E</th>\n",
       "    </tr>\n",
       "  </thead>\n",
       "  <tbody>\n",
       "    <tr>\n",
       "      <th>a</th>\n",
       "      <td>59</td>\n",
       "      <td>75</td>\n",
       "      <td>54</td>\n",
       "      <td>44</td>\n",
       "      <td>36</td>\n",
       "    </tr>\n",
       "    <tr>\n",
       "      <th>b</th>\n",
       "      <td>52</td>\n",
       "      <td>46</td>\n",
       "      <td>93</td>\n",
       "      <td>17</td>\n",
       "      <td>26</td>\n",
       "    </tr>\n",
       "    <tr>\n",
       "      <th>c</th>\n",
       "      <td>30</td>\n",
       "      <td>32</td>\n",
       "      <td>54</td>\n",
       "      <td>90</td>\n",
       "      <td>61</td>\n",
       "    </tr>\n",
       "  </tbody>\n",
       "</table>\n",
       "</div>"
      ],
      "text/plain": [
       "    A   B   C   D   E\n",
       "a  59  75  54  44  36\n",
       "b  52  46  93  17  26\n",
       "c  30  32  54  90  61"
      ]
     },
     "execution_count": 7,
     "metadata": {},
     "output_type": "execute_result"
    }
   ],
   "source": [
    "df.loc[:]"
   ]
  },
  {
   "cell_type": "code",
   "execution_count": 8,
   "id": "40ced447-9a49-4bc9-98e0-583e873f4e87",
   "metadata": {},
   "outputs": [
    {
     "data": {
      "text/html": [
       "<div>\n",
       "<style scoped>\n",
       "    .dataframe tbody tr th:only-of-type {\n",
       "        vertical-align: middle;\n",
       "    }\n",
       "\n",
       "    .dataframe tbody tr th {\n",
       "        vertical-align: top;\n",
       "    }\n",
       "\n",
       "    .dataframe thead th {\n",
       "        text-align: right;\n",
       "    }\n",
       "</style>\n",
       "<table border=\"1\" class=\"dataframe\">\n",
       "  <thead>\n",
       "    <tr style=\"text-align: right;\">\n",
       "      <th></th>\n",
       "      <th>A</th>\n",
       "      <th>B</th>\n",
       "      <th>C</th>\n",
       "      <th>D</th>\n",
       "      <th>E</th>\n",
       "    </tr>\n",
       "  </thead>\n",
       "  <tbody>\n",
       "    <tr>\n",
       "      <th>a</th>\n",
       "      <td>59</td>\n",
       "      <td>75</td>\n",
       "      <td>54</td>\n",
       "      <td>44</td>\n",
       "      <td>36</td>\n",
       "    </tr>\n",
       "    <tr>\n",
       "      <th>b</th>\n",
       "      <td>52</td>\n",
       "      <td>46</td>\n",
       "      <td>93</td>\n",
       "      <td>17</td>\n",
       "      <td>26</td>\n",
       "    </tr>\n",
       "    <tr>\n",
       "      <th>c</th>\n",
       "      <td>30</td>\n",
       "      <td>32</td>\n",
       "      <td>54</td>\n",
       "      <td>90</td>\n",
       "      <td>61</td>\n",
       "    </tr>\n",
       "  </tbody>\n",
       "</table>\n",
       "</div>"
      ],
      "text/plain": [
       "    A   B   C   D   E\n",
       "a  59  75  54  44  36\n",
       "b  52  46  93  17  26\n",
       "c  30  32  54  90  61"
      ]
     },
     "execution_count": 8,
     "metadata": {},
     "output_type": "execute_result"
    }
   ],
   "source": [
    "df"
   ]
  },
  {
   "cell_type": "code",
   "execution_count": 10,
   "id": "02e9b0ce-35e9-4ef8-a11b-632e677048d7",
   "metadata": {},
   "outputs": [
    {
     "data": {
      "text/html": [
       "<div>\n",
       "<style scoped>\n",
       "    .dataframe tbody tr th:only-of-type {\n",
       "        vertical-align: middle;\n",
       "    }\n",
       "\n",
       "    .dataframe tbody tr th {\n",
       "        vertical-align: top;\n",
       "    }\n",
       "\n",
       "    .dataframe thead th {\n",
       "        text-align: right;\n",
       "    }\n",
       "</style>\n",
       "<table border=\"1\" class=\"dataframe\">\n",
       "  <thead>\n",
       "    <tr style=\"text-align: right;\">\n",
       "      <th></th>\n",
       "      <th>A</th>\n",
       "      <th>B</th>\n",
       "    </tr>\n",
       "  </thead>\n",
       "  <tbody>\n",
       "    <tr>\n",
       "      <th>a</th>\n",
       "      <td>59</td>\n",
       "      <td>75</td>\n",
       "    </tr>\n",
       "    <tr>\n",
       "      <th>b</th>\n",
       "      <td>52</td>\n",
       "      <td>46</td>\n",
       "    </tr>\n",
       "  </tbody>\n",
       "</table>\n",
       "</div>"
      ],
      "text/plain": [
       "    A   B\n",
       "a  59  75\n",
       "b  52  46"
      ]
     },
     "execution_count": 10,
     "metadata": {},
     "output_type": "execute_result"
    }
   ],
   "source": [
    "df.iloc[0:2,0:2]"
   ]
  },
  {
   "cell_type": "code",
   "execution_count": 12,
   "id": "b81e089d-b2d3-4ec7-b8f3-cf32a7493e6d",
   "metadata": {},
   "outputs": [
    {
     "data": {
      "text/html": [
       "<div>\n",
       "<style scoped>\n",
       "    .dataframe tbody tr th:only-of-type {\n",
       "        vertical-align: middle;\n",
       "    }\n",
       "\n",
       "    .dataframe tbody tr th {\n",
       "        vertical-align: top;\n",
       "    }\n",
       "\n",
       "    .dataframe thead th {\n",
       "        text-align: right;\n",
       "    }\n",
       "</style>\n",
       "<table border=\"1\" class=\"dataframe\">\n",
       "  <thead>\n",
       "    <tr style=\"text-align: right;\">\n",
       "      <th></th>\n",
       "      <th>A</th>\n",
       "      <th>B</th>\n",
       "    </tr>\n",
       "  </thead>\n",
       "  <tbody>\n",
       "    <tr>\n",
       "      <th>a</th>\n",
       "      <td>59</td>\n",
       "      <td>75</td>\n",
       "    </tr>\n",
       "    <tr>\n",
       "      <th>b</th>\n",
       "      <td>52</td>\n",
       "      <td>46</td>\n",
       "    </tr>\n",
       "  </tbody>\n",
       "</table>\n",
       "</div>"
      ],
      "text/plain": [
       "    A   B\n",
       "a  59  75\n",
       "b  52  46"
      ]
     },
     "execution_count": 12,
     "metadata": {},
     "output_type": "execute_result"
    }
   ],
   "source": [
    "df.loc[\"a\":\"b\",\"A\":\"B\"]"
   ]
  },
  {
   "cell_type": "code",
   "execution_count": 16,
   "id": "ea4821fe-6952-4ffe-9e13-0f91a61e5962",
   "metadata": {},
   "outputs": [
    {
     "data": {
      "text/html": [
       "<div>\n",
       "<style scoped>\n",
       "    .dataframe tbody tr th:only-of-type {\n",
       "        vertical-align: middle;\n",
       "    }\n",
       "\n",
       "    .dataframe tbody tr th {\n",
       "        vertical-align: top;\n",
       "    }\n",
       "\n",
       "    .dataframe thead th {\n",
       "        text-align: right;\n",
       "    }\n",
       "</style>\n",
       "<table border=\"1\" class=\"dataframe\">\n",
       "  <thead>\n",
       "    <tr style=\"text-align: right;\">\n",
       "      <th></th>\n",
       "      <th>A</th>\n",
       "      <th>B</th>\n",
       "    </tr>\n",
       "  </thead>\n",
       "  <tbody>\n",
       "    <tr>\n",
       "      <th>a</th>\n",
       "      <td>59</td>\n",
       "      <td>75</td>\n",
       "    </tr>\n",
       "    <tr>\n",
       "      <th>b</th>\n",
       "      <td>52</td>\n",
       "      <td>46</td>\n",
       "    </tr>\n",
       "  </tbody>\n",
       "</table>\n",
       "</div>"
      ],
      "text/plain": [
       "    A   B\n",
       "a  59  75\n",
       "b  52  46"
      ]
     },
     "execution_count": 16,
     "metadata": {},
     "output_type": "execute_result"
    }
   ],
   "source": [
    "df[[\"A\",\"B\"]].loc[\"a\":\"b\"]"
   ]
  },
  {
   "cell_type": "code",
   "execution_count": 17,
   "id": "8e0bdb01-717d-4583-b15b-b26b8d534e82",
   "metadata": {},
   "outputs": [
    {
     "data": {
      "text/html": [
       "<div>\n",
       "<style scoped>\n",
       "    .dataframe tbody tr th:only-of-type {\n",
       "        vertical-align: middle;\n",
       "    }\n",
       "\n",
       "    .dataframe tbody tr th {\n",
       "        vertical-align: top;\n",
       "    }\n",
       "\n",
       "    .dataframe thead th {\n",
       "        text-align: right;\n",
       "    }\n",
       "</style>\n",
       "<table border=\"1\" class=\"dataframe\">\n",
       "  <thead>\n",
       "    <tr style=\"text-align: right;\">\n",
       "      <th></th>\n",
       "      <th>A</th>\n",
       "      <th>B</th>\n",
       "    </tr>\n",
       "  </thead>\n",
       "  <tbody>\n",
       "    <tr>\n",
       "      <th>a</th>\n",
       "      <td>59</td>\n",
       "      <td>75</td>\n",
       "    </tr>\n",
       "    <tr>\n",
       "      <th>b</th>\n",
       "      <td>52</td>\n",
       "      <td>46</td>\n",
       "    </tr>\n",
       "  </tbody>\n",
       "</table>\n",
       "</div>"
      ],
      "text/plain": [
       "    A   B\n",
       "a  59  75\n",
       "b  52  46"
      ]
     },
     "execution_count": 17,
     "metadata": {},
     "output_type": "execute_result"
    }
   ],
   "source": [
    "df.loc[[\"a\",\"b\"],[\"A\",\"B\"]]"
   ]
  },
  {
   "cell_type": "code",
   "execution_count": 18,
   "id": "fea393ec-d9bd-4141-b118-4e4c8de050ee",
   "metadata": {},
   "outputs": [
    {
     "data": {
      "text/html": [
       "<div>\n",
       "<style scoped>\n",
       "    .dataframe tbody tr th:only-of-type {\n",
       "        vertical-align: middle;\n",
       "    }\n",
       "\n",
       "    .dataframe tbody tr th {\n",
       "        vertical-align: top;\n",
       "    }\n",
       "\n",
       "    .dataframe thead th {\n",
       "        text-align: right;\n",
       "    }\n",
       "</style>\n",
       "<table border=\"1\" class=\"dataframe\">\n",
       "  <thead>\n",
       "    <tr style=\"text-align: right;\">\n",
       "      <th></th>\n",
       "      <th>A</th>\n",
       "      <th>B</th>\n",
       "      <th>C</th>\n",
       "      <th>D</th>\n",
       "      <th>E</th>\n",
       "    </tr>\n",
       "  </thead>\n",
       "  <tbody>\n",
       "    <tr>\n",
       "      <th>a</th>\n",
       "      <td>59</td>\n",
       "      <td>75</td>\n",
       "      <td>54</td>\n",
       "      <td>44</td>\n",
       "      <td>36</td>\n",
       "    </tr>\n",
       "    <tr>\n",
       "      <th>b</th>\n",
       "      <td>52</td>\n",
       "      <td>46</td>\n",
       "      <td>93</td>\n",
       "      <td>17</td>\n",
       "      <td>26</td>\n",
       "    </tr>\n",
       "    <tr>\n",
       "      <th>c</th>\n",
       "      <td>30</td>\n",
       "      <td>32</td>\n",
       "      <td>54</td>\n",
       "      <td>90</td>\n",
       "      <td>61</td>\n",
       "    </tr>\n",
       "  </tbody>\n",
       "</table>\n",
       "</div>"
      ],
      "text/plain": [
       "    A   B   C   D   E\n",
       "a  59  75  54  44  36\n",
       "b  52  46  93  17  26\n",
       "c  30  32  54  90  61"
      ]
     },
     "execution_count": 18,
     "metadata": {},
     "output_type": "execute_result"
    }
   ],
   "source": [
    "df"
   ]
  },
  {
   "cell_type": "markdown",
   "id": "c636a7a3-da8d-4984-8735-bba97d4486b4",
   "metadata": {},
   "source": [
    "测试是否保存"
   ]
  },
  {
   "cell_type": "code",
   "execution_count": null,
   "id": "fe180f07-7d6d-47af-b546-3a5d59087818",
   "metadata": {},
   "outputs": [],
   "source": []
  }
 ],
 "metadata": {
  "kernelspec": {
   "display_name": "Python 3 (ipykernel)",
   "language": "python",
   "name": "python3"
  },
  "language_info": {
   "codemirror_mode": {
    "name": "ipython",
    "version": 3
   },
   "file_extension": ".py",
   "mimetype": "text/x-python",
   "name": "python",
   "nbconvert_exporter": "python",
   "pygments_lexer": "ipython3",
   "version": "3.12.3"
  },
  "widgets": {
   "application/vnd.jupyter.widget-state+json": {
    "state": {},
    "version_major": 2,
    "version_minor": 0
   }
  }
 },
 "nbformat": 4,
 "nbformat_minor": 5
}
