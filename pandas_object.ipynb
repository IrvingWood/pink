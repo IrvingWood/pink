{
 "cells": [
  {
   "cell_type": "code",
   "execution_count": null,
   "id": "d6b31786-7f30-42ef-822c-e1af74b2cd0e",
   "metadata": {},
   "outputs": [],
   "source": [
    "数据分析三剑客"
   ]
  },
  {
   "cell_type": "code",
   "execution_count": 1,
   "id": "750b3cce-e011-4788-a82a-47999033cc5c",
   "metadata": {},
   "outputs": [],
   "source": [
    "import numpy as np\n",
    "import pandas as pd\n",
    "from pandas import Series,DataFrame\n",
    "import matplotlib as mpl"
   ]
  },
  {
   "cell_type": "markdown",
   "id": "702247f0-a2ed-4e6a-b88b-92d0e60ce202",
   "metadata": {},
   "source": [
    "## <b>1、Series</b>"
   ]
  },
  {
   "cell_type": "markdown",
   "id": "26543028-cbf1-457a-81b3-a3989984f5a3",
   "metadata": {},
   "source": [
    "一维数组：有序的数据类型相同的集合\n",
    "Series:一维数组的强化版，增加了像字典一样的key-value的访问机制，同时保留了数组的访问机制\n",
    "\n",
    "字典：无序的集合"
   ]
  },
  {
   "cell_type": "markdown",
   "id": "adc84904-9c5e-4fea-9224-0c2513e83e83",
   "metadata": {},
   "source": [
    "Series是一种类似于一维数组的对象，有下面两个部分组成：\n",
    "* values:一组数据\n",
    "* index：相关的数据索引标签\n",
    " "
   ]
  },
  {
   "cell_type": "code",
   "execution_count": 9,
   "id": "bbd62d53-b1f3-4985-8dd4-2f2602f69663",
   "metadata": {},
   "outputs": [
    {
     "data": {
      "text/plain": [
       "0    1.0\n",
       "1    1.0\n",
       "2    1.0\n",
       "3    1.0\n",
       "4    1.0\n",
       "dtype: float64"
      ]
     },
     "execution_count": 9,
     "metadata": {},
     "output_type": "execute_result"
    }
   ],
   "source": [
    "# 用np.arr构造\n",
    "arr = np.ones(shape=5)\n",
    "s1 = Series(arr)\n",
    "s1"
   ]
  },
  {
   "cell_type": "code",
   "execution_count": 10,
   "id": "f1b1a49b-12fe-44e1-bf47-c5608249a32a",
   "metadata": {},
   "outputs": [],
   "source": [
    "arr[0]=6"
   ]
  },
  {
   "cell_type": "code",
   "execution_count": 11,
   "id": "95ba6f63-bdda-4d03-8469-12e79ee4dc38",
   "metadata": {},
   "outputs": [
    {
     "data": {
      "text/plain": [
       "0    6.0\n",
       "1    1.0\n",
       "2    1.0\n",
       "3    1.0\n",
       "4    1.0\n",
       "dtype: float64"
      ]
     },
     "execution_count": 11,
     "metadata": {},
     "output_type": "execute_result"
    }
   ],
   "source": [
    "s1"
   ]
  },
  {
   "cell_type": "code",
   "execution_count": 7,
   "id": "10f0aa5e-bfbd-4bd6-8aed-0158c4389b3c",
   "metadata": {},
   "outputs": [],
   "source": [
    "# 用列表构造\n",
    "names = [\"Wood\",\"luuna\",\"jaca\",\"Irving\"]\n",
    "s = Series(names)"
   ]
  },
  {
   "cell_type": "code",
   "execution_count": 6,
   "id": "0afb2aac-45c3-4f16-9b1e-95707b97f1e6",
   "metadata": {},
   "outputs": [
    {
     "data": {
      "text/plain": [
       "['Wood', 'luuna', 'jaca', 'Irving']"
      ]
     },
     "execution_count": 6,
     "metadata": {},
     "output_type": "execute_result"
    }
   ],
   "source": [
    "names"
   ]
  },
  {
   "cell_type": "code",
   "execution_count": 4,
   "id": "bb90cf77-12c1-41f2-8bff-4b34ca9a0af3",
   "metadata": {},
   "outputs": [
    {
     "data": {
      "text/plain": [
       "0      Wood\n",
       "1     luuna\n",
       "2      jaca\n",
       "3    Irving\n",
       "dtype: object"
      ]
     },
     "execution_count": 4,
     "metadata": {},
     "output_type": "execute_result"
    }
   ],
   "source": [
    "s"
   ]
  },
  {
   "cell_type": "code",
   "execution_count": 12,
   "id": "0ebaec44-4be7-417a-a07e-cc5c51d24326",
   "metadata": {},
   "outputs": [],
   "source": [
    "names[0] = \"WOOD\""
   ]
  },
  {
   "cell_type": "code",
   "execution_count": 13,
   "id": "01196c17-12fb-4eb2-b202-794f64c1ea01",
   "metadata": {},
   "outputs": [
    {
     "data": {
      "text/plain": [
       "0      Wood\n",
       "1     luuna\n",
       "2      jaca\n",
       "3    Irving\n",
       "dtype: object"
      ]
     },
     "execution_count": 13,
     "metadata": {},
     "output_type": "execute_result"
    }
   ],
   "source": [
    "s"
   ]
  },
  {
   "cell_type": "code",
   "execution_count": 14,
   "id": "bca7f2ea-aa1f-449b-a2f8-890035de2d3b",
   "metadata": {},
   "outputs": [
    {
     "data": {
      "text/plain": [
       "['WOOD', 'luuna', 'jaca', 'Irving']"
      ]
     },
     "execution_count": 14,
     "metadata": {},
     "output_type": "execute_result"
    }
   ],
   "source": [
    "names"
   ]
  },
  {
   "cell_type": "code",
   "execution_count": 16,
   "id": "798fe7d5-d82d-4086-b051-d52518c9f527",
   "metadata": {},
   "outputs": [
    {
     "data": {
      "text/plain": [
       "key1      WOOD\n",
       "key2     luuna\n",
       "key4      jaca\n",
       "key3    Irving\n",
       "dtype: object"
      ]
     },
     "execution_count": 16,
     "metadata": {},
     "output_type": "execute_result"
    }
   ],
   "source": [
    "# 如果没有手动指定显示索引，则使用隐士索引自动填充\n",
    "s2 = Series(names, index=[\"key1\",\"key2\",\"key4\",\"key3\",])\n",
    "s2"
   ]
  },
  {
   "cell_type": "markdown",
   "id": "14768faf-f49b-417a-83d0-ac95bd77041f",
   "metadata": {},
   "source": [
    "由字典创建"
   ]
  },
  {
   "cell_type": "code",
   "execution_count": 23,
   "id": "66f38fb3-819f-4664-93ad-0efc32ed1f0d",
   "metadata": {},
   "outputs": [
    {
     "data": {
      "text/plain": [
       "k1      Wood\n",
       "k2    cooper\n",
       "dtype: object"
      ]
     },
     "execution_count": 23,
     "metadata": {},
     "output_type": "execute_result"
    }
   ],
   "source": [
    "dict1 = {\n",
    "    \"k1\":\"Wood\",\n",
    "    \"k3\":\"luuna\",\n",
    "    \"k2\":\"cooper\"\n",
    "}\n",
    "# index的优先级要高于字典键值的优先级\n",
    "s3 = Series(data=dict1, index=[\"k1\",\"k2\"])\n",
    "s3"
   ]
  },
  {
   "cell_type": "code",
   "execution_count": 24,
   "id": "e3160207-864f-4411-9c20-9b7e4d3c4730",
   "metadata": {},
   "outputs": [
    {
     "data": {
      "text/plain": [
       "array([150, 150, 150, 300])"
      ]
     },
     "execution_count": 24,
     "metadata": {},
     "output_type": "execute_result"
    }
   ],
   "source": [
    "arr = np.array([150,150,150,300])\n",
    "arr"
   ]
  },
  {
   "cell_type": "code",
   "execution_count": 30,
   "id": "4a37b661-7c2f-475a-abc8-81e0a0983ac8",
   "metadata": {},
   "outputs": [
    {
     "data": {
      "text/plain": [
       "语文    150\n",
       "数学    150\n",
       "英语    150\n",
       "理综    300\n",
       "dtype: int64"
      ]
     },
     "execution_count": 30,
     "metadata": {},
     "output_type": "execute_result"
    }
   ],
   "source": [
    "cj = Series(arr,index=[\"语文\",\"数学\",\"英语\",\"理综\"])\n",
    "cj"
   ]
  },
  {
   "cell_type": "code",
   "execution_count": 32,
   "id": "ce8f1721-4102-4d67-b31a-867b1faf06f1",
   "metadata": {},
   "outputs": [
    {
     "data": {
      "text/plain": [
       "语文    150\n",
       "数学    150\n",
       "英语    150\n",
       "理综    300\n",
       "dtype: int64"
      ]
     },
     "execution_count": 32,
     "metadata": {},
     "output_type": "execute_result"
    }
   ],
   "source": [
    "dic = {\n",
    "    \"语文\":150,\n",
    "    \"数学\":150,\n",
    "    \"英语\":150,\n",
    "    \"理综\":300\n",
    "}\n",
    "Series(data = dic)"
   ]
  },
  {
   "cell_type": "markdown",
   "id": "3630b215-74df-49f5-8a70-ed09d7670dda",
   "metadata": {},
   "source": [
    "Series的索引和切片"
   ]
  },
  {
   "cell_type": "code",
   "execution_count": 33,
   "id": "6cae8535-0a5a-49c2-ad94-3ffa312e05e1",
   "metadata": {},
   "outputs": [
    {
     "data": {
      "text/plain": [
       "array([90, 72, 70, 81, 86], dtype=int32)"
      ]
     },
     "execution_count": 33,
     "metadata": {},
     "output_type": "execute_result"
    }
   ],
   "source": [
    "arr = np.random.randint(0,100,size=5)\n",
    "arr"
   ]
  },
  {
   "cell_type": "code",
   "execution_count": 34,
   "id": "0bb522f7-5ad7-44ec-bb30-b732d2020443",
   "metadata": {},
   "outputs": [
    {
     "data": {
      "text/plain": [
       "np.int32(90)"
      ]
     },
     "execution_count": 34,
     "metadata": {},
     "output_type": "execute_result"
    }
   ],
   "source": [
    "arr[0]"
   ]
  },
  {
   "cell_type": "code",
   "execution_count": 36,
   "id": "1768fe07-4a45-40fa-8a23-51e0ccb1ff86",
   "metadata": {},
   "outputs": [
    {
     "data": {
      "text/plain": [
       "array([90, 90, 70, 70], dtype=int32)"
      ]
     },
     "execution_count": 36,
     "metadata": {},
     "output_type": "execute_result"
    }
   ],
   "source": [
    "arr[[0,0,2,2]]"
   ]
  },
  {
   "cell_type": "code",
   "execution_count": 37,
   "id": "4fd2c7bb-c75b-4cc2-9b3e-8fe237fecfc9",
   "metadata": {},
   "outputs": [
    {
     "data": {
      "text/plain": [
       "array([90, 72], dtype=int32)"
      ]
     },
     "execution_count": 37,
     "metadata": {},
     "output_type": "execute_result"
    }
   ],
   "source": [
    "arr[[True,True,False,False,False]]"
   ]
  },
  {
   "cell_type": "code",
   "execution_count": 38,
   "id": "d2547c50-38f8-48a9-8d6d-0aea03e02cf0",
   "metadata": {},
   "outputs": [
    {
     "data": {
      "text/plain": [
       "Wood      90\n",
       "luuna     72\n",
       "jaca      70\n",
       "Irving    81\n",
       "lila      86\n",
       "dtype: int32"
      ]
     },
     "execution_count": 38,
     "metadata": {},
     "output_type": "execute_result"
    }
   ],
   "source": [
    "# 1.Series的访问，完全兼容numpy数组访问\n",
    "s = Series(data=arr, index= [\"Wood\",\"luuna\",\"jaca\",\"Irving\",\"lila\"])\n",
    "s"
   ]
  },
  {
   "cell_type": "code",
   "execution_count": 39,
   "id": "99c74814-7eba-490e-b984-a3c32da2ef3d",
   "metadata": {},
   "outputs": [
    {
     "name": "stderr",
     "output_type": "stream",
     "text": [
      "C:\\Users\\13202\\AppData\\Local\\Temp\\ipykernel_10684\\243613605.py:1: FutureWarning: Series.__getitem__ treating keys as positions is deprecated. In a future version, integer keys will always be treated as labels (consistent with DataFrame behavior). To access a value by position, use `ser.iloc[pos]`\n",
      "  s[0]\n"
     ]
    },
    {
     "data": {
      "text/plain": [
       "np.int32(90)"
      ]
     },
     "execution_count": 39,
     "metadata": {},
     "output_type": "execute_result"
    }
   ],
   "source": [
    "s[0]"
   ]
  },
  {
   "cell_type": "code",
   "execution_count": 41,
   "id": "f83f9a97-d68a-4a8b-ae68-226d91894fb2",
   "metadata": {},
   "outputs": [
    {
     "name": "stderr",
     "output_type": "stream",
     "text": [
      "C:\\Users\\13202\\AppData\\Local\\Temp\\ipykernel_10684\\701055087.py:1: FutureWarning: Series.__getitem__ treating keys as positions is deprecated. In a future version, integer keys will always be treated as labels (consistent with DataFrame behavior). To access a value by position, use `ser.iloc[pos]`\n",
      "  s[[0,1,0,1]]\n"
     ]
    },
    {
     "data": {
      "text/plain": [
       "Wood     90\n",
       "luuna    72\n",
       "Wood     90\n",
       "luuna    72\n",
       "dtype: int32"
      ]
     },
     "execution_count": 41,
     "metadata": {},
     "output_type": "execute_result"
    }
   ],
   "source": [
    "s[[0,1,0,1]]"
   ]
  },
  {
   "cell_type": "code",
   "execution_count": 42,
   "id": "90c41530-5123-4e02-b139-3d7d6935a12e",
   "metadata": {},
   "outputs": [
    {
     "data": {
      "text/plain": [
       "Wood     90\n",
       "luuna    72\n",
       "dtype: int32"
      ]
     },
     "execution_count": 42,
     "metadata": {},
     "output_type": "execute_result"
    }
   ],
   "source": [
    "s[[True,True,False,False,False]]"
   ]
  },
  {
   "cell_type": "code",
   "execution_count": 43,
   "id": "c85fad66-a7f4-4d2e-a325-43a01083d363",
   "metadata": {},
   "outputs": [
    {
     "data": {
      "text/plain": [
       "np.int32(86)"
      ]
     },
     "execution_count": 43,
     "metadata": {},
     "output_type": "execute_result"
    }
   ],
   "source": [
    "# 2.使用显示索引访问,类似字典\n",
    "s[\"lila\"]"
   ]
  },
  {
   "cell_type": "code",
   "execution_count": 44,
   "id": "689e4f8b-eee9-469b-974d-f817f27b1a83",
   "metadata": {},
   "outputs": [
    {
     "data": {
      "text/plain": [
       "Wood    90\n",
       "jaca    70\n",
       "dtype: int32"
      ]
     },
     "execution_count": 44,
     "metadata": {},
     "output_type": "execute_result"
    }
   ],
   "source": [
    "s[[\"Wood\",\"jaca\"]]"
   ]
  },
  {
   "cell_type": "code",
   "execution_count": 45,
   "id": "8f0f9f15-5189-4783-afa7-426e67aa8987",
   "metadata": {},
   "outputs": [
    {
     "data": {
      "text/plain": [
       "np.int32(86)"
      ]
     },
     "execution_count": 45,
     "metadata": {},
     "output_type": "execute_result"
    }
   ],
   "source": [
    "# 3.使用loc访问，要配合显示索引,官方推荐\n",
    "s.loc[\"lila\"]"
   ]
  },
  {
   "cell_type": "code",
   "execution_count": 46,
   "id": "8105c286-d520-4b2c-a835-f8bf5e5a1612",
   "metadata": {},
   "outputs": [
    {
     "data": {
      "text/plain": [
       "Wood    90\n",
       "Wood    90\n",
       "dtype: int32"
      ]
     },
     "execution_count": 46,
     "metadata": {},
     "output_type": "execute_result"
    }
   ],
   "source": [
    "s.loc[[\"Wood\",\"Wood\"]]"
   ]
  },
  {
   "cell_type": "code",
   "execution_count": 47,
   "id": "126d73f5-bf26-4ed8-8fb3-9280b2399170",
   "metadata": {},
   "outputs": [
    {
     "data": {
      "text/plain": [
       "np.int32(90)"
      ]
     },
     "execution_count": 47,
     "metadata": {},
     "output_type": "execute_result"
    }
   ],
   "source": [
    "# 4。使用iloc，配合隐士索引访问，官方推荐的隐士索引的访问机制\n",
    "s.iloc[0]"
   ]
  },
  {
   "cell_type": "code",
   "execution_count": 48,
   "id": "848bd3b8-cfa6-46b2-8b07-8aa9d65b93a8",
   "metadata": {},
   "outputs": [
    {
     "data": {
      "text/plain": [
       "Wood      90\n",
       "luuna     72\n",
       "jaca      70\n",
       "Irving    81\n",
       "lila      86\n",
       "dtype: int32"
      ]
     },
     "execution_count": 48,
     "metadata": {},
     "output_type": "execute_result"
    }
   ],
   "source": [
    "s"
   ]
  },
  {
   "cell_type": "code",
   "execution_count": 49,
   "id": "4019b7c1-f475-4ccc-8bba-2b1f5454c161",
   "metadata": {},
   "outputs": [
    {
     "data": {
      "text/plain": [
       "Wood     90\n",
       "luuna    72\n",
       "jaca     70\n",
       "luuna    72\n",
       "dtype: int32"
      ]
     },
     "execution_count": 49,
     "metadata": {},
     "output_type": "execute_result"
    }
   ],
   "source": [
    "s.iloc[[0,1,2,1]]"
   ]
  },
  {
   "cell_type": "code",
   "execution_count": 64,
   "id": "ccd86667-10ed-42f2-aedc-a4c4400152ff",
   "metadata": {},
   "outputs": [],
   "source": [
    "# 5. 使用带索引的bool型的Series列表访问\n",
    "# 【注意】如果使用Series的Bool列表要注意索引对齐，顺序不要求一致，内容要求一致，长度一致\n",
    "s_bool = Series(data=[True,True,False,False,False],index=[\"lila\",\"luuna\",\"jaca\",\"Irving\",\"Wood\"])\n",
    "# 【注意】bool列表和要访问的对象的长度保持一致\n",
    "n_bool = [True,True,False,False,False]\n",
    "l_bool = np.array([True,True,False,False,False])"
   ]
  },
  {
   "cell_type": "code",
   "execution_count": 65,
   "id": "436130c1-3a1c-416f-b7e6-fef7e14938a5",
   "metadata": {},
   "outputs": [
    {
     "data": {
      "text/plain": [
       "luuna    72\n",
       "lila     86\n",
       "dtype: int32"
      ]
     },
     "execution_count": 65,
     "metadata": {},
     "output_type": "execute_result"
    }
   ],
   "source": [
    "s[s_bool]"
   ]
  },
  {
   "cell_type": "code",
   "execution_count": 60,
   "id": "3847ddc3-431d-4b6d-acdf-07ebcb03f109",
   "metadata": {},
   "outputs": [
    {
     "data": {
      "text/plain": [
       "Wood      90\n",
       "Irving    81\n",
       "lila      86\n",
       "dtype: int32"
      ]
     },
     "execution_count": 60,
     "metadata": {},
     "output_type": "execute_result"
    }
   ],
   "source": [
    "s[s > 80]"
   ]
  },
  {
   "cell_type": "markdown",
   "id": "91fed389-6425-4608-bc2c-8ae5caad6050",
   "metadata": {},
   "source": [
    "<b> 切片</b>\n",
    "1. 数组\n",
    "2. 字典\n",
    "3. .loc\n",
    "4. .iloc"
   ]
  },
  {
   "cell_type": "code",
   "execution_count": 66,
   "id": "f1f2fe97-05c1-46f0-b618-d91efb0987bd",
   "metadata": {},
   "outputs": [
    {
     "data": {
      "text/plain": [
       "Wood      90\n",
       "luuna     72\n",
       "jaca      70\n",
       "Irving    81\n",
       "lila      86\n",
       "dtype: int32"
      ]
     },
     "execution_count": 66,
     "metadata": {},
     "output_type": "execute_result"
    }
   ],
   "source": [
    "s"
   ]
  },
  {
   "cell_type": "code",
   "execution_count": 67,
   "id": "864e9967-f48f-40f3-8a9d-378ee4ce36e3",
   "metadata": {},
   "outputs": [
    {
     "data": {
      "text/plain": [
       "luuna    72\n",
       "jaca     70\n",
       "dtype: int32"
      ]
     },
     "execution_count": 67,
     "metadata": {},
     "output_type": "execute_result"
    }
   ],
   "source": [
    "s[1:3]"
   ]
  },
  {
   "cell_type": "code",
   "execution_count": 75,
   "id": "dcb4889f-7ff1-49db-80bd-77d0d01dd83f",
   "metadata": {},
   "outputs": [
    {
     "data": {
      "text/plain": [
       "luuna     72\n",
       "jaca      70\n",
       "Irving    81\n",
       "dtype: int32"
      ]
     },
     "execution_count": 75,
     "metadata": {},
     "output_type": "execute_result"
    }
   ],
   "source": [
    "# 所有看使用标签（显示索引）切片的都是闭区间\n",
    "s[\"luuna\":\"Irving\"]"
   ]
  },
  {
   "cell_type": "code",
   "execution_count": 74,
   "id": "3e54528d-c094-4136-9fb7-3192a595f1c7",
   "metadata": {},
   "outputs": [
    {
     "data": {
      "text/plain": [
       "luuna    72\n",
       "jaca     70\n",
       "dtype: int32"
      ]
     },
     "execution_count": 74,
     "metadata": {},
     "output_type": "execute_result"
    }
   ],
   "source": [
    "# 使用loc访问是闭区间\n",
    "s.loc[\"luuna\":\"jaca\"]"
   ]
  },
  {
   "cell_type": "code",
   "execution_count": 73,
   "id": "e0b14095-2d15-4176-98ff-35b832c1fa6e",
   "metadata": {},
   "outputs": [
    {
     "data": {
      "text/plain": [
       "luuna    72\n",
       "jaca     70\n",
       "dtype: int32"
      ]
     },
     "execution_count": 73,
     "metadata": {},
     "output_type": "execute_result"
    }
   ],
   "source": [
    "# 使用iloc访问是开区间\n",
    "s.iloc[1:3]"
   ]
  },
  {
   "cell_type": "code",
   "execution_count": 77,
   "id": "80d8d228-d771-4a47-acc4-f5100390d778",
   "metadata": {},
   "outputs": [
    {
     "data": {
      "text/plain": [
       "语文    150\n",
       "数学    150\n",
       "英语    150\n",
       "理综    300\n",
       "dtype: int64"
      ]
     },
     "execution_count": 77,
     "metadata": {},
     "output_type": "execute_result"
    }
   ],
   "source": [
    "dic = {\n",
    "    \"语文\":150,\n",
    "    \"数学\":150,\n",
    "    \"英语\":150,\n",
    "    \"理综\":300\n",
    "}\n",
    "\n",
    "s_score = Series(data = dic)\n",
    "s_score"
   ]
  },
  {
   "cell_type": "code",
   "execution_count": 80,
   "id": "d9fb1d40-90f7-4932-b2c1-682445a9b499",
   "metadata": {},
   "outputs": [
    {
     "name": "stderr",
     "output_type": "stream",
     "text": [
      "C:\\Users\\13202\\AppData\\Local\\Temp\\ipykernel_10684\\409137349.py:1: FutureWarning: Series.__getitem__ treating keys as positions is deprecated. In a future version, integer keys will always be treated as labels (consistent with DataFrame behavior). To access a value by position, use `ser.iloc[pos]`\n",
      "  s_score[1]\n"
     ]
    },
    {
     "data": {
      "text/plain": [
       "np.int64(150)"
      ]
     },
     "execution_count": 80,
     "metadata": {},
     "output_type": "execute_result"
    }
   ],
   "source": [
    "s_score[1]\n",
    "s_score[\"数学\"]\n",
    "s_score.loc[\"数学\"]\n",
    "s_score.iloc[1]"
   ]
  },
  {
   "cell_type": "code",
   "execution_count": 82,
   "id": "4f955c0c-ab77-479a-a33f-b6ff97e7e472",
   "metadata": {},
   "outputs": [
    {
     "data": {
      "text/plain": [
       "语文    150\n",
       "数学    150\n",
       "英语    150\n",
       "dtype: int64"
      ]
     },
     "execution_count": 82,
     "metadata": {},
     "output_type": "execute_result"
    }
   ],
   "source": [
    "s_score[0:3]\n",
    "s_score[\"语文\":\"英语\"]\n",
    "s_score.loc[\"语文\":\"英语\"]\n",
    "s_score.iloc[0:3]"
   ]
  },
  {
   "cell_type": "code",
   "execution_count": 83,
   "id": "603d034b-5727-4273-9944-1844155d16e1",
   "metadata": {},
   "outputs": [
    {
     "data": {
      "text/plain": [
       "(4,)"
      ]
     },
     "execution_count": 83,
     "metadata": {},
     "output_type": "execute_result"
    }
   ],
   "source": [
    "s_score.shape"
   ]
  },
  {
   "cell_type": "code",
   "execution_count": 84,
   "id": "50fdb358-eb2f-4701-ade7-959363eb9f97",
   "metadata": {},
   "outputs": [
    {
     "data": {
      "text/plain": [
       "4"
      ]
     },
     "execution_count": 84,
     "metadata": {},
     "output_type": "execute_result"
    }
   ],
   "source": [
    "s_score.size"
   ]
  },
  {
   "cell_type": "code",
   "execution_count": 86,
   "id": "eba54627-b030-4564-b644-9159d5a280e9",
   "metadata": {},
   "outputs": [
    {
     "data": {
      "text/plain": [
       "Index(['语文', '数学'], dtype='object')"
      ]
     },
     "execution_count": 86,
     "metadata": {},
     "output_type": "execute_result"
    }
   ],
   "source": [
    "# 获取显示索引\n",
    "# Series(data,index)\n",
    "s_score.index[[0,1]]"
   ]
  },
  {
   "cell_type": "code",
   "execution_count": 87,
   "id": "91442004-bb94-4a78-aa8b-622a87ac91b6",
   "metadata": {},
   "outputs": [
    {
     "data": {
      "text/plain": [
       "array([150, 150, 150, 300])"
      ]
     },
     "execution_count": 87,
     "metadata": {},
     "output_type": "execute_result"
    }
   ],
   "source": [
    "s_score.values"
   ]
  },
  {
   "cell_type": "code",
   "execution_count": 93,
   "id": "2ce011f8-2884-44b9-9f3b-547add3e1635",
   "metadata": {},
   "outputs": [
    {
     "data": {
      "text/plain": [
       "np.False_"
      ]
     },
     "execution_count": 93,
     "metadata": {},
     "output_type": "execute_result"
    }
   ],
   "source": [
    "# eg1.\n",
    "(s_score.index==\"俄文\").any()"
   ]
  },
  {
   "cell_type": "code",
   "execution_count": 95,
   "id": "06e1f9ae-885e-46d9-bc0f-1adcebe3ce78",
   "metadata": {},
   "outputs": [
    {
     "data": {
      "text/plain": [
       "语文    24\n",
       "数学    17\n",
       "英语     3\n",
       "理综    86\n",
       "dtype: int32"
      ]
     },
     "execution_count": 95,
     "metadata": {},
     "output_type": "execute_result"
    }
   ],
   "source": [
    "# eg2.\n",
    "s_score2 = Series(data = np.random.randint(0,150,size=4),index=s_score.index)\n",
    "s_score2"
   ]
  },
  {
   "cell_type": "markdown",
   "id": "b0e6cf70-d290-4eb9-9b80-8e9e8850d029",
   "metadata": {},
   "source": [
    "<b>可以使用head(),tail()分别查看前n个和后n个值</b>"
   ]
  },
  {
   "cell_type": "code",
   "execution_count": 97,
   "id": "195a6ba0-3806-4a84-ba2d-1d756ab50007",
   "metadata": {},
   "outputs": [
    {
     "data": {
      "text/plain": [
       "语文    150\n",
       "数学    150\n",
       "dtype: int64"
      ]
     },
     "execution_count": 97,
     "metadata": {},
     "output_type": "execute_result"
    }
   ],
   "source": [
    "# 是切片操作，但是一般用于查看数据的结构\n",
    "s_score.head(2)"
   ]
  },
  {
   "cell_type": "code",
   "execution_count": 99,
   "id": "ce5ef983-8ccf-4c7b-ae4d-920d0a933b72",
   "metadata": {},
   "outputs": [
    {
     "data": {
      "text/plain": [
       "理综    86\n",
       "dtype: int32"
      ]
     },
     "execution_count": 99,
     "metadata": {},
     "output_type": "execute_result"
    }
   ],
   "source": [
    "s_score2.tail(1)"
   ]
  },
  {
   "cell_type": "code",
   "execution_count": 102,
   "id": "986e3d8d-2877-4bae-b082-ee4d369b6348",
   "metadata": {},
   "outputs": [],
   "source": [
    "dic = {\n",
    "    \"name\":\"jaca\",\n",
    "    \"address\":\"beijing\"\n",
    "}\n",
    "s = Series(data = dic,index=[\"name\",\"address\",\"oldname\"])"
   ]
  },
  {
   "cell_type": "code",
   "execution_count": 104,
   "id": "8b418c65-2847-45dc-b7d2-156c3c4618ad",
   "metadata": {},
   "outputs": [],
   "source": [
    "#any()  查看一个bool列表中是否至少存在一个True\n",
    "#all()  查看一个bool列表中是否全都是True"
   ]
  },
  {
   "cell_type": "code",
   "execution_count": 105,
   "id": "424e727a-aa74-4564-82fe-aa71c94c8520",
   "metadata": {},
   "outputs": [
    {
     "data": {
      "text/plain": [
       "name          jaca\n",
       "address    beijing\n",
       "oldname        NaN\n",
       "dtype: object"
      ]
     },
     "execution_count": 105,
     "metadata": {},
     "output_type": "execute_result"
    }
   ],
   "source": [
    "s"
   ]
  },
  {
   "cell_type": "code",
   "execution_count": 107,
   "id": "f188e8dc-116c-4227-957b-e4e4d1cfd408",
   "metadata": {},
   "outputs": [
    {
     "data": {
      "text/plain": [
       "np.True_"
      ]
     },
     "execution_count": 107,
     "metadata": {},
     "output_type": "execute_result"
    }
   ],
   "source": [
    "# 查看大量的数据集中是否存在至少一个空值\n",
    "s.isnull().any()"
   ]
  },
  {
   "cell_type": "code",
   "execution_count": 110,
   "id": "d4db46ad-c1cb-4467-88e7-308505daac72",
   "metadata": {},
   "outputs": [
    {
     "data": {
      "text/plain": [
       "np.False_"
      ]
     },
     "execution_count": 110,
     "metadata": {},
     "output_type": "execute_result"
    }
   ],
   "source": [
    "s.notnull().all()"
   ]
  },
  {
   "cell_type": "markdown",
   "id": "92bde71b-4ce1-4236-8a2b-c4a572c7c45f",
   "metadata": {},
   "source": [
    "<b>Series本身及其实列都有一个name属性</b>"
   ]
  },
  {
   "cell_type": "code",
   "execution_count": 113,
   "id": "81b441da-ee96-43b2-a463-eac427e398e2",
   "metadata": {},
   "outputs": [
    {
     "data": {
      "text/plain": [
       "语文    150\n",
       "数学    150\n",
       "英语    150\n",
       "理综    300\n",
       "Name: 学科, dtype: int64"
      ]
     },
     "execution_count": 113,
     "metadata": {},
     "output_type": "execute_result"
    }
   ],
   "source": [
    "s_score.name=\"学科\"\n",
    "s_score"
   ]
  },
  {
   "cell_type": "code",
   "execution_count": 116,
   "id": "5423035b-50c3-4a61-a7d0-a6bd80746a4e",
   "metadata": {},
   "outputs": [
    {
     "data": {
      "text/plain": [
       "0    80\n",
       "1    52\n",
       "2     4\n",
       "3    11\n",
       "4    83\n",
       "Name: score, dtype: int32"
      ]
     },
     "execution_count": 116,
     "metadata": {},
     "output_type": "execute_result"
    }
   ],
   "source": [
    "# Name属性，往往会成为二维表格中的列字段名称\n",
    "Series(data=np.random.randint(0,100,size=5), name=\"score\")"
   ]
  },
  {
   "cell_type": "code",
   "execution_count": 117,
   "id": "d9accb5f-6d9a-4497-8b13-6e93542aa110",
   "metadata": {},
   "outputs": [
    {
     "data": {
      "text/plain": [
       "a    68\n",
       "b    33\n",
       "c    79\n",
       "d    15\n",
       "e    84\n",
       "Name: score, dtype: int32"
      ]
     },
     "execution_count": 117,
     "metadata": {},
     "output_type": "execute_result"
    }
   ],
   "source": [
    "score = Series(data=np.random.randint(0,100,size=5),index=list(\"abcde\"), name=\"score\")\n",
    "score"
   ]
  },
  {
   "cell_type": "code",
   "execution_count": 119,
   "id": "5e5335c0-e4a5-41df-9a92-e4fa64cad387",
   "metadata": {},
   "outputs": [
    {
     "data": {
      "text/plain": [
       "e    84\n",
       "c    79\n",
       "a    68\n",
       "b    33\n",
       "d    15\n",
       "Name: score, dtype: int32"
      ]
     },
     "execution_count": 119,
     "metadata": {},
     "output_type": "execute_result"
    }
   ],
   "source": [
    "score.sort_values(ascending=False)"
   ]
  },
  {
   "cell_type": "markdown",
   "id": "532bbf88-b56f-4372-81d1-66f1b01b2433",
   "metadata": {},
   "source": [
    "根据索引排序"
   ]
  },
  {
   "cell_type": "code",
   "execution_count": 120,
   "id": "92a3d43f-0c11-4a7c-b998-57babce8180d",
   "metadata": {},
   "outputs": [
    {
     "data": {
      "text/plain": [
       "e    84\n",
       "d    15\n",
       "c    79\n",
       "b    33\n",
       "a    68\n",
       "Name: score, dtype: int32"
      ]
     },
     "execution_count": 120,
     "metadata": {},
     "output_type": "execute_result"
    }
   ],
   "source": [
    "score.sort_index(ascending=False)"
   ]
  },
  {
   "cell_type": "markdown",
   "id": "7d29c4d5-8fc5-486f-8b41-90d40c237e9f",
   "metadata": {},
   "source": [
    "<b>统计值出现的次数</b>"
   ]
  },
  {
   "cell_type": "code",
   "execution_count": 123,
   "id": "c69ea10a-db5c-43bf-b797-a1f4eb841e9e",
   "metadata": {},
   "outputs": [
    {
     "data": {
      "text/plain": [
       "2    15\n",
       "6    14\n",
       "8    13\n",
       "5    11\n",
       "0    11\n",
       "7    10\n",
       "4     8\n",
       "9     7\n",
       "3     6\n",
       "1     5\n",
       "Name: count, dtype: int64"
      ]
     },
     "execution_count": 123,
     "metadata": {},
     "output_type": "execute_result"
    }
   ],
   "source": [
    "# 假设这是订单表所有订单用户的id字段\n",
    "# 我们现在统计每一个用户的订单个数\n",
    "user_id = Series(data=np.random.randint(0,10,100))\n",
    "user_id.value_counts()"
   ]
  },
  {
   "cell_type": "code",
   "execution_count": 125,
   "id": "ce2d95ff-7785-4ec0-8598-034809162318",
   "metadata": {},
   "outputs": [
    {
     "data": {
      "text/plain": [
       "wood     2\n",
       "luuna    1\n",
       "lila     1\n",
       "Name: count, dtype: int64"
      ]
     },
     "execution_count": 125,
     "metadata": {},
     "output_type": "execute_result"
    }
   ],
   "source": [
    "username = Series(data=[\"luuna\",\"lila\",\"wood\",\"wood\"])\n",
    "username.value_counts()"
   ]
  },
  {
   "cell_type": "markdown",
   "id": "9b8cfa9e-e24e-461a-beaa-d23b01859489",
   "metadata": {},
   "source": [
    "numpy 聚合 sum(), mean(), np.median()\n",
    "\n",
    "    广播机制"
   ]
  },
  {
   "cell_type": "code",
   "execution_count": 127,
   "id": "44c1133e-8b94-443f-951a-c82c5d513fb7",
   "metadata": {},
   "outputs": [
    {
     "data": {
      "text/plain": [
       "A    6\n",
       "B    9\n",
       "C    0\n",
       "D    6\n",
       "E    3\n",
       "dtype: int32"
      ]
     },
     "execution_count": 127,
     "metadata": {},
     "output_type": "execute_result"
    }
   ],
   "source": [
    "# 1。Series和一个数运算，遵守广播机制\n",
    "s= Series(data=np.random.randint(0,10,size=5),index=list(\"ABCDE\"))\n",
    "s"
   ]
  },
  {
   "cell_type": "code",
   "execution_count": 128,
   "id": "5b56609e-8a5c-4e90-b2f1-a2c48a6e972e",
   "metadata": {},
   "outputs": [
    {
     "data": {
      "text/plain": [
       "A     7\n",
       "B    10\n",
       "C     1\n",
       "D     7\n",
       "E     4\n",
       "dtype: int32"
      ]
     },
     "execution_count": 128,
     "metadata": {},
     "output_type": "execute_result"
    }
   ],
   "source": [
    "s+1"
   ]
  },
  {
   "cell_type": "code",
   "execution_count": 131,
   "id": "ec41360b-1a28-4215-813b-383e36a8d502",
   "metadata": {},
   "outputs": [
    {
     "data": {
      "text/plain": [
       "array([[1., 1., 1., 1., 1.],\n",
       "       [1., 1., 1., 1., 1.]])"
      ]
     },
     "execution_count": 131,
     "metadata": {},
     "output_type": "execute_result"
    }
   ],
   "source": [
    "# Series和numpy运算, 隐式索引对齐\n",
    "n = np.ones(shape=(2,5))\n",
    "n"
   ]
  },
  {
   "cell_type": "code",
   "execution_count": 133,
   "id": "5e7c21a6-36ac-4ead-94c7-d49e664fab07",
   "metadata": {},
   "outputs": [
    {
     "data": {
      "text/plain": [
       "array([[ 7., 10.,  1.,  7.,  4.],\n",
       "       [ 7., 10.,  1.,  7.,  4.]])"
      ]
     },
     "execution_count": 133,
     "metadata": {},
     "output_type": "execute_result"
    }
   ],
   "source": [
    "n+s.values"
   ]
  },
  {
   "cell_type": "code",
   "execution_count": 135,
   "id": "cea34fbf-023c-4a48-9117-e9d669be3179",
   "metadata": {},
   "outputs": [
    {
     "data": {
      "text/plain": [
       "array([6, 9, 0, 6, 3], dtype=int32)"
      ]
     },
     "execution_count": 135,
     "metadata": {},
     "output_type": "execute_result"
    }
   ],
   "source": [
    "# 这是numpy，它和n运算是numpy之间的运算，遵守广播机制\n",
    "s.values"
   ]
  },
  {
   "cell_type": "code",
   "execution_count": 139,
   "id": "f94678da-f229-4b73-8e60-08427c2a6ad7",
   "metadata": {},
   "outputs": [],
   "source": [
    "n1 = np.ones(shape=5)"
   ]
  },
  {
   "cell_type": "code",
   "execution_count": 140,
   "id": "a3158090-796d-4a7a-811c-478142626c42",
   "metadata": {},
   "outputs": [
    {
     "data": {
      "text/plain": [
       "A     7.0\n",
       "B    10.0\n",
       "C     1.0\n",
       "D     7.0\n",
       "E     4.0\n",
       "dtype: float64"
      ]
     },
     "execution_count": 140,
     "metadata": {},
     "output_type": "execute_result"
    }
   ],
   "source": [
    "# 长度需一致\n",
    "s+n1"
   ]
  },
  {
   "cell_type": "markdown",
   "id": "439b4b27-1047-49f6-b462-77964aa68aad",
   "metadata": {},
   "source": [
    "<b>Series之间的运算</b>"
   ]
  },
  {
   "cell_type": "code",
   "execution_count": 147,
   "id": "68fd2a61-2288-4357-875d-7558edee6308",
   "metadata": {},
   "outputs": [
    {
     "data": {
      "text/plain": [
       "(a    3\n",
       " b    7\n",
       " c    3\n",
       " d    9\n",
       " e    0\n",
       " dtype: int32,\n",
       " e    6\n",
       " a    9\n",
       " b    5\n",
       " c    5\n",
       " dtype: int32)"
      ]
     },
     "execution_count": 147,
     "metadata": {},
     "output_type": "execute_result"
    }
   ],
   "source": [
    "# Series和Series之间运算时，显示索引对齐\n",
    "s1 = Series(data = np.random.randint(0,10,size=5),index=list(\"abcde\"))\n",
    "s2 = Series(data = np.random.randint(0,10,size=4),index=list(\"eabc\"))\n",
    "s1,s2"
   ]
  },
  {
   "cell_type": "code",
   "execution_count": 148,
   "id": "521ba373-8d1b-4c60-b983-617e689ec3b1",
   "metadata": {},
   "outputs": [
    {
     "data": {
      "text/plain": [
       "a    12.0\n",
       "b    12.0\n",
       "c     8.0\n",
       "d     NaN\n",
       "e     6.0\n",
       "dtype: float64"
      ]
     },
     "execution_count": 148,
     "metadata": {},
     "output_type": "execute_result"
    }
   ],
   "source": [
    "s1+s2"
   ]
  },
  {
   "cell_type": "code",
   "execution_count": 150,
   "id": "9e50c950-f926-4d2b-8348-24d36bf360e4",
   "metadata": {},
   "outputs": [
    {
     "data": {
      "text/plain": [
       "a    12.0\n",
       "b    12.0\n",
       "c     8.0\n",
       "d     9.0\n",
       "e     6.0\n",
       "dtype: float64"
      ]
     },
     "execution_count": 150,
     "metadata": {},
     "output_type": "execute_result"
    }
   ],
   "source": [
    "s1.add(s2,fill_value=0)"
   ]
  },
  {
   "cell_type": "markdown",
   "id": "520aeef9-fafd-4067-afb0-21cfe9d3c252",
   "metadata": {},
   "source": [
    "查看是否保存"
   ]
  },
  {
   "cell_type": "code",
   "execution_count": null,
   "id": "4bb60fd8-2dca-4aca-9a82-206e9a60711b",
   "metadata": {},
   "outputs": [],
   "source": []
  }
 ],
 "metadata": {
  "kernelspec": {
   "display_name": "Python 3 (ipykernel)",
   "language": "python",
   "name": "python3"
  },
  "language_info": {
   "codemirror_mode": {
    "name": "ipython",
    "version": 3
   },
   "file_extension": ".py",
   "mimetype": "text/x-python",
   "name": "python",
   "nbconvert_exporter": "python",
   "pygments_lexer": "ipython3",
   "version": "3.12.3"
  },
  "widgets": {
   "application/vnd.jupyter.widget-state+json": {
    "state": {},
    "version_major": 2,
    "version_minor": 0
   }
  }
 },
 "nbformat": 4,
 "nbformat_minor": 5
}
