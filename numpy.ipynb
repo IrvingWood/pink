{
 "cells": [
  {
   "cell_type": "code",
   "execution_count": null,
   "id": "8091a388-c348-4a72-89a0-5c9f3be7fd8f",
   "metadata": {},
   "outputs": [],
   "source": [
    "numpy 提供了一种数组类型"
   ]
  },
  {
   "cell_type": "code",
   "execution_count": 2,
   "id": "561de990-1b21-47a6-bf94-758d29141539",
   "metadata": {},
   "outputs": [],
   "source": [
    "import numpy as np"
   ]
  },
  {
   "cell_type": "code",
   "execution_count": 2,
   "id": "4db35315-eb82-4de7-b159-a3a564f6e74e",
   "metadata": {},
   "outputs": [
    {
     "data": {
      "text/plain": [
       "'2.0.0'"
      ]
     },
     "execution_count": 2,
     "metadata": {},
     "output_type": "execute_result"
    }
   ],
   "source": [
    "np.__version__"
   ]
  },
  {
   "cell_type": "code",
   "execution_count": 3,
   "id": "92c959c1-d1ee-43b5-b1e2-018782097519",
   "metadata": {},
   "outputs": [
    {
     "data": {
      "text/plain": [
       "[1, 3.12, 'hello']"
      ]
     },
     "execution_count": 3,
     "metadata": {},
     "output_type": "execute_result"
    }
   ],
   "source": [
    "[1,3.12,'hello']"
   ]
  },
  {
   "cell_type": "code",
   "execution_count": 4,
   "id": "31c83e5e-637e-4812-955c-43d06c5ad5f3",
   "metadata": {},
   "outputs": [],
   "source": [
    "# numpy的数组\n",
    "array = np.array([1,3.14,'hello'])"
   ]
  },
  {
   "cell_type": "code",
   "execution_count": 5,
   "id": "0c640d89-8020-4d35-8580-73576f0df617",
   "metadata": {},
   "outputs": [
    {
     "data": {
      "text/plain": [
       "array(['1', '3.14', 'hello'], dtype='<U32')"
      ]
     },
     "execution_count": 5,
     "metadata": {},
     "output_type": "execute_result"
    }
   ],
   "source": [
    "array"
   ]
  },
  {
   "cell_type": "code",
   "execution_count": 8,
   "id": "1069f9c0-f759-46d7-be62-05e79a84d705",
   "metadata": {},
   "outputs": [
    {
     "data": {
      "text/plain": [
       "array(['wood', 'Iing', 'jaca'], dtype='<U4')"
      ]
     },
     "execution_count": 8,
     "metadata": {},
     "output_type": "execute_result"
    }
   ],
   "source": [
    "names = [\"wood\",\"Iing\",\"jaca\"]\n",
    "array1= np.array(names)\n",
    "array1"
   ]
  },
  {
   "cell_type": "code",
   "execution_count": 10,
   "id": "ea1eb3d5-97be-4295-be51-b082b338b52b",
   "metadata": {},
   "outputs": [
    {
     "data": {
      "text/plain": [
       "array([14., 12., 18.], dtype=float32)"
      ]
     },
     "execution_count": 10,
     "metadata": {},
     "output_type": "execute_result"
    }
   ],
   "source": [
    "age = [14, 12, 18]\n",
    "array3 = np.array(age,dtype=np.float32)\n",
    "array3"
   ]
  },
  {
   "cell_type": "code",
   "execution_count": 11,
   "id": "70c104b1-591c-482e-bd9c-7ba891eff78e",
   "metadata": {},
   "outputs": [
    {
     "data": {
      "text/plain": [
       "array([[1, 2, 4],\n",
       "       [3, 4, 5]])"
      ]
     },
     "execution_count": 11,
     "metadata": {},
     "output_type": "execute_result"
    }
   ],
   "source": [
    "money = [[1,2,4],[3,4,5]]\n",
    "np.array(money)"
   ]
  },
  {
   "cell_type": "code",
   "execution_count": null,
   "id": "bdd49287-cedc-4c44-9347-d0e3ac4a1c0c",
   "metadata": {},
   "outputs": [],
   "source": [
    "shape = (m,n)  m行n列 二位数组\n",
    "shape = (m)   m个元素的一维数组  [1,2,4]\n",
    "shape = (m,)   m个元素的一维数组\n",
    "shape = (m,1)   m行1列   二维数组 [[2],[1],[4]]\n",
    "shape = (1,m)    1行m列   二维数组 [[1,2,4]]"
   ]
  },
  {
   "cell_type": "code",
   "execution_count": 13,
   "id": "97e0308d-da16-4c85-b933-4326ceb2f33c",
   "metadata": {},
   "outputs": [
    {
     "data": {
      "text/plain": [
       "array([[1, 1, 1],\n",
       "       [1, 1, 1],\n",
       "       [1, 1, 1],\n",
       "       [1, 1, 1]], dtype=int8)"
      ]
     },
     "execution_count": 13,
     "metadata": {},
     "output_type": "execute_result"
    }
   ],
   "source": [
    "# 构造一个4行3列的二维数组\n",
    "np.ones(shape=(4,3),dtype=np.int8)"
   ]
  },
  {
   "cell_type": "code",
   "execution_count": 14,
   "id": "6cbf146f-c819-4a80-9bae-b202e915b5aa",
   "metadata": {},
   "outputs": [
    {
     "data": {
      "text/plain": [
       "array([1., 1., 1.])"
      ]
     },
     "execution_count": 14,
     "metadata": {},
     "output_type": "execute_result"
    }
   ],
   "source": [
    "# 构造一个长度为3的一维数组\n",
    "np.ones(shape=(3))"
   ]
  },
  {
   "cell_type": "code",
   "execution_count": 15,
   "id": "8635bbae-9c75-4ad1-9f6c-1ab21949add0",
   "metadata": {},
   "outputs": [
    {
     "data": {
      "text/plain": [
       "array([[1.],\n",
       "       [1.],\n",
       "       [1.],\n",
       "       [1.],\n",
       "       [1.]])"
      ]
     },
     "execution_count": 15,
     "metadata": {},
     "output_type": "execute_result"
    }
   ],
   "source": [
    "# 构造一个5行1列的二维数组\n",
    "np.ones(shape=(5,1))"
   ]
  },
  {
   "cell_type": "code",
   "execution_count": 16,
   "id": "5b98d7d7-3350-4a21-9990-319f9c128b14",
   "metadata": {},
   "outputs": [
    {
     "data": {
      "text/plain": [
       "array([[1., 1., 1.]])"
      ]
     },
     "execution_count": 16,
     "metadata": {},
     "output_type": "execute_result"
    }
   ],
   "source": [
    "# 构造一个1行3列的二维数组\n",
    "np.ones(shape=(1,3))"
   ]
  },
  {
   "cell_type": "code",
   "execution_count": 17,
   "id": "aa8b9e5b-c94a-4f70-b709-add6d1bf4624",
   "metadata": {},
   "outputs": [
    {
     "data": {
      "text/plain": [
       "array([[0., 0., 0., 0., 0., 0.],\n",
       "       [0., 0., 0., 0., 0., 0.],\n",
       "       [0., 0., 0., 0., 0., 0.],\n",
       "       [0., 0., 0., 0., 0., 0.],\n",
       "       [0., 0., 0., 0., 0., 0.]])"
      ]
     },
     "execution_count": 17,
     "metadata": {},
     "output_type": "execute_result"
    }
   ],
   "source": [
    "np.zeros(shape=(5,6))"
   ]
  },
  {
   "cell_type": "code",
   "execution_count": 18,
   "id": "4c6e676e-8837-4c68-bb6c-c30580fdc92f",
   "metadata": {},
   "outputs": [
    {
     "data": {
      "text/plain": [
       "array([[[0., 0., 0., 0.],\n",
       "        [0., 0., 0., 0.],\n",
       "        [0., 0., 0., 0.]],\n",
       "\n",
       "       [[0., 0., 0., 0.],\n",
       "        [0., 0., 0., 0.],\n",
       "        [0., 0., 0., 0.]]])"
      ]
     },
     "execution_count": 18,
     "metadata": {},
     "output_type": "execute_result"
    }
   ],
   "source": [
    "np.zeros(shape=(2,3,4))"
   ]
  },
  {
   "cell_type": "code",
   "execution_count": 19,
   "id": "4bf365a0-ce91-43f0-bc6c-e682d2a84155",
   "metadata": {},
   "outputs": [
    {
     "data": {
      "text/plain": [
       "array([[6, 6, 6],\n",
       "       [6, 6, 6]])"
      ]
     },
     "execution_count": 19,
     "metadata": {},
     "output_type": "execute_result"
    }
   ],
   "source": [
    "np.full(shape=(2,3), fill_value=6)"
   ]
  },
  {
   "cell_type": "code",
   "execution_count": 21,
   "id": "73967b28-ba4b-4fdd-958b-b1048a0108d7",
   "metadata": {},
   "outputs": [
    {
     "data": {
      "text/plain": [
       "array([[1., 0., 0.],\n",
       "       [0., 1., 0.],\n",
       "       [0., 0., 1.]])"
      ]
     },
     "execution_count": 21,
     "metadata": {},
     "output_type": "execute_result"
    }
   ],
   "source": [
    "# 单位矩阵 l2正则项\n",
    "# 生成一个3阶单位矩阵\n",
    "np.eye(N=3)"
   ]
  },
  {
   "cell_type": "code",
   "execution_count": 22,
   "id": "63c721a2-243c-4396-99d1-63768a81a421",
   "metadata": {},
   "outputs": [
    {
     "data": {
      "text/plain": [
       "array([[1., 0., 0., 0.],\n",
       "       [0., 1., 0., 0.],\n",
       "       [0., 0., 1., 0.],\n",
       "       [0., 0., 0., 1.],\n",
       "       [0., 0., 0., 0.]])"
      ]
     },
     "execution_count": 22,
     "metadata": {},
     "output_type": "execute_result"
    }
   ],
   "source": [
    "np.eye(N=5,M=4)"
   ]
  },
  {
   "cell_type": "code",
   "execution_count": 23,
   "id": "a9faf0cd-8c8b-4190-83e8-53e03312b620",
   "metadata": {},
   "outputs": [
    {
     "data": {
      "text/plain": [
       "array([[0., 1., 0., 0., 0.],\n",
       "       [0., 0., 1., 0., 0.],\n",
       "       [0., 0., 0., 1., 0.],\n",
       "       [0., 0., 0., 0., 1.],\n",
       "       [0., 0., 0., 0., 0.]])"
      ]
     },
     "execution_count": 23,
     "metadata": {},
     "output_type": "execute_result"
    }
   ],
   "source": [
    "np.eye(N=5,k=1)"
   ]
  },
  {
   "cell_type": "code",
   "execution_count": 24,
   "id": "f13220d6-d4a7-4ea9-bde2-1eebf148efbb",
   "metadata": {},
   "outputs": [
    {
     "data": {
      "text/plain": [
       "array([[0., 0., 0., 0., 0.],\n",
       "       [1., 0., 0., 0., 0.],\n",
       "       [0., 1., 0., 0., 0.],\n",
       "       [0., 0., 1., 0., 0.],\n",
       "       [0., 0., 0., 1., 0.]])"
      ]
     },
     "execution_count": 24,
     "metadata": {},
     "output_type": "execute_result"
    }
   ],
   "source": [
    "np.eye(N=5,k=-1)"
   ]
  },
  {
   "cell_type": "code",
   "execution_count": 28,
   "id": "19a196db-862f-426c-b660-ca3f79779502",
   "metadata": {},
   "outputs": [
    {
     "data": {
      "text/plain": [
       "array([0., 1., 2., 3., 4., 5., 6., 7., 8., 9.])"
      ]
     },
     "execution_count": 28,
     "metadata": {},
     "output_type": "execute_result"
    }
   ],
   "source": [
    "# 等差数列\n",
    "np.linspace(0,10,10,endpoint=False)"
   ]
  },
  {
   "cell_type": "code",
   "execution_count": 30,
   "id": "0d4a8e2b-7d73-4db5-a7a9-7522ae175a8b",
   "metadata": {},
   "outputs": [
    {
     "data": {
      "text/plain": [
       "array([0, 1, 2, 3, 4, 5, 6, 7, 8, 9])"
      ]
     },
     "execution_count": 30,
     "metadata": {},
     "output_type": "execute_result"
    }
   ],
   "source": [
    "np.arange(0,10,step=1)"
   ]
  },
  {
   "cell_type": "code",
   "execution_count": 31,
   "id": "c7245018-c385-47e0-b3d6-0ab7e3505380",
   "metadata": {},
   "outputs": [
    {
     "data": {
      "text/plain": [
       "array([[66, 78, 15, 57, 46],\n",
       "       [ 3, 51, 15,  4, 26],\n",
       "       [28, 22, 61, 70, 37],\n",
       "       [76, 92, 48, 72, 14]], dtype=int32)"
      ]
     },
     "execution_count": 31,
     "metadata": {},
     "output_type": "execute_result"
    }
   ],
   "source": [
    "# size同shape，生成随机整数\n",
    "np.random.randint(1,100,size=(4,5))"
   ]
  },
  {
   "cell_type": "code",
   "execution_count": 34,
   "id": "b0500ea7-e62e-46fc-8227-b57ac50b5016",
   "metadata": {},
   "outputs": [
    {
     "data": {
      "text/plain": [
       "array([[ 1.21548495,  0.82999209,  0.62859649,  0.64341827,  0.54208123],\n",
       "       [-0.48525792, -0.00931409,  0.8257309 ,  2.34860312,  1.54544885],\n",
       "       [-1.78255514,  0.51687376, -0.02964029,  0.73664506,  0.59319884]])"
      ]
     },
     "execution_count": 34,
     "metadata": {},
     "output_type": "execute_result"
    }
   ],
   "source": [
    "# 标准正态分布\n",
    "np.random.randn(3,5)"
   ]
  },
  {
   "cell_type": "code",
   "execution_count": 44,
   "id": "6f05b312-e9dc-47f1-aed0-a1924d6a8a18",
   "metadata": {
    "scrolled": true
   },
   "outputs": [
    {
     "data": {
      "text/plain": [
       "array([[160.90537794, 164.63841953, 175.58138074, 175.00618989,\n",
       "        171.53732721],\n",
       "       [172.51444015, 167.38767012, 164.00067046, 168.77310834,\n",
       "        160.34910833],\n",
       "       [165.85844408, 168.09937988, 178.51833123, 171.33520561,\n",
       "        169.42249786],\n",
       "       [166.98475347, 165.97322908, 171.34579832, 167.86405456,\n",
       "        170.22692359]])"
      ]
     },
     "execution_count": 44,
     "metadata": {},
     "output_type": "execute_result"
    }
   ],
   "source": [
    "np.random.normal(loc=170, scale=5,size=(4,5))"
   ]
  },
  {
   "cell_type": "code",
   "execution_count": 47,
   "id": "82ffec11-5c40-49c8-8494-65e11c0c8f03",
   "metadata": {},
   "outputs": [
    {
     "data": {
      "text/plain": [
       "array([[0.94055076, 0.2244139 , 0.83537637, 0.87965797, 0.01906465,\n",
       "        0.56501846, 0.9300403 , 0.44500774, 0.66870411, 0.0855525 ],\n",
       "       [0.51153582, 0.16142746, 0.31090487, 0.28328756, 0.37805676,\n",
       "        0.44212073, 0.62163804, 0.33052196, 0.7457206 , 0.65093497],\n",
       "       [0.41768896, 0.42246464, 0.49682919, 0.27177274, 0.61830563,\n",
       "        0.68794529, 0.08081365, 0.76588184, 0.28406509, 0.66987898],\n",
       "       [0.44019251, 0.27313663, 0.72499328, 0.0714184 , 0.71732039,\n",
       "        0.12638258, 0.71988738, 0.94522191, 0.40090839, 0.1185589 ],\n",
       "       [0.90875195, 0.5136661 , 0.70872056, 0.55241892, 0.68095575,\n",
       "        0.34693305, 0.27035222, 0.69879674, 0.61238843, 0.33340525],\n",
       "       [0.20180006, 0.18448093, 0.62741932, 0.98933253, 0.59649044,\n",
       "        0.42580249, 0.01231721, 0.30626657, 0.35071998, 0.45875318],\n",
       "       [0.92260336, 0.69724559, 0.13930562, 0.65616861, 0.20186399,\n",
       "        0.53429352, 0.51683709, 0.72562664, 0.43366104, 0.1133584 ],\n",
       "       [0.30794267, 0.59818214, 0.66337656, 0.36430384, 0.5741    ,\n",
       "        0.37997376, 0.62025439, 0.31185458, 0.38246674, 0.65524609],\n",
       "       [0.86103387, 0.20572195, 0.89834474, 0.81284156, 0.78039004,\n",
       "        0.2359381 , 0.35000817, 0.57358295, 0.45097229, 0.28780346],\n",
       "       [0.93918979, 0.48624033, 0.07482971, 0.3218168 , 0.65696399,\n",
       "        0.60566322, 0.1216185 , 0.61186472, 0.80719956, 0.65999708]])"
      ]
     },
     "execution_count": 47,
     "metadata": {},
     "output_type": "execute_result"
    }
   ],
   "source": [
    "# 生成随机小数\n",
    "np.random.random(size=(10,10))"
   ]
  },
  {
   "cell_type": "code",
   "execution_count": 3,
   "id": "b8576caf-0b8d-44c1-bcef-d58fa6e0494f",
   "metadata": {},
   "outputs": [
    {
     "data": {
      "text/plain": [
       "array([3, 4, 1, 7, 5, 2, 9, 0, 8, 6], dtype=int32)"
      ]
     },
     "execution_count": 3,
     "metadata": {},
     "output_type": "execute_result"
    }
   ],
   "source": [
    "# 生成一组随机索引，很好用\n",
    "np.random.permutation(10)"
   ]
  },
  {
   "cell_type": "code",
   "execution_count": 4,
   "id": "29adaa08-c2a8-400d-81b1-f000d9607108",
   "metadata": {},
   "outputs": [],
   "source": [
    "arr = np.random.randint(0,100,size=(4,5,3))"
   ]
  },
  {
   "cell_type": "code",
   "execution_count": 5,
   "id": "636eeb8b-27ab-4882-85e6-8e5d6e655650",
   "metadata": {},
   "outputs": [
    {
     "data": {
      "text/plain": [
       "3"
      ]
     },
     "execution_count": 5,
     "metadata": {},
     "output_type": "execute_result"
    }
   ],
   "source": [
    "arr.ndim"
   ]
  },
  {
   "cell_type": "code",
   "execution_count": 6,
   "id": "8ecb5e73-8ee3-41fb-9f9e-2982ccc5b648",
   "metadata": {},
   "outputs": [
    {
     "data": {
      "text/plain": [
       "60"
      ]
     },
     "execution_count": 6,
     "metadata": {},
     "output_type": "execute_result"
    }
   ],
   "source": [
    "arr.size"
   ]
  },
  {
   "cell_type": "code",
   "execution_count": 7,
   "id": "948db360-70ff-4ef4-bb3b-3f930ab81305",
   "metadata": {},
   "outputs": [
    {
     "data": {
      "text/plain": [
       "(4, 5, 3)"
      ]
     },
     "execution_count": 7,
     "metadata": {},
     "output_type": "execute_result"
    }
   ],
   "source": [
    "arr.shape"
   ]
  },
  {
   "cell_type": "code",
   "execution_count": 11,
   "id": "f8158058-e5aa-49a0-8266-f85100578bef",
   "metadata": {},
   "outputs": [
    {
     "data": {
      "text/plain": [
       "dtype('int32')"
      ]
     },
     "execution_count": 11,
     "metadata": {},
     "output_type": "execute_result"
    }
   ],
   "source": [
    "# 获取数组元素类型\n",
    "arr.dtype"
   ]
  },
  {
   "cell_type": "code",
   "execution_count": 10,
   "id": "6699d2d6-da35-4e8e-b57c-256417209f41",
   "metadata": {},
   "outputs": [
    {
     "data": {
      "text/plain": [
       "numpy.ndarray"
      ]
     },
     "execution_count": 10,
     "metadata": {},
     "output_type": "execute_result"
    }
   ],
   "source": [
    "# 获取数组类型\n",
    "type(arr)"
   ]
  },
  {
   "cell_type": "code",
   "execution_count": 21,
   "id": "7df0f765-3e5c-460c-b582-92de29ac1f1a",
   "metadata": {},
   "outputs": [],
   "source": [
    "data = [[1,2,3,6,1],[1,2,3,4,5]]"
   ]
  },
  {
   "cell_type": "code",
   "execution_count": 17,
   "id": "0ff7d52b-1110-4632-b222-8f41ae1cabf6",
   "metadata": {},
   "outputs": [
    {
     "data": {
      "text/plain": [
       "3"
      ]
     },
     "execution_count": 17,
     "metadata": {},
     "output_type": "execute_result"
    }
   ],
   "source": [
    "data[0][2]"
   ]
  },
  {
   "cell_type": "code",
   "execution_count": 18,
   "id": "298cca6a-0968-4849-be9c-6ccd4b6754cf",
   "metadata": {},
   "outputs": [],
   "source": [
    "arr1 = np.array([1,3,5,6,7])"
   ]
  },
  {
   "cell_type": "code",
   "execution_count": 19,
   "id": "229f65a8-3321-45bc-966d-7909152e2673",
   "metadata": {},
   "outputs": [
    {
     "data": {
      "text/plain": [
       "np.int64(6)"
      ]
     },
     "execution_count": 19,
     "metadata": {},
     "output_type": "execute_result"
    }
   ],
   "source": [
    "arr1[3]"
   ]
  },
  {
   "cell_type": "code",
   "execution_count": 22,
   "id": "a3a5ff3c-1caf-449e-a535-638b531a7ec8",
   "metadata": {},
   "outputs": [],
   "source": [
    "arr2 = np.array(data)"
   ]
  },
  {
   "cell_type": "code",
   "execution_count": 26,
   "id": "98d07224-6e53-4b78-bd02-6cdea5827bb7",
   "metadata": {},
   "outputs": [
    {
     "data": {
      "text/plain": [
       "np.int64(1)"
      ]
     },
     "execution_count": 26,
     "metadata": {},
     "output_type": "execute_result"
    }
   ],
   "source": [
    "# 列表的访问方式\n",
    "arr2[0][0]"
   ]
  },
  {
   "cell_type": "code",
   "execution_count": 29,
   "id": "92da47da-780b-47cd-af38-0183f3d986f1",
   "metadata": {},
   "outputs": [
    {
     "data": {
      "text/plain": [
       "np.int64(1)"
      ]
     },
     "execution_count": 29,
     "metadata": {},
     "output_type": "execute_result"
    }
   ],
   "source": [
    "# numpy特有的\n",
    "# arr[m,n...] 描述对应维度的索引值\n",
    "arr2[0,0]"
   ]
  },
  {
   "cell_type": "code",
   "execution_count": 28,
   "id": "70e1f141-70a4-4287-82c1-0780242bf675",
   "metadata": {},
   "outputs": [
    {
     "data": {
      "text/plain": [
       "np.int64(4)"
      ]
     },
     "execution_count": 28,
     "metadata": {},
     "output_type": "execute_result"
    }
   ],
   "source": [
    "arr2[1,3]"
   ]
  },
  {
   "cell_type": "code",
   "execution_count": 30,
   "id": "607b4397-33b3-4247-9b60-e4ad935bd963",
   "metadata": {},
   "outputs": [
    {
     "data": {
      "text/plain": [
       "array([1, 3, 5, 6, 7])"
      ]
     },
     "execution_count": 30,
     "metadata": {},
     "output_type": "execute_result"
    }
   ],
   "source": [
    "# 高级用法\n",
    "arr1"
   ]
  },
  {
   "cell_type": "code",
   "execution_count": 35,
   "id": "8ea44f1f-10ab-4ffd-a2e4-d7de7804e4d3",
   "metadata": {},
   "outputs": [
    {
     "data": {
      "text/plain": [
       "array([1, 3, 5, 1, 3, 5])"
      ]
     },
     "execution_count": 35,
     "metadata": {},
     "output_type": "execute_result"
    }
   ],
   "source": [
    "# 使用列表作为索引访问\n",
    "arr1[[0,1,2,0,1,2]]"
   ]
  },
  {
   "cell_type": "code",
   "execution_count": 38,
   "id": "a75290c0-deaf-4b5d-b97a-d350258f51e8",
   "metadata": {},
   "outputs": [
    {
     "data": {
      "text/plain": [
       "array([1, 5, 7])"
      ]
     },
     "execution_count": 38,
     "metadata": {},
     "output_type": "execute_result"
    }
   ],
   "source": [
    "# 使用BOOL列表作为索引访问 True对应的值会被返回\n",
    "bool_list = [True, False, True, False,True]\n",
    "arr1[bool_list]"
   ]
  },
  {
   "cell_type": "code",
   "execution_count": 40,
   "id": "b301fece-1b9b-4955-b439-aeebcb43ea58",
   "metadata": {},
   "outputs": [
    {
     "data": {
      "text/plain": [
       "array([6, 7])"
      ]
     },
     "execution_count": 40,
     "metadata": {},
     "output_type": "execute_result"
    }
   ],
   "source": [
    "# eg.获取数组当中大于5的数\n",
    "arr1[arr1>5]"
   ]
  },
  {
   "cell_type": "code",
   "execution_count": 44,
   "id": "439cd578-97ef-49ba-a3d5-292884b492e6",
   "metadata": {},
   "outputs": [
    {
     "data": {
      "text/plain": [
       "array([[[9, 1, 1],\n",
       "        [5, 7, 4],\n",
       "        [9, 5, 4],\n",
       "        [3, 1, 0]],\n",
       "\n",
       "       [[5, 0, 0],\n",
       "        [5, 7, 9],\n",
       "        [2, 2, 5],\n",
       "        [7, 4, 3]],\n",
       "\n",
       "       [[0, 9, 8],\n",
       "        [8, 7, 8],\n",
       "        [9, 7, 3],\n",
       "        [0, 5, 6]],\n",
       "\n",
       "       [[9, 1, 6],\n",
       "        [4, 3, 9],\n",
       "        [6, 6, 4],\n",
       "        [2, 1, 7]],\n",
       "\n",
       "       [[1, 4, 7],\n",
       "        [7, 4, 9],\n",
       "        [4, 7, 5],\n",
       "        [9, 0, 4]]], dtype=int32)"
      ]
     },
     "execution_count": 44,
     "metadata": {},
     "output_type": "execute_result"
    }
   ],
   "source": [
    "arr3 = np.random.randint(0,10,size=(5,4,3))\n",
    "arr3"
   ]
  },
  {
   "cell_type": "code",
   "execution_count": 45,
   "id": "172db16a-ff3f-49d3-ae2d-e97ab017f2a3",
   "metadata": {},
   "outputs": [
    {
     "data": {
      "text/plain": [
       "array([0, 9, 8], dtype=int32)"
      ]
     },
     "execution_count": 45,
     "metadata": {},
     "output_type": "execute_result"
    }
   ],
   "source": [
    "arr3[2,0]"
   ]
  },
  {
   "cell_type": "code",
   "execution_count": 46,
   "id": "4054783d-b3ee-4eea-b81d-642802aa2dc8",
   "metadata": {},
   "outputs": [
    {
     "data": {
      "text/plain": [
       "np.int32(4)"
      ]
     },
     "execution_count": 46,
     "metadata": {},
     "output_type": "execute_result"
    }
   ],
   "source": [
    "arr3[0,1,2]"
   ]
  },
  {
   "cell_type": "code",
   "execution_count": 47,
   "id": "80c11879-33a9-4a77-bf41-171f905757e9",
   "metadata": {},
   "outputs": [
    {
     "data": {
      "text/plain": [
       "array([[1, 4, 7],\n",
       "       [7, 4, 9],\n",
       "       [4, 7, 5],\n",
       "       [9, 0, 4]], dtype=int32)"
      ]
     },
     "execution_count": 47,
     "metadata": {},
     "output_type": "execute_result"
    }
   ],
   "source": [
    "arr3[4]"
   ]
  },
  {
   "cell_type": "code",
   "execution_count": 48,
   "id": "e8a8ef83-b788-4254-bb12-c8aeb0b3e4ae",
   "metadata": {},
   "outputs": [],
   "source": [
    "# 赋值和访问没有区别，都可以使用"
   ]
  },
  {
   "cell_type": "code",
   "execution_count": 51,
   "id": "36c94b5e-8761-4dda-b5d9-202adfb0fe77",
   "metadata": {},
   "outputs": [
    {
     "data": {
      "text/plain": [
       "array([1, 3, 5])"
      ]
     },
     "execution_count": 51,
     "metadata": {},
     "output_type": "execute_result"
    }
   ],
   "source": [
    "# 所有的切片方式都是开区（左闭右开）\n",
    "arr1[0:3]"
   ]
  },
  {
   "cell_type": "code",
   "execution_count": 52,
   "id": "4a9fc3e3-38be-437e-ba4c-55c27f03e95d",
   "metadata": {},
   "outputs": [
    {
     "data": {
      "text/plain": [
       "array([[1, 2, 3, 6, 1],\n",
       "       [1, 2, 3, 4, 5]])"
      ]
     },
     "execution_count": 52,
     "metadata": {},
     "output_type": "execute_result"
    }
   ],
   "source": [
    "arr2"
   ]
  },
  {
   "cell_type": "code",
   "execution_count": 54,
   "id": "2a19dfec-c962-478d-a9ed-2230e45f1329",
   "metadata": {},
   "outputs": [
    {
     "data": {
      "text/plain": [
       "array([[15, 61,  2, 67, 57, 24],\n",
       "       [68, 26,  1, 22, 31, 12],\n",
       "       [40, 92, 96, 25, 14, 30],\n",
       "       [87, 24, 79, 36, 26, 37],\n",
       "       [21, 60, 48, 81, 71, 45]], dtype=int32)"
      ]
     },
     "execution_count": 54,
     "metadata": {},
     "output_type": "execute_result"
    }
   ],
   "source": [
    "arr2 = np.random.randint(0,100,size=(5,6))\n",
    "arr2"
   ]
  },
  {
   "cell_type": "code",
   "execution_count": 56,
   "id": "4bbe0df2-c7a7-4b05-ae6b-996f79baf157",
   "metadata": {},
   "outputs": [
    {
     "data": {
      "text/plain": [
       "array([[15, 61,  2, 67, 57, 24],\n",
       "       [68, 26,  1, 22, 31, 12]], dtype=int32)"
      ]
     },
     "execution_count": 56,
     "metadata": {},
     "output_type": "execute_result"
    }
   ],
   "source": [
    "# 行切片\n",
    "arr2[0:2]"
   ]
  },
  {
   "cell_type": "code",
   "execution_count": 57,
   "id": "d4a65b7b-ec48-44e6-82ce-ee0b5c351245",
   "metadata": {},
   "outputs": [
    {
     "data": {
      "text/plain": [
       "array([[15, 61],\n",
       "       [68, 26],\n",
       "       [40, 92],\n",
       "       [87, 24],\n",
       "       [21, 60]], dtype=int32)"
      ]
     },
     "execution_count": 57,
     "metadata": {},
     "output_type": "execute_result"
    }
   ],
   "source": [
    "# 列切片 不论多少维，每一个维度的切片范围都是用:表示，逗号分割。最后一个维度可以省略\n",
    "arr2[:,0:2]"
   ]
  },
  {
   "cell_type": "code",
   "execution_count": 58,
   "id": "63a2c812-ecc7-4bfe-af48-def8c0318411",
   "metadata": {},
   "outputs": [
    {
     "data": {
      "text/plain": [
       "array([[[9, 1, 1],\n",
       "        [5, 7, 4],\n",
       "        [9, 5, 4],\n",
       "        [3, 1, 0]],\n",
       "\n",
       "       [[5, 0, 0],\n",
       "        [5, 7, 9],\n",
       "        [2, 2, 5],\n",
       "        [7, 4, 3]],\n",
       "\n",
       "       [[0, 9, 8],\n",
       "        [8, 7, 8],\n",
       "        [9, 7, 3],\n",
       "        [0, 5, 6]],\n",
       "\n",
       "       [[9, 1, 6],\n",
       "        [4, 3, 9],\n",
       "        [6, 6, 4],\n",
       "        [2, 1, 7]],\n",
       "\n",
       "       [[1, 4, 7],\n",
       "        [7, 4, 9],\n",
       "        [4, 7, 5],\n",
       "        [9, 0, 4]]], dtype=int32)"
      ]
     },
     "execution_count": 58,
     "metadata": {},
     "output_type": "execute_result"
    }
   ],
   "source": [
    "arr3"
   ]
  },
  {
   "cell_type": "code",
   "execution_count": 59,
   "id": "c34bdd50-7605-44bd-9c89-fe1f6f2d2a34",
   "metadata": {},
   "outputs": [
    {
     "data": {
      "text/plain": [
       "array([[[9, 1, 1],\n",
       "        [5, 7, 4],\n",
       "        [9, 5, 4],\n",
       "        [3, 1, 0]],\n",
       "\n",
       "       [[5, 0, 0],\n",
       "        [5, 7, 9],\n",
       "        [2, 2, 5],\n",
       "        [7, 4, 3]]], dtype=int32)"
      ]
     },
     "execution_count": 59,
     "metadata": {},
     "output_type": "execute_result"
    }
   ],
   "source": [
    "arr3[0:2]"
   ]
  },
  {
   "cell_type": "code",
   "execution_count": 60,
   "id": "91c738e1-06b9-4eb7-ac14-fd175d11e198",
   "metadata": {},
   "outputs": [
    {
     "data": {
      "text/plain": [
       "array([[[9, 1],\n",
       "        [5, 7],\n",
       "        [9, 5],\n",
       "        [3, 1]],\n",
       "\n",
       "       [[5, 0],\n",
       "        [5, 7],\n",
       "        [2, 2],\n",
       "        [7, 4]],\n",
       "\n",
       "       [[0, 9],\n",
       "        [8, 7],\n",
       "        [9, 7],\n",
       "        [0, 5]],\n",
       "\n",
       "       [[9, 1],\n",
       "        [4, 3],\n",
       "        [6, 6],\n",
       "        [2, 1]],\n",
       "\n",
       "       [[1, 4],\n",
       "        [7, 4],\n",
       "        [4, 7],\n",
       "        [9, 0]]], dtype=int32)"
      ]
     },
     "execution_count": 60,
     "metadata": {},
     "output_type": "execute_result"
    }
   ],
   "source": [
    "# 切割每个二位数组的前两列\n",
    "arr3[:,:,0:2]"
   ]
  },
  {
   "cell_type": "code",
   "execution_count": 61,
   "id": "83571e27-5735-46c3-96ac-245986c4181e",
   "metadata": {},
   "outputs": [
    {
     "data": {
      "text/plain": [
       "array([[[9, 1, 1],\n",
       "        [5, 7, 4]],\n",
       "\n",
       "       [[5, 0, 0],\n",
       "        [5, 7, 9]],\n",
       "\n",
       "       [[0, 9, 8],\n",
       "        [8, 7, 8]],\n",
       "\n",
       "       [[9, 1, 6],\n",
       "        [4, 3, 9]],\n",
       "\n",
       "       [[1, 4, 7],\n",
       "        [7, 4, 9]]], dtype=int32)"
      ]
     },
     "execution_count": 61,
     "metadata": {},
     "output_type": "execute_result"
    }
   ],
   "source": [
    "# 切割每一个二位数组的前两行\n",
    "arr3[:,0:2]"
   ]
  },
  {
   "cell_type": "code",
   "execution_count": 62,
   "id": "73c09495-9e8c-4420-abac-e7da38b75c2d",
   "metadata": {},
   "outputs": [
    {
     "data": {
      "text/plain": [
       "array([[[9, 1, 1],\n",
       "        [5, 7, 4],\n",
       "        [9, 5, 4],\n",
       "        [3, 1, 0]],\n",
       "\n",
       "       [[5, 0, 0],\n",
       "        [5, 7, 9],\n",
       "        [2, 2, 5],\n",
       "        [7, 4, 3]],\n",
       "\n",
       "       [[0, 9, 8],\n",
       "        [8, 7, 8],\n",
       "        [9, 7, 3],\n",
       "        [0, 5, 6]],\n",
       "\n",
       "       [[9, 1, 6],\n",
       "        [4, 3, 9],\n",
       "        [6, 6, 4],\n",
       "        [2, 1, 7]],\n",
       "\n",
       "       [[1, 4, 7],\n",
       "        [7, 4, 9],\n",
       "        [4, 7, 5],\n",
       "        [9, 0, 4]]], dtype=int32)"
      ]
     },
     "execution_count": 62,
     "metadata": {},
     "output_type": "execute_result"
    }
   ],
   "source": [
    "arr3"
   ]
  },
  {
   "cell_type": "code",
   "execution_count": 63,
   "id": "19332943-311e-45e6-b1e8-263b5cd7dddd",
   "metadata": {},
   "outputs": [
    {
     "data": {
      "text/plain": [
       "array([[5, 0, 0],\n",
       "       [0, 9, 8]], dtype=int32)"
      ]
     },
     "execution_count": 63,
     "metadata": {},
     "output_type": "execute_result"
    }
   ],
   "source": [
    "arr3[1:3,0]"
   ]
  },
  {
   "cell_type": "code",
   "execution_count": 64,
   "id": "e3e624fd-ac7d-4064-a237-81fb8ef0f7a8",
   "metadata": {},
   "outputs": [
    {
     "data": {
      "text/plain": [
       "array([1, 3, 5, 6, 7])"
      ]
     },
     "execution_count": 64,
     "metadata": {},
     "output_type": "execute_result"
    }
   ],
   "source": [
    "arr1"
   ]
  },
  {
   "cell_type": "code",
   "execution_count": 65,
   "id": "97120445-7256-4f32-b5b4-8c3aaf2e3eef",
   "metadata": {},
   "outputs": [
    {
     "data": {
      "text/plain": [
       "array([7, 6, 5, 3, 1])"
      ]
     },
     "execution_count": 65,
     "metadata": {},
     "output_type": "execute_result"
    }
   ],
   "source": [
    "arr1[::-1]"
   ]
  },
  {
   "cell_type": "code",
   "execution_count": 68,
   "id": "4e957a7a-c273-4f2a-903a-d42b7ac72767",
   "metadata": {},
   "outputs": [
    {
     "data": {
      "text/plain": [
       "array([[15, 61,  2, 67, 57, 24],\n",
       "       [68, 26,  1, 22, 31, 12],\n",
       "       [40, 92, 96, 25, 14, 30],\n",
       "       [87, 24, 79, 36, 26, 37],\n",
       "       [21, 60, 48, 81, 71, 45]], dtype=int32)"
      ]
     },
     "execution_count": 68,
     "metadata": {},
     "output_type": "execute_result"
    }
   ],
   "source": [
    "arr2"
   ]
  },
  {
   "cell_type": "code",
   "execution_count": 69,
   "id": "808e6bfb-a39c-4fc5-9dd1-09d35b80f223",
   "metadata": {},
   "outputs": [
    {
     "data": {
      "text/plain": [
       "array([[21, 60, 48, 81, 71, 45],\n",
       "       [87, 24, 79, 36, 26, 37],\n",
       "       [40, 92, 96, 25, 14, 30],\n",
       "       [68, 26,  1, 22, 31, 12],\n",
       "       [15, 61,  2, 67, 57, 24]], dtype=int32)"
      ]
     },
     "execution_count": 69,
     "metadata": {},
     "output_type": "execute_result"
    }
   ],
   "source": [
    "arr2[::-1]"
   ]
  },
  {
   "cell_type": "code",
   "execution_count": 70,
   "id": "ec6f989c-8902-4d1d-80df-cbcbbfdc87ad",
   "metadata": {},
   "outputs": [
    {
     "data": {
      "text/plain": [
       "array([[24, 57, 67,  2, 61, 15],\n",
       "       [12, 31, 22,  1, 26, 68],\n",
       "       [30, 14, 25, 96, 92, 40],\n",
       "       [37, 26, 36, 79, 24, 87],\n",
       "       [45, 71, 81, 48, 60, 21]], dtype=int32)"
      ]
     },
     "execution_count": 70,
     "metadata": {},
     "output_type": "execute_result"
    }
   ],
   "source": [
    "arr2[:,::-1]"
   ]
  },
  {
   "cell_type": "code",
   "execution_count": 72,
   "id": "062d47c2-1fb4-40f1-8278-815efe977f23",
   "metadata": {},
   "outputs": [
    {
     "data": {
      "text/plain": [
       "array([6, 0, 2, 2, 5, 1, 3, 7, 7, 6, 0, 2, 5, 1, 5, 3, 7, 2, 5, 6],\n",
       "      dtype=int32)"
      ]
     },
     "execution_count": 72,
     "metadata": {},
     "output_type": "execute_result"
    }
   ],
   "source": [
    "arr  = np.random.randint(0,10,size=(20))\n",
    "arr"
   ]
  },
  {
   "cell_type": "code",
   "execution_count": 75,
   "id": "26d84d28-3fde-4363-8f5a-37601b10d329",
   "metadata": {},
   "outputs": [
    {
     "data": {
      "text/plain": [
       "array([[6, 0, 2, 2, 5],\n",
       "       [1, 3, 7, 7, 6],\n",
       "       [0, 2, 5, 1, 5],\n",
       "       [3, 7, 2, 5, 6]], dtype=int32)"
      ]
     },
     "execution_count": 75,
     "metadata": {},
     "output_type": "execute_result"
    }
   ],
   "source": [
    "arr.reshape((4,5))"
   ]
  },
  {
   "cell_type": "code",
   "execution_count": 77,
   "id": "a6833faf-1c5a-4b6d-b955-c9659ee136c9",
   "metadata": {},
   "outputs": [
    {
     "data": {
      "text/plain": [
       "array([[5, 3, 7],\n",
       "       [3, 0, 8],\n",
       "       [5, 7, 4]], dtype=int32)"
      ]
     },
     "metadata": {},
     "output_type": "display_data"
    },
    {
     "data": {
      "text/plain": [
       "array([[17, 19, 19],\n",
       "       [18, 19, 17],\n",
       "       [12, 10, 15]], dtype=int32)"
      ]
     },
     "metadata": {},
     "output_type": "display_data"
    }
   ],
   "source": [
    "arr1= np.random.randint(0,10,size=(3,3))\n",
    "arr2 = np.random.randint(10,20,size=(3,3))\n",
    "display(arr1,arr2)"
   ]
  },
  {
   "cell_type": "code",
   "execution_count": 79,
   "id": "927009d7-cc58-4da5-9e97-edde53595be1",
   "metadata": {},
   "outputs": [
    {
     "data": {
      "text/plain": [
       "array([[ 5,  3,  7, 17, 19, 19],\n",
       "       [ 3,  0,  8, 18, 19, 17],\n",
       "       [ 5,  7,  4, 12, 10, 15]], dtype=int32)"
      ]
     },
     "execution_count": 79,
     "metadata": {},
     "output_type": "execute_result"
    }
   ],
   "source": [
    "# 使用axis控制连接方向，axis指的是链接的维度\n",
    "# axis 注意轴 非常常见\n",
    "np.concatenate((arr1,arr2),axis=1)"
   ]
  },
  {
   "cell_type": "code",
   "execution_count": 80,
   "id": "5eb71b9b-6a41-44b9-95f7-4bf2c06a15c0",
   "metadata": {},
   "outputs": [
    {
     "data": {
      "text/plain": [
       "array([[ 5,  3,  7, 17, 19, 19],\n",
       "       [ 3,  0,  8, 18, 19, 17],\n",
       "       [ 5,  7,  4, 12, 10, 15]], dtype=int32)"
      ]
     },
     "execution_count": 80,
     "metadata": {},
     "output_type": "execute_result"
    }
   ],
   "source": [
    "np.hstack((arr1,arr2))"
   ]
  },
  {
   "cell_type": "code",
   "execution_count": 82,
   "id": "e79e0b5d-91bd-4911-982b-3090d2ab25ad",
   "metadata": {},
   "outputs": [
    {
     "data": {
      "text/plain": [
       "array([[ 5,  3,  7],\n",
       "       [ 3,  0,  8],\n",
       "       [ 5,  7,  4],\n",
       "       [17, 19, 19],\n",
       "       [18, 19, 17],\n",
       "       [12, 10, 15]], dtype=int32)"
      ]
     },
     "execution_count": 82,
     "metadata": {},
     "output_type": "execute_result"
    }
   ],
   "source": [
    "np.vstack((arr1,arr2))"
   ]
  },
  {
   "cell_type": "code",
   "execution_count": null,
   "id": "1967b7b6-6874-4035-a21c-e0dbfb089adf",
   "metadata": {},
   "outputs": [],
   "source": [
    "【注意】：级联的时候\n",
    "            如果是横向级联，参与级联的数组的行数要一致\n",
    "            纵向级联，参与级联数组的列数要一致\n",
    "            如果是高维数组的级联，级联的维度数据个数要一致"
   ]
  },
  {
   "cell_type": "code",
   "execution_count": 83,
   "id": "4f51b8eb-a698-4a0b-a492-4d36e4f30c1d",
   "metadata": {},
   "outputs": [
    {
     "data": {
      "text/plain": [
       "array([6, 0, 2, 2, 5, 1, 3, 7, 7, 6, 0, 2, 5, 1, 5, 3, 7, 2, 5, 6],\n",
       "      dtype=int32)"
      ]
     },
     "execution_count": 83,
     "metadata": {},
     "output_type": "execute_result"
    }
   ],
   "source": [
    "arr"
   ]
  },
  {
   "cell_type": "code",
   "execution_count": 85,
   "id": "bb416268-9dcf-46a4-8479-fbf8c4d58e6c",
   "metadata": {},
   "outputs": [
    {
     "data": {
      "text/plain": [
       "array([[71, 86, 73, 89, 77, 93],\n",
       "       [22, 64, 36, 73, 21, 28],\n",
       "       [13, 10, 23, 75, 52, 66],\n",
       "       [78, 65, 37, 63, 83, 29],\n",
       "       [29, 18, 74, 24, 72, 58],\n",
       "       [45, 44, 32, 36, 46, 33]], dtype=int32)"
      ]
     },
     "execution_count": 85,
     "metadata": {},
     "output_type": "execute_result"
    }
   ],
   "source": [
    "arr = np.random.randint(0,100,size=(6,6))\n",
    "arr"
   ]
  },
  {
   "cell_type": "code",
   "execution_count": 86,
   "id": "1683def4-5463-4a94-9ff3-1c502c6222db",
   "metadata": {},
   "outputs": [
    {
     "data": {
      "text/plain": [
       "array([[71, 86, 73, 89, 77, 93],\n",
       "       [22, 64, 36, 73, 21, 28],\n",
       "       [13, 10, 23, 75, 52, 66]], dtype=int32)"
      ]
     },
     "metadata": {},
     "output_type": "display_data"
    },
    {
     "data": {
      "text/plain": [
       "array([[78, 65, 37, 63, 83, 29],\n",
       "       [29, 18, 74, 24, 72, 58],\n",
       "       [45, 44, 32, 36, 46, 33]], dtype=int32)"
      ]
     },
     "metadata": {},
     "output_type": "display_data"
    }
   ],
   "source": [
    "# 直接指定切分的份数\n",
    "p1,p2 = np.split(arr, indices_or_sections=2)\n",
    "display(p1,p2)"
   ]
  },
  {
   "cell_type": "code",
   "execution_count": 87,
   "id": "356299e2-09b2-47e2-b89a-3f9c3069894f",
   "metadata": {},
   "outputs": [
    {
     "data": {
      "text/plain": [
       "array([[71, 86, 73],\n",
       "       [22, 64, 36],\n",
       "       [13, 10, 23],\n",
       "       [78, 65, 37],\n",
       "       [29, 18, 74],\n",
       "       [45, 44, 32]], dtype=int32)"
      ]
     },
     "metadata": {},
     "output_type": "display_data"
    },
    {
     "data": {
      "text/plain": [
       "array([[89, 77, 93],\n",
       "       [73, 21, 28],\n",
       "       [75, 52, 66],\n",
       "       [63, 83, 29],\n",
       "       [24, 72, 58],\n",
       "       [36, 46, 33]], dtype=int32)"
      ]
     },
     "metadata": {},
     "output_type": "display_data"
    }
   ],
   "source": [
    "# 使用axis控制切分方向\n",
    "p1,p2 = np.split(arr, indices_or_sections=2,axis=1)\n",
    "display(p1,p2)"
   ]
  },
  {
   "cell_type": "code",
   "execution_count": 89,
   "id": "ba10ac99-0d5b-4c24-844e-10ebaa6a2037",
   "metadata": {},
   "outputs": [
    {
     "data": {
      "text/plain": [
       "array([[71, 86],\n",
       "       [22, 64],\n",
       "       [13, 10],\n",
       "       [78, 65],\n",
       "       [29, 18],\n",
       "       [45, 44]], dtype=int32)"
      ]
     },
     "metadata": {},
     "output_type": "display_data"
    },
    {
     "data": {
      "text/plain": [
       "array([[73, 89],\n",
       "       [36, 73],\n",
       "       [23, 75],\n",
       "       [37, 63],\n",
       "       [74, 24],\n",
       "       [32, 36]], dtype=int32)"
      ]
     },
     "metadata": {},
     "output_type": "display_data"
    },
    {
     "data": {
      "text/plain": [
       "array([[77, 93],\n",
       "       [21, 28],\n",
       "       [52, 66],\n",
       "       [83, 29],\n",
       "       [72, 58],\n",
       "       [46, 33]], dtype=int32)"
      ]
     },
     "metadata": {},
     "output_type": "display_data"
    }
   ],
   "source": [
    "p1,p2,p3= np.split(arr, indices_or_sections=3,axis=1)\n",
    "display(p1,p2,p3)"
   ]
  },
  {
   "cell_type": "code",
   "execution_count": 90,
   "id": "af739377-c324-4a52-a9f2-980a42d72881",
   "metadata": {},
   "outputs": [
    {
     "data": {
      "text/plain": [
       "array([[77, 99,  1,  9, 14,  2, 91],\n",
       "       [67, 69, 81, 53, 12, 56, 81],\n",
       "       [42, 40, 27, 18, 81, 81, 16]], dtype=int32)"
      ]
     },
     "execution_count": 90,
     "metadata": {},
     "output_type": "execute_result"
    }
   ],
   "source": [
    "arr2 = np.random.randint(0,100,size=(3,7))\n",
    "arr2"
   ]
  },
  {
   "cell_type": "code",
   "execution_count": 91,
   "id": "e182284a-f497-4001-a0ef-bc688efee81b",
   "metadata": {},
   "outputs": [
    {
     "data": {
      "text/plain": [
       "array([[77, 99],\n",
       "       [67, 69],\n",
       "       [42, 40]], dtype=int32)"
      ]
     },
     "metadata": {},
     "output_type": "display_data"
    },
    {
     "data": {
      "text/plain": [
       "array([[ 1,  9, 14],\n",
       "       [81, 53, 12],\n",
       "       [27, 18, 81]], dtype=int32)"
      ]
     },
     "metadata": {},
     "output_type": "display_data"
    },
    {
     "data": {
      "text/plain": [
       "array([[ 2, 91],\n",
       "       [56, 81],\n",
       "       [81, 16]], dtype=int32)"
      ]
     },
     "metadata": {},
     "output_type": "display_data"
    }
   ],
   "source": [
    "p1,p2,p3= np.split(arr2, indices_or_sections=[2,5],axis=1)\n",
    "display(p1,p2,p3)"
   ]
  },
  {
   "cell_type": "code",
   "execution_count": 92,
   "id": "46c15484-792a-4a1f-84fa-473338ba2d88",
   "metadata": {},
   "outputs": [
    {
     "data": {
      "text/plain": [
       "array([[77, 99,  1,  9, 14,  2, 91],\n",
       "       [67, 69, 81, 53, 12, 56, 81],\n",
       "       [42, 40, 27, 18, 81, 81, 16]], dtype=int32)"
      ]
     },
     "execution_count": 92,
     "metadata": {},
     "output_type": "execute_result"
    }
   ],
   "source": [
    "arr2"
   ]
  },
  {
   "cell_type": "code",
   "execution_count": 93,
   "id": "b9f22a7a-fea6-4efe-972e-6b759a44f98b",
   "metadata": {},
   "outputs": [
    {
     "data": {
      "text/plain": [
       "[array([[77, 99],\n",
       "        [67, 69],\n",
       "        [42, 40]], dtype=int32),\n",
       " array([[ 1,  9, 14],\n",
       "        [81, 53, 12],\n",
       "        [27, 18, 81]], dtype=int32),\n",
       " array([[ 2, 91],\n",
       "        [56, 81],\n",
       "        [81, 16]], dtype=int32)]"
      ]
     },
     "execution_count": 93,
     "metadata": {},
     "output_type": "execute_result"
    }
   ],
   "source": [
    "np.hsplit(arr2,indices_or_sections=[2,5])"
   ]
  },
  {
   "cell_type": "code",
   "execution_count": 94,
   "id": "89363b57-bc9f-4472-b993-99cb241390be",
   "metadata": {},
   "outputs": [],
   "source": [
    "copy_array = arr.copy()"
   ]
  },
  {
   "cell_type": "code",
   "execution_count": 95,
   "id": "5a958692-82f1-45df-8fec-fb6a904bd0d1",
   "metadata": {},
   "outputs": [
    {
     "data": {
      "text/plain": [
       "array([[71, 86, 73, 89, 77, 93],\n",
       "       [22, 64, 36, 73, 21, 28],\n",
       "       [13, 10, 23, 75, 52, 66],\n",
       "       [78, 65, 37, 63, 83, 29],\n",
       "       [29, 18, 74, 24, 72, 58],\n",
       "       [45, 44, 32, 36, 46, 33]], dtype=int32)"
      ]
     },
     "execution_count": 95,
     "metadata": {},
     "output_type": "execute_result"
    }
   ],
   "source": [
    "arr"
   ]
  },
  {
   "cell_type": "code",
   "execution_count": 96,
   "id": "1c91c424-0d0e-4898-8a64-f154310ed4ea",
   "metadata": {},
   "outputs": [
    {
     "data": {
      "text/plain": [
       "array([[71, 86, 73, 89, 77, 93],\n",
       "       [22, 64, 36, 73, 21, 28],\n",
       "       [13, 10, 23, 75, 52, 66],\n",
       "       [78, 65, 37, 63, 83, 29],\n",
       "       [29, 18, 74, 24, 72, 58],\n",
       "       [45, 44, 32, 36, 46, 33]], dtype=int32)"
      ]
     },
     "execution_count": 96,
     "metadata": {},
     "output_type": "execute_result"
    }
   ],
   "source": [
    "copy_array"
   ]
  },
  {
   "cell_type": "code",
   "execution_count": 98,
   "id": "13569f7b-1a9b-46b3-8d8b-28bdde275dae",
   "metadata": {},
   "outputs": [
    {
     "data": {
      "text/plain": [
       "array([[1000,   86,   73,   89,   77,   93],\n",
       "       [  22,   64,   36,   73,   21,   28],\n",
       "       [  13,   10,   23,   75,   52,   66],\n",
       "       [  78,   65,   37,   63,   83,   29],\n",
       "       [  29,   18,   74,   24,   72,   58],\n",
       "       [  45,   44,   32,   36,   46,   33]], dtype=int32)"
      ]
     },
     "execution_count": 98,
     "metadata": {},
     "output_type": "execute_result"
    }
   ],
   "source": [
    "copy_array[0,0]=1000\n",
    "copy_array"
   ]
  },
  {
   "cell_type": "code",
   "execution_count": 99,
   "id": "e5f18e4c-fb6d-4c37-8237-a640ec704201",
   "metadata": {},
   "outputs": [
    {
     "data": {
      "text/plain": [
       "array([[71, 86, 73, 89, 77, 93],\n",
       "       [22, 64, 36, 73, 21, 28],\n",
       "       [13, 10, 23, 75, 52, 66],\n",
       "       [78, 65, 37, 63, 83, 29],\n",
       "       [29, 18, 74, 24, 72, 58],\n",
       "       [45, 44, 32, 36, 46, 33]], dtype=int32)"
      ]
     },
     "execution_count": 99,
     "metadata": {},
     "output_type": "execute_result"
    }
   ],
   "source": [
    "arr"
   ]
  },
  {
   "cell_type": "code",
   "execution_count": null,
   "id": "92ffa4db-17d3-45e5-893a-e65659d83563",
   "metadata": {},
   "outputs": [],
   "source": []
  }
 ],
 "metadata": {
  "kernelspec": {
   "display_name": "Python 3 (ipykernel)",
   "language": "python",
   "name": "python3"
  },
  "language_info": {
   "codemirror_mode": {
    "name": "ipython",
    "version": 3
   },
   "file_extension": ".py",
   "mimetype": "text/x-python",
   "name": "python",
   "nbconvert_exporter": "python",
   "pygments_lexer": "ipython3",
   "version": "3.12.3"
  },
  "widgets": {
   "application/vnd.jupyter.widget-state+json": {
    "state": {},
    "version_major": 2,
    "version_minor": 0
   }
  }
 },
 "nbformat": 4,
 "nbformat_minor": 5
}
