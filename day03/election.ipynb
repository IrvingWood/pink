{
 "cells": [
  {
   "cell_type": "code",
   "execution_count": 49,
   "id": "faf183bd-f656-4a0d-82ed-66c7eeff4779",
   "metadata": {},
   "outputs": [],
   "source": [
    "import numpy as np\n",
    "import pandas as pd\n",
    "import matplotlib.pyplot as plt\n",
    "%matplotlib inline"
   ]
  },
  {
   "cell_type": "code",
   "execution_count": 2,
   "id": "a752d7c7-c764-4904-9da6-4a12308bb5fe",
   "metadata": {},
   "outputs": [],
   "source": [
    "p1 = pd.read_csv(\"usa_elect/contb_01.csv\")\n",
    "p2 = pd.read_csv(\"usa_elect/contb_02.csv\")\n",
    "p3 = pd.read_csv(\"usa_elect/contb_03.csv\")"
   ]
  },
  {
   "cell_type": "code",
   "execution_count": 3,
   "id": "34840793-56be-4c20-bc40-e5c570fbb4a2",
   "metadata": {},
   "outputs": [],
   "source": [
    "contbr = pd.concat((p1,p2,p3))"
   ]
  },
  {
   "cell_type": "code",
   "execution_count": 4,
   "id": "ff210b7a-8512-4ca2-ac72-6158bf1cdeea",
   "metadata": {},
   "outputs": [
    {
     "data": {
      "text/plain": [
       "array(['Bachmann, Michelle', 'Romney, Mitt', 'Obama, Barack',\n",
       "       \"Roemer, Charles E. 'Buddy' III\", 'Pawlenty, Timothy',\n",
       "       'Johnson, Gary Earl', 'Paul, Ron', 'Santorum, Rick',\n",
       "       'Cain, Herman', 'Gingrich, Newt', 'McCotter, Thaddeus G',\n",
       "       'Huntsman, Jon', 'Perry, Rick'], dtype=object)"
      ]
     },
     "execution_count": 4,
     "metadata": {},
     "output_type": "execute_result"
    }
   ],
   "source": [
    "contbr['cand_nm'].unique()"
   ]
  },
  {
   "cell_type": "code",
   "execution_count": 5,
   "id": "2c5ae011-9d6c-44d7-b162-5c4c268fed19",
   "metadata": {},
   "outputs": [],
   "source": [
    "parties = {\n",
    "  'Bachmann, Michelle': 'Republican',\n",
    "  'Romney, Mitt': 'Republican',\n",
    "  'Obama, Barack': 'Democrat',\n",
    "  \"Roemer, Charles E. 'Buddy' III\": 'Reform',\n",
    "  'Pawlenty, Timothy': 'Republican',\n",
    "  'Johnson, Gary Earl': 'Libertarian',\n",
    "  'Paul, Ron': 'Republican',\n",
    "  'Santorum, Rick': 'Republican',\n",
    "  'Cain, Herman': 'Republican',\n",
    "  'Gingrich, Newt': 'Republican',\n",
    "  'McCotter, Thaddeus G': 'Republican',\n",
    "  'Huntsman, Jon': 'Republican',\n",
    "  'Perry, Rick': 'Republican'           \n",
    " }\n"
   ]
  },
  {
   "cell_type": "code",
   "execution_count": 6,
   "id": "a9bcbf7b-0253-49f0-9c9d-0203245348ae",
   "metadata": {},
   "outputs": [
    {
     "data": {
      "text/plain": [
       "{'Bachmann, Michelle': 'Republican',\n",
       " 'Romney, Mitt': 'Republican',\n",
       " 'Obama, Barack': 'Democrat',\n",
       " \"Roemer, Charles E. 'Buddy' III\": 'Reform',\n",
       " 'Pawlenty, Timothy': 'Republican',\n",
       " 'Johnson, Gary Earl': 'Libertarian',\n",
       " 'Paul, Ron': 'Republican',\n",
       " 'Santorum, Rick': 'Republican',\n",
       " 'Cain, Herman': 'Republican',\n",
       " 'Gingrich, Newt': 'Republican',\n",
       " 'McCotter, Thaddeus G': 'Republican',\n",
       " 'Huntsman, Jon': 'Republican',\n",
       " 'Perry, Rick': 'Republican'}"
      ]
     },
     "execution_count": 6,
     "metadata": {},
     "output_type": "execute_result"
    }
   ],
   "source": [
    "parties"
   ]
  },
  {
   "cell_type": "code",
   "execution_count": 7,
   "id": "bc441d89-a741-4009-ad3d-a837a04f496a",
   "metadata": {},
   "outputs": [],
   "source": [
    "contbr[\"parties\"] = contbr.cand_nm.map(parties)"
   ]
  },
  {
   "cell_type": "code",
   "execution_count": 8,
   "id": "b5febc3f-6d0f-403c-b1f8-767e8fab88c0",
   "metadata": {},
   "outputs": [
    {
     "data": {
      "text/plain": [
       "cand_nm               True\n",
       "contbr_nm             True\n",
       "contbr_st            False\n",
       "contbr_employer      False\n",
       "contbr_occupation    False\n",
       "contb_receipt_amt     True\n",
       "contb_receipt_dt      True\n",
       "parties               True\n",
       "dtype: bool"
      ]
     },
     "execution_count": 8,
     "metadata": {},
     "output_type": "execute_result"
    }
   ],
   "source": [
    "contbr.notnull().all()"
   ]
  },
  {
   "cell_type": "code",
   "execution_count": 9,
   "id": "1deecf1b-0d64-48d4-a347-f0307cb4b3b2",
   "metadata": {},
   "outputs": [
    {
     "data": {
      "text/plain": [
       "cand_nm              Bachmann, Michelle\n",
       "contbr_nm               HARVEY, WILLIAM\n",
       "contbr_st                            AL\n",
       "contbr_employer                 RETIRED\n",
       "contbr_occupation               RETIRED\n",
       "contb_receipt_amt                  50.0\n",
       "contb_receipt_dt              23-JUN-11\n",
       "parties                      Republican\n",
       "Name: 1, dtype: object"
      ]
     },
     "execution_count": 9,
     "metadata": {},
     "output_type": "execute_result"
    }
   ],
   "source": [
    "contbr.iloc[1]"
   ]
  },
  {
   "cell_type": "code",
   "execution_count": 10,
   "id": "a7b5c043-d43e-4bc3-b19d-fa8d1403174a",
   "metadata": {},
   "outputs": [
    {
     "data": {
      "text/html": [
       "<div>\n",
       "<style scoped>\n",
       "    .dataframe tbody tr th:only-of-type {\n",
       "        vertical-align: middle;\n",
       "    }\n",
       "\n",
       "    .dataframe tbody tr th {\n",
       "        vertical-align: top;\n",
       "    }\n",
       "\n",
       "    .dataframe thead th {\n",
       "        text-align: right;\n",
       "    }\n",
       "</style>\n",
       "<table border=\"1\" class=\"dataframe\">\n",
       "  <thead>\n",
       "    <tr style=\"text-align: right;\">\n",
       "      <th></th>\n",
       "      <th>cand_nm</th>\n",
       "      <th>contbr_nm</th>\n",
       "      <th>contbr_st</th>\n",
       "      <th>contbr_employer</th>\n",
       "      <th>contbr_occupation</th>\n",
       "      <th>contb_receipt_amt</th>\n",
       "      <th>contb_receipt_dt</th>\n",
       "      <th>parties</th>\n",
       "    </tr>\n",
       "  </thead>\n",
       "  <tbody>\n",
       "    <tr>\n",
       "      <th>0</th>\n",
       "      <td>Bachmann, Michelle</td>\n",
       "      <td>HARVEY, WILLIAM</td>\n",
       "      <td>AL</td>\n",
       "      <td>RETIRED</td>\n",
       "      <td>RETIRED</td>\n",
       "      <td>250.0</td>\n",
       "      <td>20-JUN-11</td>\n",
       "      <td>Republican</td>\n",
       "    </tr>\n",
       "    <tr>\n",
       "      <th>1</th>\n",
       "      <td>Bachmann, Michelle</td>\n",
       "      <td>HARVEY, WILLIAM</td>\n",
       "      <td>AL</td>\n",
       "      <td>RETIRED</td>\n",
       "      <td>RETIRED</td>\n",
       "      <td>50.0</td>\n",
       "      <td>23-JUN-11</td>\n",
       "      <td>Republican</td>\n",
       "    </tr>\n",
       "    <tr>\n",
       "      <th>2</th>\n",
       "      <td>Bachmann, Michelle</td>\n",
       "      <td>SMITH, LANIER</td>\n",
       "      <td>AL</td>\n",
       "      <td>INFORMATION REQUESTED</td>\n",
       "      <td>INFORMATION REQUESTED</td>\n",
       "      <td>250.0</td>\n",
       "      <td>05-JUL-11</td>\n",
       "      <td>Republican</td>\n",
       "    </tr>\n",
       "    <tr>\n",
       "      <th>3</th>\n",
       "      <td>Bachmann, Michelle</td>\n",
       "      <td>BLEVINS, DARONDA</td>\n",
       "      <td>AR</td>\n",
       "      <td>NONE</td>\n",
       "      <td>RETIRED</td>\n",
       "      <td>250.0</td>\n",
       "      <td>01-AUG-11</td>\n",
       "      <td>Republican</td>\n",
       "    </tr>\n",
       "    <tr>\n",
       "      <th>4</th>\n",
       "      <td>Bachmann, Michelle</td>\n",
       "      <td>WARDENBURG, HAROLD</td>\n",
       "      <td>AR</td>\n",
       "      <td>NONE</td>\n",
       "      <td>RETIRED</td>\n",
       "      <td>300.0</td>\n",
       "      <td>20-JUN-11</td>\n",
       "      <td>Republican</td>\n",
       "    </tr>\n",
       "  </tbody>\n",
       "</table>\n",
       "</div>"
      ],
      "text/plain": [
       "              cand_nm           contbr_nm contbr_st        contbr_employer  \\\n",
       "0  Bachmann, Michelle     HARVEY, WILLIAM        AL                RETIRED   \n",
       "1  Bachmann, Michelle     HARVEY, WILLIAM        AL                RETIRED   \n",
       "2  Bachmann, Michelle       SMITH, LANIER        AL  INFORMATION REQUESTED   \n",
       "3  Bachmann, Michelle    BLEVINS, DARONDA        AR                   NONE   \n",
       "4  Bachmann, Michelle  WARDENBURG, HAROLD        AR                   NONE   \n",
       "\n",
       "       contbr_occupation  contb_receipt_amt contb_receipt_dt     parties  \n",
       "0                RETIRED              250.0        20-JUN-11  Republican  \n",
       "1                RETIRED               50.0        23-JUN-11  Republican  \n",
       "2  INFORMATION REQUESTED              250.0        05-JUL-11  Republican  \n",
       "3                RETIRED              250.0        01-AUG-11  Republican  \n",
       "4                RETIRED              300.0        20-JUN-11  Republican  "
      ]
     },
     "execution_count": 10,
     "metadata": {},
     "output_type": "execute_result"
    }
   ],
   "source": [
    "contbr.head()"
   ]
  },
  {
   "cell_type": "code",
   "execution_count": 11,
   "id": "2d0a820a-7823-4387-a591-f4e023e7c7ab",
   "metadata": {},
   "outputs": [
    {
     "data": {
      "text/plain": [
       "array(['Republican', 'Democrat', 'Reform', 'Libertarian'], dtype=object)"
      ]
     },
     "execution_count": 11,
     "metadata": {},
     "output_type": "execute_result"
    }
   ],
   "source": [
    "contbr['parties'].unique()"
   ]
  },
  {
   "cell_type": "code",
   "execution_count": 12,
   "id": "406ec220-7918-45a8-9eff-09a76899e918",
   "metadata": {},
   "outputs": [
    {
     "data": {
      "text/plain": [
       "parties\n",
       "Democrat       593747\n",
       "Republican     400832\n",
       "Reform           5920\n",
       "Libertarian      1234\n",
       "Name: count, dtype: int64"
      ]
     },
     "execution_count": 12,
     "metadata": {},
     "output_type": "execute_result"
    }
   ],
   "source": [
    "contbr['parties'].value_counts()"
   ]
  },
  {
   "cell_type": "code",
   "execution_count": 13,
   "id": "603e1f72-238b-4e24-b172-fe5ebb8d2dab",
   "metadata": {},
   "outputs": [
    {
     "data": {
      "text/plain": [
       "<Axes: xlabel='parties'>"
      ]
     },
     "execution_count": 13,
     "metadata": {},
     "output_type": "execute_result"
    },
    {
     "data": {
      "image/png": "[encoded data removed]",
      "text/plain": [
       "<Figure size 640x480 with 1 Axes>"
      ]
     },
     "metadata": {},
     "output_type": "display_data"
    }
   ],
   "source": [
    "contbr['parties'].value_counts().plot(kind='bar')"
   ]
  },
  {
   "cell_type": "code",
   "execution_count": 14,
   "id": "0bb592d9-30ba-4990-9268-56eac9819220",
   "metadata": {},
   "outputs": [],
   "source": [
    "group_c = contbr.groupby(\"parties\")"
   ]
  },
  {
   "cell_type": "code",
   "execution_count": 16,
   "id": "c1e20bef-72d1-4586-a597-603ce5f53d4c",
   "metadata": {},
   "outputs": [
    {
     "data": {
      "text/plain": [
       "parties\n",
       "Democrat       1.335028e+08\n",
       "Libertarian    5.669616e+05\n",
       "Reform         3.674575e+05\n",
       "Republican     1.643154e+08\n",
       "Name: contb_receipt_amt, dtype: float64"
      ]
     },
     "execution_count": 16,
     "metadata": {},
     "output_type": "execute_result"
    }
   ],
   "source": [
    "group_c.contb_receipt_amt.sum()"
   ]
  },
  {
   "cell_type": "code",
   "execution_count": 17,
   "id": "e97d787e-c18e-42a3-8eb4-b8354014844d",
   "metadata": {},
   "outputs": [
    {
     "data": {
      "text/plain": [
       "<Axes: xlabel='parties'>"
      ]
     },
     "execution_count": 17,
     "metadata": {},
     "output_type": "execute_result"
    },
    {
     "data": {
      "image/png": "[encoded data removed]",
      "text/plain": [
       "<Figure size 640x480 with 1 Axes>"
      ]
     },
     "metadata": {},
     "output_type": "display_data"
    }
   ],
   "source": [
    "group_c.contb_receipt_amt.sum().plot(kind='bar')"
   ]
  },
  {
   "cell_type": "code",
   "execution_count": 19,
   "id": "c6b98277-b115-4c65-ba4a-ac4475b2e5bb",
   "metadata": {},
   "outputs": [
    {
     "data": {
      "text/plain": [
       "<Axes: xlabel='parties'>"
      ]
     },
     "execution_count": 19,
     "metadata": {},
     "output_type": "execute_result"
    },
    {
     "data": {
      "image/png": "[encoded data removed]",
      "text/plain": [
       "<Figure size 640x480 with 1 Axes>"
      ]
     },
     "metadata": {},
     "output_type": "display_data"
    }
   ],
   "source": [
    "# 查看各个党派人均的捐赠额\n",
    "group_c.contb_receipt_amt.mean().plot(kind='bar')"
   ]
  },
  {
   "cell_type": "code",
   "execution_count": null,
   "id": "02165d36-ba56-4f55-82ea-d184bcbe19df",
   "metadata": {},
   "outputs": [],
   "source": [
    "p2.info()"
   ]
  },
  {
   "cell_type": "code",
   "execution_count": null,
   "id": "1a283f86-b857-46ba-a644-b6ddff9547b1",
   "metadata": {},
   "outputs": [],
   "source": [
    "p3.info()"
   ]
  },
  {
   "cell_type": "markdown",
   "id": "54a53334-01f5-4ef5-91e6-a5f016f28535",
   "metadata": {},
   "source": [
    "cand_nm            候选人姓名\n",
    "\n",
    "contbr_nm          选举人姓名\n",
    "\n",
    "contbr_st          选举人所属的州\n",
    "\n",
    "contbr_employer    选举人的职位\n",
    "\n",
    "contbr_occupation  选举人的行业\n",
    "\n",
    "contb_receipt_amt  政治献金数目\n",
    "\n",
    "contb_receipt_dt   捐赠时间"
   ]
  },
  {
   "cell_type": "code",
   "execution_count": 22,
   "id": "066c650d-9b7b-4269-8da6-addd3358fb8a",
   "metadata": {},
   "outputs": [
    {
     "data": {
      "text/plain": [
       "Index(['cand_nm', 'contbr_nm', 'contbr_st', 'contbr_employer',\n",
       "       'contbr_occupation', 'contb_receipt_amt', 'contb_receipt_dt',\n",
       "       'parties'],\n",
       "      dtype='object')"
      ]
     },
     "execution_count": 22,
     "metadata": {},
     "output_type": "execute_result"
    }
   ],
   "source": [
    "contbr.columns"
   ]
  },
  {
   "cell_type": "code",
   "execution_count": 59,
   "id": "cb1236b0-b82f-4fa7-8fa8-c6d260693ee4",
   "metadata": {},
   "outputs": [],
   "source": [
    "temp = contbr.groupby([\"contb_receipt_dt\",\"parties\"])[\"contb_receipt_amt\"].sum().unstack(level=-1)"
   ]
  },
  {
   "cell_type": "code",
   "execution_count": 60,
   "id": "061070a1-b89a-49a6-ba19-1fa5ac9440e8",
   "metadata": {},
   "outputs": [
    {
     "data": {
      "text/html": [
       "<div>\n",
       "<style scoped>\n",
       "    .dataframe tbody tr th:only-of-type {\n",
       "        vertical-align: middle;\n",
       "    }\n",
       "\n",
       "    .dataframe tbody tr th {\n",
       "        vertical-align: top;\n",
       "    }\n",
       "\n",
       "    .dataframe thead th {\n",
       "        text-align: right;\n",
       "    }\n",
       "</style>\n",
       "<table border=\"1\" class=\"dataframe\">\n",
       "  <thead>\n",
       "    <tr style=\"text-align: right;\">\n",
       "      <th>parties</th>\n",
       "      <th>Democrat</th>\n",
       "      <th>Libertarian</th>\n",
       "      <th>Reform</th>\n",
       "      <th>Republican</th>\n",
       "    </tr>\n",
       "    <tr>\n",
       "      <th>contb_receipt_dt</th>\n",
       "      <th></th>\n",
       "      <th></th>\n",
       "      <th></th>\n",
       "      <th></th>\n",
       "    </tr>\n",
       "  </thead>\n",
       "  <tbody>\n",
       "    <tr>\n",
       "      <th>2011-1-01</th>\n",
       "      <td>NaN</td>\n",
       "      <td>NaN</td>\n",
       "      <td>NaN</td>\n",
       "      <td>8600.00</td>\n",
       "    </tr>\n",
       "    <tr>\n",
       "      <th>2011-1-03</th>\n",
       "      <td>NaN</td>\n",
       "      <td>NaN</td>\n",
       "      <td>NaN</td>\n",
       "      <td>4800.00</td>\n",
       "    </tr>\n",
       "    <tr>\n",
       "      <th>2011-1-04</th>\n",
       "      <td>NaN</td>\n",
       "      <td>NaN</td>\n",
       "      <td>NaN</td>\n",
       "      <td>5000.00</td>\n",
       "    </tr>\n",
       "    <tr>\n",
       "      <th>2011-1-12</th>\n",
       "      <td>NaN</td>\n",
       "      <td>NaN</td>\n",
       "      <td>NaN</td>\n",
       "      <td>4150.00</td>\n",
       "    </tr>\n",
       "    <tr>\n",
       "      <th>2011-1-13</th>\n",
       "      <td>NaN</td>\n",
       "      <td>NaN</td>\n",
       "      <td>NaN</td>\n",
       "      <td>4000.00</td>\n",
       "    </tr>\n",
       "    <tr>\n",
       "      <th>...</th>\n",
       "      <td>...</td>\n",
       "      <td>...</td>\n",
       "      <td>...</td>\n",
       "      <td>...</td>\n",
       "    </tr>\n",
       "    <tr>\n",
       "      <th>2012-4-26</th>\n",
       "      <td>537115.38</td>\n",
       "      <td>1805.0</td>\n",
       "      <td>25.0</td>\n",
       "      <td>505311.33</td>\n",
       "    </tr>\n",
       "    <tr>\n",
       "      <th>2012-4-27</th>\n",
       "      <td>745269.95</td>\n",
       "      <td>350.0</td>\n",
       "      <td>560.0</td>\n",
       "      <td>593983.56</td>\n",
       "    </tr>\n",
       "    <tr>\n",
       "      <th>2012-4-28</th>\n",
       "      <td>479677.34</td>\n",
       "      <td>NaN</td>\n",
       "      <td>110.0</td>\n",
       "      <td>80759.16</td>\n",
       "    </tr>\n",
       "    <tr>\n",
       "      <th>2012-4-29</th>\n",
       "      <td>349744.69</td>\n",
       "      <td>NaN</td>\n",
       "      <td>NaN</td>\n",
       "      <td>61421.02</td>\n",
       "    </tr>\n",
       "    <tr>\n",
       "      <th>2012-4-30</th>\n",
       "      <td>3499159.38</td>\n",
       "      <td>NaN</td>\n",
       "      <td>35.0</td>\n",
       "      <td>787702.81</td>\n",
       "    </tr>\n",
       "  </tbody>\n",
       "</table>\n",
       "<p>466 rows × 4 columns</p>\n",
       "</div>"
      ],
      "text/plain": [
       "parties             Democrat  Libertarian  Reform  Republican\n",
       "contb_receipt_dt                                             \n",
       "2011-1-01                NaN          NaN     NaN     8600.00\n",
       "2011-1-03                NaN          NaN     NaN     4800.00\n",
       "2011-1-04                NaN          NaN     NaN     5000.00\n",
       "2011-1-12                NaN          NaN     NaN     4150.00\n",
       "2011-1-13                NaN          NaN     NaN     4000.00\n",
       "...                      ...          ...     ...         ...\n",
       "2012-4-26          537115.38       1805.0    25.0   505311.33\n",
       "2012-4-27          745269.95        350.0   560.0   593983.56\n",
       "2012-4-28          479677.34          NaN   110.0    80759.16\n",
       "2012-4-29          349744.69          NaN     NaN    61421.02\n",
       "2012-4-30         3499159.38          NaN    35.0   787702.81\n",
       "\n",
       "[466 rows x 4 columns]"
      ]
     },
     "execution_count": 60,
     "metadata": {},
     "output_type": "execute_result"
    }
   ],
   "source": [
    "temp.sort_index()"
   ]
  },
  {
   "cell_type": "code",
   "execution_count": 27,
   "id": "2fbbcfd5-6016-4949-8175-d30ca025ae7d",
   "metadata": {},
   "outputs": [
    {
     "name": "stdout",
     "output_type": "stream",
     "text": [
      "<class 'pandas.core.frame.DataFrame'>\n",
      "Index: 1001733 entries, 0 to 1730\n",
      "Data columns (total 8 columns):\n",
      " #   Column             Non-Null Count    Dtype  \n",
      "---  ------             --------------    -----  \n",
      " 0   cand_nm            1001733 non-null  object \n",
      " 1   contbr_nm          1001733 non-null  object \n",
      " 2   contbr_st          1001729 non-null  object \n",
      " 3   contbr_employer    988004 non-null   object \n",
      " 4   contbr_occupation  993303 non-null   object \n",
      " 5   contb_receipt_amt  1001733 non-null  float64\n",
      " 6   contb_receipt_dt   1001733 non-null  object \n",
      " 7   parties            1001733 non-null  object \n",
      "dtypes: float64(1), object(7)\n",
      "memory usage: 68.8+ MB\n"
     ]
    }
   ],
   "source": [
    "contbr.info()"
   ]
  },
  {
   "cell_type": "code",
   "execution_count": 42,
   "id": "0f604ff9-828b-4cee-a8a2-1aff0cb64ac8",
   "metadata": {},
   "outputs": [],
   "source": [
    "import datetime"
   ]
  },
  {
   "cell_type": "code",
   "execution_count": 33,
   "id": "16c640df-ed68-4ec5-b355-0a1fe2bcd6fa",
   "metadata": {},
   "outputs": [],
   "source": [
    "now  =datetime.now()"
   ]
  },
  {
   "cell_type": "code",
   "execution_count": 36,
   "id": "6c8727a7-0a4c-4d79-bcb0-1658805cb35b",
   "metadata": {},
   "outputs": [
    {
     "data": {
      "text/plain": [
       "datetime.datetime(2024, 7, 29, 20, 17, 8, 128575)"
      ]
     },
     "execution_count": 36,
     "metadata": {},
     "output_type": "execute_result"
    }
   ],
   "source": [
    "now"
   ]
  },
  {
   "cell_type": "code",
   "execution_count": 37,
   "id": "1a17d63b-3636-4d79-8361-ebf23cb154c0",
   "metadata": {},
   "outputs": [
    {
     "data": {
      "text/plain": [
       "0       20-JUN-11\n",
       "1       23-JUN-11\n",
       "2       05-JUL-11\n",
       "3       01-AUG-11\n",
       "4       20-JUN-11\n",
       "          ...    \n",
       "1726    29-SEP-11\n",
       "1727    30-SEP-11\n",
       "1728    29-SEP-11\n",
       "1729    30-SEP-11\n",
       "1730    31-AUG-11\n",
       "Name: contb_receipt_dt, Length: 1001733, dtype: object"
      ]
     },
     "execution_count": 37,
     "metadata": {},
     "output_type": "execute_result"
    }
   ],
   "source": [
    "contbr[\"contb_receipt_dt\"]"
   ]
  },
  {
   "cell_type": "code",
   "execution_count": 51,
   "id": "d67e16b9-0de2-4832-83c3-d455025bfd0f",
   "metadata": {},
   "outputs": [
    {
     "data": {
      "text/plain": [
       "DatetimeIndex(['2024-09-01'], dtype='datetime64[ns]', freq=None)"
      ]
     },
     "execution_count": 51,
     "metadata": {},
     "output_type": "execute_result"
    }
   ],
   "source": [
    "# 时间类型属于数值型，可以被运算，可以做减法，可以排序\n",
    "pd.to_datetime(np.array([\"2024-09-01\"]))"
   ]
  },
  {
   "cell_type": "code",
   "execution_count": 55,
   "id": "6fbad286-6460-4f6f-964e-1e1ed28d0de4",
   "metadata": {},
   "outputs": [],
   "source": [
    "months = {'JAN' : 1, 'FEB' : 2, 'MAR' : 3, 'APR' : 4, 'MAY' : 5, 'JUN' : 6,\n",
    "          'JUL' : 7, 'AUG' : 8, 'SEP' : 9, 'OCT': 10, 'NOV': 11, 'DEC' : 12}\n"
   ]
  },
  {
   "cell_type": "code",
   "execution_count": 56,
   "id": "1d15e918-f934-4085-8b17-4cf3a6977a59",
   "metadata": {},
   "outputs": [],
   "source": [
    "def map_datetime(x):\n",
    "    day,month, year = x.split(\"-\")\n",
    "    return \"20{}-{}-{}\".format(year,months[month],day)"
   ]
  },
  {
   "cell_type": "code",
   "execution_count": 57,
   "id": "2760d34a-e1e2-48fc-8938-6ccdc0b8190e",
   "metadata": {},
   "outputs": [
    {
     "data": {
      "text/plain": [
       "'2011-9-29'"
      ]
     },
     "execution_count": 57,
     "metadata": {},
     "output_type": "execute_result"
    }
   ],
   "source": [
    "map_datetime(\"29-SEP-11\")"
   ]
  },
  {
   "cell_type": "code",
   "execution_count": 58,
   "id": "830ce661-7a93-4da8-a43b-71654242730e",
   "metadata": {},
   "outputs": [],
   "source": [
    "contbr[\"contb_receipt_dt\"] = contbr[\"contb_receipt_dt\"].map(map_datetime)"
   ]
  },
  {
   "cell_type": "code",
   "execution_count": 61,
   "id": "2bbd52b2-a147-44bb-a909-32b006641917",
   "metadata": {},
   "outputs": [
    {
     "data": {
      "text/plain": [
       "cand_nm               object\n",
       "contbr_nm             object\n",
       "contbr_st             object\n",
       "contbr_employer       object\n",
       "contbr_occupation     object\n",
       "contb_receipt_amt    float64\n",
       "contb_receipt_dt      object\n",
       "parties               object\n",
       "dtype: object"
      ]
     },
     "execution_count": 61,
     "metadata": {},
     "output_type": "execute_result"
    }
   ],
   "source": [
    "contbr.dtypes"
   ]
  },
  {
   "cell_type": "code",
   "execution_count": 62,
   "id": "1be56f9d-4b68-4b1e-840e-648132ccfb91",
   "metadata": {},
   "outputs": [],
   "source": [
    "# 把符合时间类型的字符串直接转换成时间类型\n",
    "contbr[\"contb_receipt_dt\"] = pd.to_datetime(contbr[\"contb_receipt_dt\"])"
   ]
  },
  {
   "cell_type": "code",
   "execution_count": 63,
   "id": "8aaea1a0-fa62-4a9c-be1b-f9e56cee56ce",
   "metadata": {},
   "outputs": [
    {
     "data": {
      "text/plain": [
       "cand_nm                      object\n",
       "contbr_nm                    object\n",
       "contbr_st                    object\n",
       "contbr_employer              object\n",
       "contbr_occupation            object\n",
       "contb_receipt_amt           float64\n",
       "contb_receipt_dt     datetime64[ns]\n",
       "parties                      object\n",
       "dtype: object"
      ]
     },
     "execution_count": 63,
     "metadata": {},
     "output_type": "execute_result"
    }
   ],
   "source": [
    "contbr.dtypes"
   ]
  },
  {
   "cell_type": "code",
   "execution_count": 64,
   "id": "123bad57-841e-43ba-9c6c-0720bf5dc644",
   "metadata": {},
   "outputs": [],
   "source": [
    "temp = contbr.groupby([\"contb_receipt_dt\",\"parties\"])[\"contb_receipt_amt\"].sum().unstack(level=-1)"
   ]
  },
  {
   "cell_type": "code",
   "execution_count": 67,
   "id": "7f0837b2-bf76-4989-b9fd-c9eafe88b717",
   "metadata": {},
   "outputs": [],
   "source": [
    "party_dt  = temp.fillna(0)"
   ]
  },
  {
   "cell_type": "code",
   "execution_count": 68,
   "id": "8e507278-3655-4148-b53d-74f745a0bace",
   "metadata": {},
   "outputs": [],
   "source": [
    "party_dt.sort_index(inplace=True)"
   ]
  },
  {
   "cell_type": "code",
   "execution_count": 71,
   "id": "6b567d29-f3a5-4967-b5b1-3a72864ed15e",
   "metadata": {},
   "outputs": [
    {
     "data": {
      "text/plain": [
       "<Axes: xlabel='contb_receipt_dt'>"
      ]
     },
     "execution_count": 71,
     "metadata": {},
     "output_type": "execute_result"
    },
    {
     "data": {
      "image/png": "[encoded data removed]",
      "text/plain": [
       "<Figure size 640x480 with 1 Axes>"
      ]
     },
     "metadata": {},
     "output_type": "display_data"
    }
   ],
   "source": [
    "# 线形图默认是看每天的政治献金的数目\n",
    "party_dt.plot(kind='line')"
   ]
  },
  {
   "cell_type": "code",
   "execution_count": 73,
   "id": "3d7367e7-3498-40ab-be93-6b9e652f82ab",
   "metadata": {},
   "outputs": [
    {
     "data": {
      "text/plain": [
       "<Axes: xlabel='contb_receipt_dt'>"
      ]
     },
     "execution_count": 73,
     "metadata": {},
     "output_type": "execute_result"
    },
    {
     "data": {
      "image/png": "[encoded data removed]",
      "text/plain": [
       "<Figure size 640x480 with 1 Axes>"
      ]
     },
     "metadata": {},
     "output_type": "display_data"
    }
   ],
   "source": [
    "# 看每天的政治献金的累计数，这样可以看到趋势\n",
    "party_dt.cumsum().plot(kind='line')"
   ]
  },
  {
   "cell_type": "code",
   "execution_count": null,
   "id": "87cb84e9-b8b2-4425-993f-fb598cc4ba0a",
   "metadata": {},
   "outputs": [],
   "source": [
    "# 我们想知道哪几个月是竞选高峰期\n",
    "# 需要对月份分组，就要首先把月份找出来，可以使用map的方式\n",
    "# 类似的逻辑：比如想从用户的手机号中提取一些信息（运营商，地理位置）\n"
   ]
  },
  {
   "cell_type": "code",
   "execution_count": null,
   "id": "f1e4f9fa-5b69-4b22-bd54-3269509f90af",
   "metadata": {},
   "outputs": [],
   "source": [
    "# 但是时间类型上不需要这样解决，时间有时间类型单独的分组处理方案\n",
    "# 重采样（专门用来做时间分组），前提条件是必须以时间类型作为行索引"
   ]
  },
  {
   "cell_type": "code",
   "execution_count": 76,
   "id": "e74d981d-5794-4190-844f-19a28374cb9c",
   "metadata": {},
   "outputs": [],
   "source": [
    "temp = contbr.set_index(\"contb_receipt_dt\")"
   ]
  },
  {
   "cell_type": "code",
   "execution_count": 78,
   "id": "ad24e536-e724-44d1-8c4b-27405219ccec",
   "metadata": {},
   "outputs": [
    {
     "name": "stderr",
     "output_type": "stream",
     "text": [
      "/tmp/ipykernel_339925/569373016.py:1: FutureWarning: 'Y' is deprecated and will be removed in a future version, please use 'YE' instead.\n",
      "  temp.resample(\"Y\")[\"contb_receipt_amt\"].sum()\n"
     ]
    },
    {
     "data": {
      "text/plain": [
       "contb_receipt_dt\n",
       "2011-12-31    1.815070e+08\n",
       "2012-12-31    1.172456e+08\n",
       "Freq: YE-DEC, Name: contb_receipt_amt, dtype: float64"
      ]
     },
     "execution_count": 78,
     "metadata": {},
     "output_type": "execute_result"
    }
   ],
   "source": [
    "# 按照年分组\n",
    "temp.resample(\"Y\")[\"contb_receipt_amt\"].sum()"
   ]
  },
  {
   "cell_type": "code",
   "execution_count": 82,
   "id": "280f484c-ed9f-469a-9acf-cf62b52e19c5",
   "metadata": {},
   "outputs": [
    {
     "name": "stderr",
     "output_type": "stream",
     "text": [
      "/tmp/ipykernel_339925/1396481339.py:2: FutureWarning: 'M' is deprecated and will be removed in a future version, please use 'ME' instead.\n",
      "  temp.resample(\"M\")[\"contb_receipt_amt\"].sum().plot(kind='bar')\n"
     ]
    },
    {
     "data": {
      "text/plain": [
       "<Axes: xlabel='contb_receipt_dt'>"
      ]
     },
     "execution_count": 82,
     "metadata": {},
     "output_type": "execute_result"
    },
    {
     "data": {
      "image/png": "[encoded data removed]",
      "text/plain": [
       "<Figure size 640x480 with 1 Axes>"
      ]
     },
     "metadata": {},
     "output_type": "display_data"
    }
   ],
   "source": [
    "#Y表示年，M表示月，D表示日\n",
    "temp.resample(\"M\")[\"contb_receipt_amt\"].sum().plot(kind='bar')"
   ]
  },
  {
   "cell_type": "code",
   "execution_count": 74,
   "id": "198eb8b6-d0c9-4b4c-bdc3-c31f692ea017",
   "metadata": {},
   "outputs": [],
   "source": [
    "contbr.sort_values(\"contb_receipt_dt\",inplace=True)"
   ]
  },
  {
   "cell_type": "code",
   "execution_count": 75,
   "id": "b77bbfaa-667e-459a-a484-94ef84b8828f",
   "metadata": {},
   "outputs": [
    {
     "data": {
      "text/html": [
       "<div>\n",
       "<style scoped>\n",
       "    .dataframe tbody tr th:only-of-type {\n",
       "        vertical-align: middle;\n",
       "    }\n",
       "\n",
       "    .dataframe tbody tr th {\n",
       "        vertical-align: top;\n",
       "    }\n",
       "\n",
       "    .dataframe thead th {\n",
       "        text-align: right;\n",
       "    }\n",
       "</style>\n",
       "<table border=\"1\" class=\"dataframe\">\n",
       "  <thead>\n",
       "    <tr style=\"text-align: right;\">\n",
       "      <th></th>\n",
       "      <th>cand_nm</th>\n",
       "      <th>contbr_nm</th>\n",
       "      <th>contbr_st</th>\n",
       "      <th>contbr_employer</th>\n",
       "      <th>contbr_occupation</th>\n",
       "      <th>contb_receipt_amt</th>\n",
       "      <th>contb_receipt_dt</th>\n",
       "      <th>parties</th>\n",
       "    </tr>\n",
       "  </thead>\n",
       "  <tbody>\n",
       "    <tr>\n",
       "      <th>422062</th>\n",
       "      <td>Cain, Herman</td>\n",
       "      <td>TRIBBLE, JAMES</td>\n",
       "      <td>TX</td>\n",
       "      <td>NONE</td>\n",
       "      <td>RETIRED</td>\n",
       "      <td>1000.0</td>\n",
       "      <td>2011-01-01</td>\n",
       "      <td>Republican</td>\n",
       "    </tr>\n",
       "    <tr>\n",
       "      <th>422061</th>\n",
       "      <td>Cain, Herman</td>\n",
       "      <td>STOLTENBERG, WAYNE</td>\n",
       "      <td>TX</td>\n",
       "      <td>CINCO RESOURCES</td>\n",
       "      <td>CFO</td>\n",
       "      <td>5200.0</td>\n",
       "      <td>2011-01-01</td>\n",
       "      <td>Republican</td>\n",
       "    </tr>\n",
       "    <tr>\n",
       "      <th>423361</th>\n",
       "      <td>Cain, Herman</td>\n",
       "      <td>MAREK, JOHN</td>\n",
       "      <td>WI</td>\n",
       "      <td>INFORMATION REQUESTED</td>\n",
       "      <td>INFORMATION REQUESTED</td>\n",
       "      <td>2400.0</td>\n",
       "      <td>2011-01-01</td>\n",
       "      <td>Republican</td>\n",
       "    </tr>\n",
       "    <tr>\n",
       "      <th>422063</th>\n",
       "      <td>Cain, Herman</td>\n",
       "      <td>DAVIS, JEREMY S MR.</td>\n",
       "      <td>TX</td>\n",
       "      <td>INTL PETROLEUM ASSOC OF AMERICA</td>\n",
       "      <td>INVESTOR</td>\n",
       "      <td>2400.0</td>\n",
       "      <td>2011-01-03</td>\n",
       "      <td>Republican</td>\n",
       "    </tr>\n",
       "    <tr>\n",
       "      <th>423362</th>\n",
       "      <td>Cain, Herman</td>\n",
       "      <td>SIDNEY, SCOTT</td>\n",
       "      <td>WI</td>\n",
       "      <td>SELF EMPLOYED</td>\n",
       "      <td>CONTRACTOR</td>\n",
       "      <td>2400.0</td>\n",
       "      <td>2011-01-03</td>\n",
       "      <td>Republican</td>\n",
       "    </tr>\n",
       "    <tr>\n",
       "      <th>...</th>\n",
       "      <td>...</td>\n",
       "      <td>...</td>\n",
       "      <td>...</td>\n",
       "      <td>...</td>\n",
       "      <td>...</td>\n",
       "      <td>...</td>\n",
       "      <td>...</td>\n",
       "      <td>...</td>\n",
       "    </tr>\n",
       "    <tr>\n",
       "      <th>235916</th>\n",
       "      <td>Obama, Barack</td>\n",
       "      <td>BARRON, BROOKS</td>\n",
       "      <td>CO</td>\n",
       "      <td>PRINCETON UNIVERSITY</td>\n",
       "      <td>STUDENT</td>\n",
       "      <td>35.0</td>\n",
       "      <td>2012-04-30</td>\n",
       "      <td>Democrat</td>\n",
       "    </tr>\n",
       "    <tr>\n",
       "      <th>251126</th>\n",
       "      <td>Obama, Barack</td>\n",
       "      <td>DOUGLAS, LEON T.</td>\n",
       "      <td>DC</td>\n",
       "      <td>SELF-EMPLOYED</td>\n",
       "      <td>DEVELOPMENT ECONOMIST</td>\n",
       "      <td>50.0</td>\n",
       "      <td>2012-04-30</td>\n",
       "      <td>Democrat</td>\n",
       "    </tr>\n",
       "    <tr>\n",
       "      <th>109723</th>\n",
       "      <td>Obama, Barack</td>\n",
       "      <td>BUCKLEY, CHARLES JR.</td>\n",
       "      <td>AK</td>\n",
       "      <td>RETIRED</td>\n",
       "      <td>ELECTRICAL POWER PRODUCTION SPECIALIST</td>\n",
       "      <td>75.0</td>\n",
       "      <td>2012-04-30</td>\n",
       "      <td>Democrat</td>\n",
       "    </tr>\n",
       "    <tr>\n",
       "      <th>293695</th>\n",
       "      <td>Obama, Barack</td>\n",
       "      <td>WILLIAMS, RAFE</td>\n",
       "      <td>GA</td>\n",
       "      <td>DRAGA LABORATORIES, LLC</td>\n",
       "      <td>MANAGER</td>\n",
       "      <td>100.0</td>\n",
       "      <td>2012-04-30</td>\n",
       "      <td>Democrat</td>\n",
       "    </tr>\n",
       "    <tr>\n",
       "      <th>161154</th>\n",
       "      <td>Obama, Barack</td>\n",
       "      <td>HOUSEMAN, MARTIN P</td>\n",
       "      <td>CA</td>\n",
       "      <td>REFUSED</td>\n",
       "      <td>NaN</td>\n",
       "      <td>115.0</td>\n",
       "      <td>2012-04-30</td>\n",
       "      <td>Democrat</td>\n",
       "    </tr>\n",
       "  </tbody>\n",
       "</table>\n",
       "<p>1001733 rows × 8 columns</p>\n",
       "</div>"
      ],
      "text/plain": [
       "              cand_nm             contbr_nm contbr_st  \\\n",
       "422062   Cain, Herman        TRIBBLE, JAMES        TX   \n",
       "422061   Cain, Herman    STOLTENBERG, WAYNE        TX   \n",
       "423361   Cain, Herman           MAREK, JOHN        WI   \n",
       "422063   Cain, Herman   DAVIS, JEREMY S MR.        TX   \n",
       "423362   Cain, Herman         SIDNEY, SCOTT        WI   \n",
       "...               ...                   ...       ...   \n",
       "235916  Obama, Barack        BARRON, BROOKS        CO   \n",
       "251126  Obama, Barack      DOUGLAS, LEON T.        DC   \n",
       "109723  Obama, Barack  BUCKLEY, CHARLES JR.        AK   \n",
       "293695  Obama, Barack        WILLIAMS, RAFE        GA   \n",
       "161154  Obama, Barack    HOUSEMAN, MARTIN P        CA   \n",
       "\n",
       "                        contbr_employer  \\\n",
       "422062                             NONE   \n",
       "422061                  CINCO RESOURCES   \n",
       "423361            INFORMATION REQUESTED   \n",
       "422063  INTL PETROLEUM ASSOC OF AMERICA   \n",
       "423362                    SELF EMPLOYED   \n",
       "...                                 ...   \n",
       "235916             PRINCETON UNIVERSITY   \n",
       "251126                    SELF-EMPLOYED   \n",
       "109723                          RETIRED   \n",
       "293695          DRAGA LABORATORIES, LLC   \n",
       "161154                          REFUSED   \n",
       "\n",
       "                             contbr_occupation  contb_receipt_amt  \\\n",
       "422062                                 RETIRED             1000.0   \n",
       "422061                                     CFO             5200.0   \n",
       "423361                   INFORMATION REQUESTED             2400.0   \n",
       "422063                                INVESTOR             2400.0   \n",
       "423362                              CONTRACTOR             2400.0   \n",
       "...                                        ...                ...   \n",
       "235916                                 STUDENT               35.0   \n",
       "251126                   DEVELOPMENT ECONOMIST               50.0   \n",
       "109723  ELECTRICAL POWER PRODUCTION SPECIALIST               75.0   \n",
       "293695                                 MANAGER              100.0   \n",
       "161154                                     NaN              115.0   \n",
       "\n",
       "       contb_receipt_dt     parties  \n",
       "422062       2011-01-01  Republican  \n",
       "422061       2011-01-01  Republican  \n",
       "423361       2011-01-01  Republican  \n",
       "422063       2011-01-03  Republican  \n",
       "423362       2011-01-03  Republican  \n",
       "...                 ...         ...  \n",
       "235916       2012-04-30    Democrat  \n",
       "251126       2012-04-30    Democrat  \n",
       "109723       2012-04-30    Democrat  \n",
       "293695       2012-04-30    Democrat  \n",
       "161154       2012-04-30    Democrat  \n",
       "\n",
       "[1001733 rows x 8 columns]"
      ]
     },
     "execution_count": 75,
     "metadata": {},
     "output_type": "execute_result"
    }
   ],
   "source": [
    "contbr"
   ]
  },
  {
   "cell_type": "code",
   "execution_count": 89,
   "id": "973267da-e6c8-422a-a341-aaaeb0366dcf",
   "metadata": {},
   "outputs": [
    {
     "name": "stderr",
     "output_type": "stream",
     "text": [
      "/tmp/ipykernel_339925/3597539065.py:2: FutureWarning: 'Y' is deprecated and will be removed in a future version, please use 'YE' instead.\n",
      "  contbr.groupby([\"contb_receipt_dt\",\"parties\"])[\"contb_receipt_amt\"].sum().unstack(level=-1,fill_value=0).resample(\"Y\").sum().plot(kind='bar')\n"
     ]
    },
    {
     "data": {
      "text/plain": [
       "<Axes: xlabel='contb_receipt_dt'>"
      ]
     },
     "execution_count": 89,
     "metadata": {},
     "output_type": "execute_result"
    },
    {
     "data": {
      "image/png": "[encoded data removed]",
      "text/plain": [
       "<Figure size 640x480 with 1 Axes>"
      ]
     },
     "metadata": {},
     "output_type": "display_data"
    }
   ],
   "source": [
    "# 查看各个党派，每个月收入的政治献金总数\n",
    "contbr.groupby([\"contb_receipt_dt\",\"parties\"])[\"contb_receipt_amt\"].sum().unstack(level=-1,fill_value=0).resample(\"Y\").sum().plot(kind='bar')"
   ]
  },
  {
   "cell_type": "code",
   "execution_count": 92,
   "id": "ff4fc850-c429-4234-ae55-fe9165a14fb6",
   "metadata": {},
   "outputs": [
    {
     "name": "stderr",
     "output_type": "stream",
     "text": [
      "/tmp/ipykernel_339925/1024514804.py:2: FutureWarning: The provided callable <built-in function sum> is currently using DataFrameGroupBy.sum. In a future version of pandas, the provided callable will be used directly. To keep current behavior pass the string \"sum\" instead.\n",
      "  pd.pivot_table(contbr, index=\"contb_receipt_dt\",columns=\"parties\", values=\"contb_receipt_amt\",aggfunc=sum,fill_value=0).resample(\"M\").sum()\n",
      "/tmp/ipykernel_339925/1024514804.py:2: FutureWarning: 'M' is deprecated and will be removed in a future version, please use 'ME' instead.\n",
      "  pd.pivot_table(contbr, index=\"contb_receipt_dt\",columns=\"parties\", values=\"contb_receipt_amt\",aggfunc=sum,fill_value=0).resample(\"M\").sum()\n"
     ]
    },
    {
     "data": {
      "text/html": [
       "<div>\n",
       "<style scoped>\n",
       "    .dataframe tbody tr th:only-of-type {\n",
       "        vertical-align: middle;\n",
       "    }\n",
       "\n",
       "    .dataframe tbody tr th {\n",
       "        vertical-align: top;\n",
       "    }\n",
       "\n",
       "    .dataframe thead th {\n",
       "        text-align: right;\n",
       "    }\n",
       "</style>\n",
       "<table border=\"1\" class=\"dataframe\">\n",
       "  <thead>\n",
       "    <tr style=\"text-align: right;\">\n",
       "      <th>parties</th>\n",
       "      <th>Democrat</th>\n",
       "      <th>Libertarian</th>\n",
       "      <th>Reform</th>\n",
       "      <th>Republican</th>\n",
       "    </tr>\n",
       "    <tr>\n",
       "      <th>contb_receipt_dt</th>\n",
       "      <th></th>\n",
       "      <th></th>\n",
       "      <th></th>\n",
       "      <th></th>\n",
       "    </tr>\n",
       "  </thead>\n",
       "  <tbody>\n",
       "    <tr>\n",
       "      <th>2011-01-31</th>\n",
       "      <td>0.00</td>\n",
       "      <td>0.00</td>\n",
       "      <td>0.00</td>\n",
       "      <td>60100.00</td>\n",
       "    </tr>\n",
       "    <tr>\n",
       "      <th>2011-02-28</th>\n",
       "      <td>0.00</td>\n",
       "      <td>0.00</td>\n",
       "      <td>0.00</td>\n",
       "      <td>40035.00</td>\n",
       "    </tr>\n",
       "    <tr>\n",
       "      <th>2011-03-31</th>\n",
       "      <td>0.00</td>\n",
       "      <td>0.00</td>\n",
       "      <td>29890.00</td>\n",
       "      <td>527760.00</td>\n",
       "    </tr>\n",
       "    <tr>\n",
       "      <th>2011-04-30</th>\n",
       "      <td>8220580.79</td>\n",
       "      <td>22244.00</td>\n",
       "      <td>14575.00</td>\n",
       "      <td>3161961.81</td>\n",
       "    </tr>\n",
       "    <tr>\n",
       "      <th>2011-05-31</th>\n",
       "      <td>6537807.79</td>\n",
       "      <td>76807.41</td>\n",
       "      <td>7085.00</td>\n",
       "      <td>9506840.32</td>\n",
       "    </tr>\n",
       "    <tr>\n",
       "      <th>2011-06-30</th>\n",
       "      <td>11642949.35</td>\n",
       "      <td>36700.00</td>\n",
       "      <td>8985.00</td>\n",
       "      <td>13829763.99</td>\n",
       "    </tr>\n",
       "    <tr>\n",
       "      <th>2011-07-31</th>\n",
       "      <td>3417404.38</td>\n",
       "      <td>50870.00</td>\n",
       "      <td>31781.99</td>\n",
       "      <td>4361503.15</td>\n",
       "    </tr>\n",
       "    <tr>\n",
       "      <th>2011-08-31</th>\n",
       "      <td>4620007.79</td>\n",
       "      <td>53965.00</td>\n",
       "      <td>37084.00</td>\n",
       "      <td>11309359.86</td>\n",
       "    </tr>\n",
       "    <tr>\n",
       "      <th>2011-09-30</th>\n",
       "      <td>15166039.38</td>\n",
       "      <td>67645.00</td>\n",
       "      <td>56930.75</td>\n",
       "      <td>20948593.74</td>\n",
       "    </tr>\n",
       "    <tr>\n",
       "      <th>2011-10-31</th>\n",
       "      <td>5744942.44</td>\n",
       "      <td>32780.00</td>\n",
       "      <td>30782.05</td>\n",
       "      <td>11261199.11</td>\n",
       "    </tr>\n",
       "    <tr>\n",
       "      <th>2011-11-30</th>\n",
       "      <td>5076100.31</td>\n",
       "      <td>40015.48</td>\n",
       "      <td>30701.01</td>\n",
       "      <td>13144325.79</td>\n",
       "    </tr>\n",
       "    <tr>\n",
       "      <th>2011-12-31</th>\n",
       "      <td>13416086.82</td>\n",
       "      <td>32250.00</td>\n",
       "      <td>43404.00</td>\n",
       "      <td>18809163.03</td>\n",
       "    </tr>\n",
       "    <tr>\n",
       "      <th>2012-01-31</th>\n",
       "      <td>7984590.77</td>\n",
       "      <td>43847.54</td>\n",
       "      <td>47814.98</td>\n",
       "      <td>12904816.66</td>\n",
       "    </tr>\n",
       "    <tr>\n",
       "      <th>2012-02-29</th>\n",
       "      <td>15601893.59</td>\n",
       "      <td>26650.80</td>\n",
       "      <td>15793.00</td>\n",
       "      <td>17384000.77</td>\n",
       "    </tr>\n",
       "    <tr>\n",
       "      <th>2012-03-31</th>\n",
       "      <td>20582756.19</td>\n",
       "      <td>43108.93</td>\n",
       "      <td>9384.64</td>\n",
       "      <td>15904970.11</td>\n",
       "    </tr>\n",
       "    <tr>\n",
       "      <th>2012-04-30</th>\n",
       "      <td>15491631.85</td>\n",
       "      <td>40077.44</td>\n",
       "      <td>3246.12</td>\n",
       "      <td>11160991.21</td>\n",
       "    </tr>\n",
       "  </tbody>\n",
       "</table>\n",
       "</div>"
      ],
      "text/plain": [
       "parties              Democrat  Libertarian    Reform   Republican\n",
       "contb_receipt_dt                                                 \n",
       "2011-01-31               0.00         0.00      0.00     60100.00\n",
       "2011-02-28               0.00         0.00      0.00     40035.00\n",
       "2011-03-31               0.00         0.00  29890.00    527760.00\n",
       "2011-04-30         8220580.79     22244.00  14575.00   3161961.81\n",
       "2011-05-31         6537807.79     76807.41   7085.00   9506840.32\n",
       "2011-06-30        11642949.35     36700.00   8985.00  13829763.99\n",
       "2011-07-31         3417404.38     50870.00  31781.99   4361503.15\n",
       "2011-08-31         4620007.79     53965.00  37084.00  11309359.86\n",
       "2011-09-30        15166039.38     67645.00  56930.75  20948593.74\n",
       "2011-10-31         5744942.44     32780.00  30782.05  11261199.11\n",
       "2011-11-30         5076100.31     40015.48  30701.01  13144325.79\n",
       "2011-12-31        13416086.82     32250.00  43404.00  18809163.03\n",
       "2012-01-31         7984590.77     43847.54  47814.98  12904816.66\n",
       "2012-02-29        15601893.59     26650.80  15793.00  17384000.77\n",
       "2012-03-31        20582756.19     43108.93   9384.64  15904970.11\n",
       "2012-04-30        15491631.85     40077.44   3246.12  11160991.21"
      ]
     },
     "execution_count": 92,
     "metadata": {},
     "output_type": "execute_result"
    }
   ],
   "source": [
    "# 如果是2分组的逻辑，可以直接使用透视表解决\n",
    "pd.pivot_table(contbr, index=\"contb_receipt_dt\",columns=\"parties\", values=\"contb_receipt_amt\",aggfunc=sum,fill_value=0).resample(\"M\").sum()"
   ]
  },
  {
   "cell_type": "code",
   "execution_count": 95,
   "id": "861351a3-1244-401d-984f-ca0b43818027",
   "metadata": {},
   "outputs": [
    {
     "data": {
      "text/plain": [
       "Index(['cand_nm', 'contbr_nm', 'contbr_st', 'contbr_employer',\n",
       "       'contbr_occupation', 'contb_receipt_amt', 'contb_receipt_dt',\n",
       "       'parties'],\n",
       "      dtype='object')"
      ]
     },
     "execution_count": 95,
     "metadata": {},
     "output_type": "execute_result"
    }
   ],
   "source": [
    "contbr.columns"
   ]
  },
  {
   "cell_type": "code",
   "execution_count": 97,
   "id": "be8bd21f-7a97-4986-9a2d-d386cfe0e960",
   "metadata": {},
   "outputs": [
    {
     "data": {
      "text/plain": [
       "cand_nm\n",
       "Obama, Barack                     1.335028e+08\n",
       "Romney, Mitt                      8.521925e+07\n",
       "Paul, Ron                         2.072257e+07\n",
       "Perry, Rick                       1.841251e+07\n",
       "Gingrich, Newt                    1.201183e+07\n",
       "Santorum, Rick                    1.072809e+07\n",
       "Cain, Herman                      7.047265e+06\n",
       "Pawlenty, Timothy                 4.255054e+06\n",
       "Huntsman, Jon                     3.204350e+06\n",
       "Bachmann, Michelle                2.677435e+06\n",
       "Johnson, Gary Earl                5.669616e+05\n",
       "Roemer, Charles E. 'Buddy' III    3.674575e+05\n",
       "McCotter, Thaddeus G              3.703000e+04\n",
       "Name: contb_receipt_amt, dtype: float64"
      ]
     },
     "execution_count": 97,
     "metadata": {},
     "output_type": "execute_result"
    }
   ],
   "source": [
    "contbr.groupby(\"cand_nm\")[\"contb_receipt_amt\"].sum().sort_values(ascending=False)"
   ]
  },
  {
   "cell_type": "code",
   "execution_count": 98,
   "id": "beed4857-c9e9-4f93-a7d3-f2a24f7e6d59",
   "metadata": {},
   "outputs": [
    {
     "data": {
      "text/plain": [
       "<Axes: xlabel='cand_nm'>"
      ]
     },
     "execution_count": 98,
     "metadata": {},
     "output_type": "execute_result"
    },
    {
     "data": {
      "image/png": "[encoded data removed]",
      "text/plain": [
       "<Figure size 640x480 with 1 Axes>"
      ]
     },
     "metadata": {},
     "output_type": "display_data"
    }
   ],
   "source": [
    "contbr.groupby(\"cand_nm\")[\"contb_receipt_amt\"].sum().sort_values(ascending=False).plot(kind='bar')"
   ]
  },
  {
   "cell_type": "code",
   "execution_count": 101,
   "id": "d1e4a3f8-602f-4a7c-ab74-9904f8e098fd",
   "metadata": {},
   "outputs": [],
   "source": [
    "# 只关注最有竞争力的两个人\n",
    "good_man = contbr.groupby(\"cand_nm\")[\"contb_receipt_amt\"].sum().sort_values(ascending=False)[:2].index"
   ]
  },
  {
   "cell_type": "code",
   "execution_count": 104,
   "id": "fd06f879-6dfc-4fe9-8be5-0d45258c7357",
   "metadata": {},
   "outputs": [],
   "source": [
    "# 找出最有竞争力的两个人的条件\n",
    "condition = (contbr[\"cand_nm\"] == good_man[0])|(contbr[\"cand_nm\"]==good_man[1])"
   ]
  },
  {
   "cell_type": "code",
   "execution_count": 106,
   "id": "cdc0f08c-dd5c-4548-9517-80b8b8f07108",
   "metadata": {},
   "outputs": [],
   "source": [
    "good_contb = contbr.loc[condition]"
   ]
  },
  {
   "cell_type": "code",
   "execution_count": 107,
   "id": "772975b6-96ef-425c-ba0b-516184bea7fd",
   "metadata": {},
   "outputs": [
    {
     "data": {
      "text/plain": [
       "array(['Obama, Barack', 'Romney, Mitt'], dtype=object)"
      ]
     },
     "execution_count": 107,
     "metadata": {},
     "output_type": "execute_result"
    }
   ],
   "source": [
    "good_contb[\"cand_nm\"].unique()"
   ]
  },
  {
   "cell_type": "code",
   "execution_count": 110,
   "id": "8f938929-9d49-4c15-b3bc-bb9f0883f214",
   "metadata": {},
   "outputs": [],
   "source": [
    "amt_contb = good_contb.groupby([\"cand_nm\",\"contbr_occupation\"])[\"contb_receipt_amt\"].sum().unstack(level=-2)"
   ]
  },
  {
   "cell_type": "code",
   "execution_count": 112,
   "id": "49e7895d-4701-4444-a1fe-7f32e86f09f3",
   "metadata": {},
   "outputs": [
    {
     "data": {
      "text/plain": [
       "contbr_occupation\n",
       "RETIRED                    25270707.23\n",
       "ATTORNEY                   11126932.97\n",
       "INFORMATION REQUESTED       4849801.96\n",
       "HOMEMAKER                   4243394.30\n",
       "PHYSICIAN                   3732387.44\n",
       "                              ...     \n",
       "WUNDERMAN                          NaN\n",
       "YACHT BUILDER                      NaN\n",
       "YACHT CONSTRUCTION                 NaN\n",
       "YOUTH CARE WORKER                  NaN\n",
       "YOUTH OUTREACH DIRECTOR            NaN\n",
       "Name: Obama, Barack, Length: 33605, dtype: float64"
      ]
     },
     "execution_count": 112,
     "metadata": {},
     "output_type": "execute_result"
    }
   ],
   "source": [
    "amt_contb[\"Obama, Barack\"].sort_values(ascending=False)"
   ]
  },
  {
   "cell_type": "code",
   "execution_count": 113,
   "id": "48aedcc6-640d-418d-a840-454d6f7b87e6",
   "metadata": {},
   "outputs": [
    {
     "data": {
      "text/plain": [
       "contbr_occupation\n",
       "RETIRED                                   11266949.23\n",
       "INFORMATION REQUESTED PER BEST EFFORTS    11173374.84\n",
       "HOMEMAKER                                  8037250.86\n",
       "ATTORNEY                                   5302578.82\n",
       "PRESIDENT                                  2403439.77\n",
       "                                             ...     \n",
       "ZEPPOS AND ASSOCIATES                             NaN\n",
       "ZONE MANAGER                                      NaN\n",
       "ZOOKEEPER                                         NaN\n",
       "ZOOLOGIST                                         NaN\n",
       "ZOOLOGY EDUCATION                                 NaN\n",
       "Name: Romney, Mitt, Length: 33605, dtype: float64"
      ]
     },
     "execution_count": 113,
     "metadata": {},
     "output_type": "execute_result"
    }
   ],
   "source": [
    "amt_contb[\"Romney, Mitt\"].sort_values(ascending=False)"
   ]
  },
  {
   "cell_type": "code",
   "execution_count": 114,
   "id": "6a9f09a0-8cd5-4984-b986-4b67fba0fb4a",
   "metadata": {},
   "outputs": [
    {
     "data": {
      "text/plain": [
       "Index(['cand_nm', 'contbr_nm', 'contbr_st', 'contbr_employer',\n",
       "       'contbr_occupation', 'contb_receipt_amt', 'contb_receipt_dt',\n",
       "       'parties'],\n",
       "      dtype='object')"
      ]
     },
     "execution_count": 114,
     "metadata": {},
     "output_type": "execute_result"
    }
   ],
   "source": [
    "contbr.columns"
   ]
  },
  {
   "cell_type": "code",
   "execution_count": 115,
   "id": "387838ce-2e32-44dc-b3cd-f809c57a0efb",
   "metadata": {},
   "outputs": [
    {
     "data": {
      "text/plain": [
       "422062    False\n",
       "422061    False\n",
       "423361    False\n",
       "422063    False\n",
       "423362    False\n",
       "          ...  \n",
       "235916    False\n",
       "251126    False\n",
       "109723    False\n",
       "293695    False\n",
       "161154    False\n",
       "Name: contbr_occupation, Length: 1001733, dtype: bool"
      ]
     },
     "execution_count": 115,
     "metadata": {},
     "output_type": "execute_result"
    }
   ],
   "source": [
    "contbr[\"contbr_occupation\"]==\"DISABLED VETERAN\""
   ]
  },
  {
   "cell_type": "code",
   "execution_count": 123,
   "id": "d0585648-ecad-46d0-8bed-266f1754ca40",
   "metadata": {},
   "outputs": [
    {
     "data": {
      "text/html": [
       "<div>\n",
       "<style scoped>\n",
       "    .dataframe tbody tr th:only-of-type {\n",
       "        vertical-align: middle;\n",
       "    }\n",
       "\n",
       "    .dataframe tbody tr th {\n",
       "        vertical-align: top;\n",
       "    }\n",
       "\n",
       "    .dataframe thead th {\n",
       "        text-align: right;\n",
       "    }\n",
       "</style>\n",
       "<table border=\"1\" class=\"dataframe\">\n",
       "  <thead>\n",
       "    <tr style=\"text-align: right;\">\n",
       "      <th></th>\n",
       "      <th>cand_nm</th>\n",
       "      <th>contbr_nm</th>\n",
       "      <th>contbr_st</th>\n",
       "      <th>contbr_employer</th>\n",
       "      <th>contbr_occupation</th>\n",
       "      <th>contb_receipt_amt</th>\n",
       "      <th>contb_receipt_dt</th>\n",
       "      <th>parties</th>\n",
       "    </tr>\n",
       "  </thead>\n",
       "  <tbody>\n",
       "    <tr>\n",
       "      <th>402678</th>\n",
       "      <td>Obama, Barack</td>\n",
       "      <td>DEKLE, CHARLES R.</td>\n",
       "      <td>MD</td>\n",
       "      <td>RETIRED</td>\n",
       "      <td>DISABLED VETERAN</td>\n",
       "      <td>160.0</td>\n",
       "      <td>2011-04-27</td>\n",
       "      <td>Democrat</td>\n",
       "    </tr>\n",
       "    <tr>\n",
       "      <th>269432</th>\n",
       "      <td>Paul, Ron</td>\n",
       "      <td>THORNELL, GARY ENOS MR.</td>\n",
       "      <td>KY</td>\n",
       "      <td>NONE</td>\n",
       "      <td>DISABLED VETERAN</td>\n",
       "      <td>201.2</td>\n",
       "      <td>2011-06-05</td>\n",
       "      <td>Republican</td>\n",
       "    </tr>\n",
       "    <tr>\n",
       "      <th>411739</th>\n",
       "      <td>Cain, Herman</td>\n",
       "      <td>ANDERSON, JOSEPH</td>\n",
       "      <td>GA</td>\n",
       "      <td>NONE</td>\n",
       "      <td>DISABLED VETERAN</td>\n",
       "      <td>100.0</td>\n",
       "      <td>2011-06-18</td>\n",
       "      <td>Republican</td>\n",
       "    </tr>\n",
       "    <tr>\n",
       "      <th>402679</th>\n",
       "      <td>Obama, Barack</td>\n",
       "      <td>DEKLE, CHARLES R.</td>\n",
       "      <td>MD</td>\n",
       "      <td>RETIRED</td>\n",
       "      <td>DISABLED VETERAN</td>\n",
       "      <td>160.0</td>\n",
       "      <td>2011-06-23</td>\n",
       "      <td>Democrat</td>\n",
       "    </tr>\n",
       "    <tr>\n",
       "      <th>363743</th>\n",
       "      <td>Obama, Barack</td>\n",
       "      <td>BAUER, JOSEPH</td>\n",
       "      <td>KY</td>\n",
       "      <td>NOT EMPLOYED</td>\n",
       "      <td>DISABLED VETERAN</td>\n",
       "      <td>85.0</td>\n",
       "      <td>2011-07-08</td>\n",
       "      <td>Democrat</td>\n",
       "    </tr>\n",
       "    <tr>\n",
       "      <th>...</th>\n",
       "      <td>...</td>\n",
       "      <td>...</td>\n",
       "      <td>...</td>\n",
       "      <td>...</td>\n",
       "      <td>...</td>\n",
       "      <td>...</td>\n",
       "      <td>...</td>\n",
       "      <td>...</td>\n",
       "    </tr>\n",
       "    <tr>\n",
       "      <th>161441</th>\n",
       "      <td>Obama, Barack</td>\n",
       "      <td>PERITZ, EDWARD B</td>\n",
       "      <td>CA</td>\n",
       "      <td>RETIRED</td>\n",
       "      <td>DISABLED VETERAN</td>\n",
       "      <td>100.0</td>\n",
       "      <td>2012-04-30</td>\n",
       "      <td>Democrat</td>\n",
       "    </tr>\n",
       "    <tr>\n",
       "      <th>313913</th>\n",
       "      <td>Obama, Barack</td>\n",
       "      <td>ALLBEE, DWIGHT</td>\n",
       "      <td>IA</td>\n",
       "      <td>DISABLED</td>\n",
       "      <td>DISABLED VETERAN</td>\n",
       "      <td>25.0</td>\n",
       "      <td>2012-04-30</td>\n",
       "      <td>Democrat</td>\n",
       "    </tr>\n",
       "    <tr>\n",
       "      <th>73422</th>\n",
       "      <td>Obama, Barack</td>\n",
       "      <td>ROBERTS, GORDON</td>\n",
       "      <td>OR</td>\n",
       "      <td>NOT EMPLOYED</td>\n",
       "      <td>DISABLED VETERAN</td>\n",
       "      <td>40.0</td>\n",
       "      <td>2012-04-30</td>\n",
       "      <td>Democrat</td>\n",
       "    </tr>\n",
       "    <tr>\n",
       "      <th>466029</th>\n",
       "      <td>Obama, Barack</td>\n",
       "      <td>RORIE, FOREST</td>\n",
       "      <td>NC</td>\n",
       "      <td>DISABLED</td>\n",
       "      <td>DISABLED VETERAN</td>\n",
       "      <td>20.0</td>\n",
       "      <td>2012-04-30</td>\n",
       "      <td>Democrat</td>\n",
       "    </tr>\n",
       "    <tr>\n",
       "      <th>236287</th>\n",
       "      <td>Obama, Barack</td>\n",
       "      <td>MCNAMARA, GREGORY</td>\n",
       "      <td>CO</td>\n",
       "      <td>RETIRED</td>\n",
       "      <td>DISABLED VETERAN</td>\n",
       "      <td>35.0</td>\n",
       "      <td>2012-04-30</td>\n",
       "      <td>Democrat</td>\n",
       "    </tr>\n",
       "  </tbody>\n",
       "</table>\n",
       "<p>154 rows × 8 columns</p>\n",
       "</div>"
      ],
      "text/plain": [
       "              cand_nm                contbr_nm contbr_st contbr_employer  \\\n",
       "402678  Obama, Barack        DEKLE, CHARLES R.        MD         RETIRED   \n",
       "269432      Paul, Ron  THORNELL, GARY ENOS MR.        KY            NONE   \n",
       "411739   Cain, Herman         ANDERSON, JOSEPH        GA            NONE   \n",
       "402679  Obama, Barack        DEKLE, CHARLES R.        MD         RETIRED   \n",
       "363743  Obama, Barack            BAUER, JOSEPH        KY    NOT EMPLOYED   \n",
       "...               ...                      ...       ...             ...   \n",
       "161441  Obama, Barack         PERITZ, EDWARD B        CA         RETIRED   \n",
       "313913  Obama, Barack           ALLBEE, DWIGHT        IA        DISABLED   \n",
       "73422   Obama, Barack          ROBERTS, GORDON        OR    NOT EMPLOYED   \n",
       "466029  Obama, Barack            RORIE, FOREST        NC        DISABLED   \n",
       "236287  Obama, Barack        MCNAMARA, GREGORY        CO         RETIRED   \n",
       "\n",
       "       contbr_occupation  contb_receipt_amt contb_receipt_dt     parties  \n",
       "402678  DISABLED VETERAN              160.0       2011-04-27    Democrat  \n",
       "269432  DISABLED VETERAN              201.2       2011-06-05  Republican  \n",
       "411739  DISABLED VETERAN              100.0       2011-06-18  Republican  \n",
       "402679  DISABLED VETERAN              160.0       2011-06-23    Democrat  \n",
       "363743  DISABLED VETERAN               85.0       2011-07-08    Democrat  \n",
       "...                  ...                ...              ...         ...  \n",
       "161441  DISABLED VETERAN              100.0       2012-04-30    Democrat  \n",
       "313913  DISABLED VETERAN               25.0       2012-04-30    Democrat  \n",
       "73422   DISABLED VETERAN               40.0       2012-04-30    Democrat  \n",
       "466029  DISABLED VETERAN               20.0       2012-04-30    Democrat  \n",
       "236287  DISABLED VETERAN               35.0       2012-04-30    Democrat  \n",
       "\n",
       "[154 rows x 8 columns]"
      ]
     },
     "execution_count": 123,
     "metadata": {},
     "output_type": "execute_result"
    }
   ],
   "source": [
    "# 也可以使用query语句\n",
    "contbr.query('contbr_occupation==\"DISABLED VETERAN\"')"
   ]
  },
  {
   "cell_type": "code",
   "execution_count": 117,
   "id": "5db8f4be-31b2-4351-9d3b-3923439132a9",
   "metadata": {},
   "outputs": [],
   "source": [
    "# 过滤出老兵的数据\n",
    "veteran= contbr.loc[contbr[\"contbr_occupation\"]==\"DISABLED VETERAN\"]"
   ]
  },
  {
   "cell_type": "code",
   "execution_count": 120,
   "id": "ed3e6c4d-609c-4cee-95f1-6c60083b9024",
   "metadata": {},
   "outputs": [
    {
     "data": {
      "text/plain": [
       "cand_nm\n",
       "Obama, Barack                     97\n",
       "Paul, Ron                         46\n",
       "Santorum, Rick                     6\n",
       "Cain, Herman                       3\n",
       "Roemer, Charles E. 'Buddy' III     1\n",
       "Gingrich, Newt                     1\n",
       "Name: count, dtype: int64"
      ]
     },
     "execution_count": 120,
     "metadata": {},
     "output_type": "execute_result"
    }
   ],
   "source": [
    "# 从数量上看老兵支持谁\n",
    "veteran[\"cand_nm\"].value_counts()"
   ]
  },
  {
   "cell_type": "code",
   "execution_count": 122,
   "id": "b147a93a-2298-45c1-a623-9216b8c661a2",
   "metadata": {},
   "outputs": [
    {
     "data": {
      "text/plain": [
       "cand_nm\n",
       "Obama, Barack                     9174.98\n",
       "Paul, Ron                         4439.10\n",
       "Santorum, Rick                     550.00\n",
       "Cain, Herman                       300.00\n",
       "Gingrich, Newt                     250.00\n",
       "Roemer, Charles E. 'Buddy' III     100.00\n",
       "Name: contb_receipt_amt, dtype: float64"
      ]
     },
     "execution_count": 122,
     "metadata": {},
     "output_type": "execute_result"
    }
   ],
   "source": [
    "# 从政治献金额度上看老兵支持谁\n",
    "veteran.groupby(\"cand_nm\")[\"contb_receipt_amt\"].sum().sort_values(ascending=False)"
   ]
  },
  {
   "cell_type": "code",
   "execution_count": 124,
   "id": "58a499ee-01db-46bc-8b32-3db5d8656573",
   "metadata": {},
   "outputs": [
    {
     "data": {
      "text/html": [
       "<div>\n",
       "<style scoped>\n",
       "    .dataframe tbody tr th:only-of-type {\n",
       "        vertical-align: middle;\n",
       "    }\n",
       "\n",
       "    .dataframe tbody tr th {\n",
       "        vertical-align: top;\n",
       "    }\n",
       "\n",
       "    .dataframe thead th {\n",
       "        text-align: right;\n",
       "    }\n",
       "</style>\n",
       "<table border=\"1\" class=\"dataframe\">\n",
       "  <thead>\n",
       "    <tr style=\"text-align: right;\">\n",
       "      <th></th>\n",
       "      <th>cand_nm</th>\n",
       "      <th>contbr_nm</th>\n",
       "      <th>contbr_st</th>\n",
       "      <th>contbr_employer</th>\n",
       "      <th>contbr_occupation</th>\n",
       "      <th>contb_receipt_amt</th>\n",
       "      <th>contb_receipt_dt</th>\n",
       "      <th>parties</th>\n",
       "    </tr>\n",
       "  </thead>\n",
       "  <tbody>\n",
       "    <tr>\n",
       "      <th>402678</th>\n",
       "      <td>Obama, Barack</td>\n",
       "      <td>DEKLE, CHARLES R.</td>\n",
       "      <td>MD</td>\n",
       "      <td>RETIRED</td>\n",
       "      <td>DISABLED VETERAN</td>\n",
       "      <td>160.0</td>\n",
       "      <td>2011-04-27</td>\n",
       "      <td>Democrat</td>\n",
       "    </tr>\n",
       "    <tr>\n",
       "      <th>269432</th>\n",
       "      <td>Paul, Ron</td>\n",
       "      <td>THORNELL, GARY ENOS MR.</td>\n",
       "      <td>KY</td>\n",
       "      <td>NONE</td>\n",
       "      <td>DISABLED VETERAN</td>\n",
       "      <td>201.2</td>\n",
       "      <td>2011-06-05</td>\n",
       "      <td>Republican</td>\n",
       "    </tr>\n",
       "    <tr>\n",
       "      <th>411739</th>\n",
       "      <td>Cain, Herman</td>\n",
       "      <td>ANDERSON, JOSEPH</td>\n",
       "      <td>GA</td>\n",
       "      <td>NONE</td>\n",
       "      <td>DISABLED VETERAN</td>\n",
       "      <td>100.0</td>\n",
       "      <td>2011-06-18</td>\n",
       "      <td>Republican</td>\n",
       "    </tr>\n",
       "    <tr>\n",
       "      <th>402679</th>\n",
       "      <td>Obama, Barack</td>\n",
       "      <td>DEKLE, CHARLES R.</td>\n",
       "      <td>MD</td>\n",
       "      <td>RETIRED</td>\n",
       "      <td>DISABLED VETERAN</td>\n",
       "      <td>160.0</td>\n",
       "      <td>2011-06-23</td>\n",
       "      <td>Democrat</td>\n",
       "    </tr>\n",
       "    <tr>\n",
       "      <th>363743</th>\n",
       "      <td>Obama, Barack</td>\n",
       "      <td>BAUER, JOSEPH</td>\n",
       "      <td>KY</td>\n",
       "      <td>NOT EMPLOYED</td>\n",
       "      <td>DISABLED VETERAN</td>\n",
       "      <td>85.0</td>\n",
       "      <td>2011-07-08</td>\n",
       "      <td>Democrat</td>\n",
       "    </tr>\n",
       "    <tr>\n",
       "      <th>...</th>\n",
       "      <td>...</td>\n",
       "      <td>...</td>\n",
       "      <td>...</td>\n",
       "      <td>...</td>\n",
       "      <td>...</td>\n",
       "      <td>...</td>\n",
       "      <td>...</td>\n",
       "      <td>...</td>\n",
       "    </tr>\n",
       "    <tr>\n",
       "      <th>161441</th>\n",
       "      <td>Obama, Barack</td>\n",
       "      <td>PERITZ, EDWARD B</td>\n",
       "      <td>CA</td>\n",
       "      <td>RETIRED</td>\n",
       "      <td>DISABLED VETERAN</td>\n",
       "      <td>100.0</td>\n",
       "      <td>2012-04-30</td>\n",
       "      <td>Democrat</td>\n",
       "    </tr>\n",
       "    <tr>\n",
       "      <th>313913</th>\n",
       "      <td>Obama, Barack</td>\n",
       "      <td>ALLBEE, DWIGHT</td>\n",
       "      <td>IA</td>\n",
       "      <td>DISABLED</td>\n",
       "      <td>DISABLED VETERAN</td>\n",
       "      <td>25.0</td>\n",
       "      <td>2012-04-30</td>\n",
       "      <td>Democrat</td>\n",
       "    </tr>\n",
       "    <tr>\n",
       "      <th>73422</th>\n",
       "      <td>Obama, Barack</td>\n",
       "      <td>ROBERTS, GORDON</td>\n",
       "      <td>OR</td>\n",
       "      <td>NOT EMPLOYED</td>\n",
       "      <td>DISABLED VETERAN</td>\n",
       "      <td>40.0</td>\n",
       "      <td>2012-04-30</td>\n",
       "      <td>Democrat</td>\n",
       "    </tr>\n",
       "    <tr>\n",
       "      <th>466029</th>\n",
       "      <td>Obama, Barack</td>\n",
       "      <td>RORIE, FOREST</td>\n",
       "      <td>NC</td>\n",
       "      <td>DISABLED</td>\n",
       "      <td>DISABLED VETERAN</td>\n",
       "      <td>20.0</td>\n",
       "      <td>2012-04-30</td>\n",
       "      <td>Democrat</td>\n",
       "    </tr>\n",
       "    <tr>\n",
       "      <th>236287</th>\n",
       "      <td>Obama, Barack</td>\n",
       "      <td>MCNAMARA, GREGORY</td>\n",
       "      <td>CO</td>\n",
       "      <td>RETIRED</td>\n",
       "      <td>DISABLED VETERAN</td>\n",
       "      <td>35.0</td>\n",
       "      <td>2012-04-30</td>\n",
       "      <td>Democrat</td>\n",
       "    </tr>\n",
       "  </tbody>\n",
       "</table>\n",
       "<p>154 rows × 8 columns</p>\n",
       "</div>"
      ],
      "text/plain": [
       "              cand_nm                contbr_nm contbr_st contbr_employer  \\\n",
       "402678  Obama, Barack        DEKLE, CHARLES R.        MD         RETIRED   \n",
       "269432      Paul, Ron  THORNELL, GARY ENOS MR.        KY            NONE   \n",
       "411739   Cain, Herman         ANDERSON, JOSEPH        GA            NONE   \n",
       "402679  Obama, Barack        DEKLE, CHARLES R.        MD         RETIRED   \n",
       "363743  Obama, Barack            BAUER, JOSEPH        KY    NOT EMPLOYED   \n",
       "...               ...                      ...       ...             ...   \n",
       "161441  Obama, Barack         PERITZ, EDWARD B        CA         RETIRED   \n",
       "313913  Obama, Barack           ALLBEE, DWIGHT        IA        DISABLED   \n",
       "73422   Obama, Barack          ROBERTS, GORDON        OR    NOT EMPLOYED   \n",
       "466029  Obama, Barack            RORIE, FOREST        NC        DISABLED   \n",
       "236287  Obama, Barack        MCNAMARA, GREGORY        CO         RETIRED   \n",
       "\n",
       "       contbr_occupation  contb_receipt_amt contb_receipt_dt     parties  \n",
       "402678  DISABLED VETERAN              160.0       2011-04-27    Democrat  \n",
       "269432  DISABLED VETERAN              201.2       2011-06-05  Republican  \n",
       "411739  DISABLED VETERAN              100.0       2011-06-18  Republican  \n",
       "402679  DISABLED VETERAN              160.0       2011-06-23    Democrat  \n",
       "363743  DISABLED VETERAN               85.0       2011-07-08    Democrat  \n",
       "...                  ...                ...              ...         ...  \n",
       "161441  DISABLED VETERAN              100.0       2012-04-30    Democrat  \n",
       "313913  DISABLED VETERAN               25.0       2012-04-30    Democrat  \n",
       "73422   DISABLED VETERAN               40.0       2012-04-30    Democrat  \n",
       "466029  DISABLED VETERAN               20.0       2012-04-30    Democrat  \n",
       "236287  DISABLED VETERAN               35.0       2012-04-30    Democrat  \n",
       "\n",
       "[154 rows x 8 columns]"
      ]
     },
     "execution_count": 124,
     "metadata": {},
     "output_type": "execute_result"
    }
   ],
   "source": [
    "veteran"
   ]
  },
  {
   "cell_type": "code",
   "execution_count": null,
   "id": "ad65f2bf-996d-4ab1-b906-9f147177de62",
   "metadata": {},
   "outputs": [],
   "source": []
  }
 ],
 "metadata": {
  "kernelspec": {
   "display_name": "Python 3 (ipykernel)",
   "language": "python",
   "name": "python3"
  },
  "language_info": {
   "codemirror_mode": {
    "name": "ipython",
    "version": 3
   },
   "file_extension": ".py",
   "mimetype": "text/x-python",
   "name": "python",
   "nbconvert_exporter": "python",
   "pygments_lexer": "ipython3",
   "version": "3.12.4"
  }
 },
 "nbformat": 4,
 "nbformat_minor": 5
}
